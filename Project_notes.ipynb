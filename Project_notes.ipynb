{
 "cells": [
  {
   "cell_type": "markdown",
   "id": "f48c8ef7-3a8e-449a-a23a-32615bda0f2f",
   "metadata": {},
   "source": [
    "# Implementing dimensionless units"
   ]
  },
  {
   "cell_type": "markdown",
   "id": "f8d6c392-6246-4829-be2f-079eb9c5cd8e",
   "metadata": {},
   "source": [
    "This section is focused on indentifying the natural units and converting the parameters to dimensionless units "
   ]
  },
  {
   "cell_type": "markdown",
   "id": "84c7d266-5de7-4b91-8c27-22e812117a56",
   "metadata": {},
   "source": [
    "We first focus on the impingement, evaporation and surface migration rate. These rates have been defined as\n",
    "\\begin{equation}\n",
    "    \\begin{split}\n",
    "        k^{+} &= \\mathrm{exp}\\left(\\Delta \\mu / k_{B} T \\right),\\\\\n",
    "        k_{n}^{-} &= \\nu \\, \\mathrm{exp}\\left( n \\varphi / k_{B} T \\right),\\\\\n",
    "        k_{nm} &= \\frac{1}{8} \\nu \\, \\mathrm{exp}\\left\\{- \\left[ E_{\\mathrm{sd}} (n,m) + \\Delta E (n,m) \\right] / k_{B} T \\right\\},\n",
    "    \\end{split}\n",
    "\\end{equation}\n",
    "respectively.\\\n",
    "The natural units in these three equations are:\n",
    "- The frequency factor $\\nu$ which represents the frequency at which collisions occur.\n",
    "- The Boltzmann constant $k_{B}$.\n",
    "- The energy required to break the bond with one neighbor $\\varphi$."
   ]
  },
  {
   "cell_type": "markdown",
   "id": "f60a6c13-cde6-4573-89cd-c3d562a29996",
   "metadata": {},
   "source": [
    "From these equations we can create the following dimensionless parameters\n",
    "\\begin{equation}\n",
    "    \\tilde{k} = \\frac{k}{\\nu}, \\qquad \\qquad \\tilde{T} = \\frac{k_{B}}{\\varphi} T, \\qquad \\qquad \\tilde{\\mu} = \\frac{\\mu}{\\varphi}, \\qquad \\qquad \\tilde{E} = \\frac{E}{\\varphi}.\n",
    "\\end{equation}\n",
    "The dimensionless impingement, evaporation and surface migration rate will then become\n",
    "\\begin{equation}\n",
    "    \\begin{split}\n",
    "        \\tilde{k}^{+} &= \\mathrm{exp}\\left(\\Delta \\tilde{\\mu} / \\tilde{T} \\right),\\\\\n",
    "        \\tilde{k}_{n}^{-} &= \\mathrm{exp}\\left( n / \\tilde{T} \\right),\\\\\n",
    "        \\tilde{k}_{nm} &= \\frac{1}{8} \\mathrm{exp}\\left\\{- \\left[ \\tilde{E}_{\\mathrm{sd}} (n,m) + \\Delta \\tilde{E} (n,m) \\right] / \\tilde{T} \\right\\},\n",
    "    \\end{split}\n",
    "\\end{equation}"
   ]
  },
  {
   "cell_type": "markdown",
   "id": "93e13970-bab4-4c03-9f7d-7c4589374fc9",
   "metadata": {},
   "source": [
    "The activation energy $E_{sd}$ is specified as\n",
    "\\begin{equation}\n",
    "    E_\\mathrm{sd} (n,m) = \\begin{cases} \\varphi/2, & \\mbox{if either } m = 1 \\mbox{ or } n = 1 \\\\ 3 \\varphi / 2, & \\mbox{if } n \\mbox{ and } m>1, \\mbox{ and either } m=2 \\mbox{ or } n=2, \\\\ 5 \\varphi /2, & \\mbox{if } n \\mbox{ and } m>2, \\end{cases}\n",
    "\\end{equation}\n",
    "and the $\\textbf{other}$ energy $\\Delta E$ is specified as\n",
    "\\begin{equation}\n",
    "    \\Delta E (n,m) = \\begin{cases} (n-m)\\varphi & \\mbox{if } m \\leq n, \\\\ 0 & \\mbox{if } m>n. \\end{cases}\n",
    "\\end{equation}"
   ]
  },
  {
   "cell_type": "markdown",
   "id": "40a85224-f198-405c-83c8-98b373c54a8b",
   "metadata": {},
   "source": [
    "Converting these energies into dimensionless units will give\n",
    "\\begin{equation}\n",
    "    \\begin{split}\n",
    "        \\tilde{E}_\\mathrm{sd} (n,m) &= \\begin{cases} 1/2, & \\mbox{if either } m = 1 \\mbox{ or } n = 1 \\\\ 3 / 2, & \\mbox{if } n \\mbox{ and } m>1, \\mbox{ and either } m=2 \\mbox{ or } n=2, \\\\ 5 /2, & \\mbox{if } n \\mbox{ and } m>2, \\end{cases}\\\\\n",
    "        \\\\\n",
    "        \\Delta \\tilde{E} (n,m) &= \\begin{cases} n-m & \\mbox{if } m \\leq n, \\\\ 0 & \\mbox{if } m>n. \\end{cases}\n",
    "    \\end{split}\n",
    "\\end{equation}"
   ]
  },
  {
   "cell_type": "markdown",
   "id": "1ae24497-ee14-4d27-8209-506ed6f53755",
   "metadata": {},
   "source": [
    "# Growth rate"
   ]
  },
  {
   "cell_type": "markdown",
   "id": "765ba3f3-b3d6-497b-95b9-42b02be2008e",
   "metadata": {},
   "source": [
    "$\\textbf{The growth rate is one of the observables that we can investigate in our simulation.}$"
   ]
  },
  {
   "cell_type": "markdown",
   "id": "dfaae8b7-acf3-4ee9-b52b-c9c21006f146",
   "metadata": {},
   "source": [
    "The growth rate resulting from the spiral mechanism alone is\n",
    "\\begin{equation}\n",
    "    \\frac{R}{k^{+}d} = \\frac{0.053 b \\Delta \\mu [1 - \\mathrm{exp} (-\\Delta \\mu /k_{B}T)]}{\\varphi / 2 k_{B} T - \\ln[\\coth(\\varphi / 4 k_{b} T)]}.\n",
    "\\end{equation}\n",
    "Here $b$ represents the magnitude of the Burgers vector of the dislocation pair in units of the layer spacing, and $d$ is the layer spacing."
   ]
  },
  {
   "cell_type": "markdown",
   "id": "fdf040c4-96e2-4e6e-b10a-847aecfd912c",
   "metadata": {},
   "source": [
    "In dimensionless units ????\n",
    "\\begin{equation}\n",
    "    \\frac{R}{k^{+}d}=\\frac{\\tilde{R}}{\\tilde{k}^{+}d} = \\frac{0.053 b \\Delta \\mu [1 - \\mathrm{exp} (-\\Delta \\tilde{\\mu} /\\tilde{T})]}{1 / 2 \\tilde{T} - \\ln[\\coth(1 / 4 \\tilde{T})]}.\n",
    "\\end{equation}"
   ]
  },
  {
   "cell_type": "markdown",
   "id": "f687e7a8-a1fb-4e8b-a1ca-75761d6c15cb",
   "metadata": {},
   "source": [
    "The growth rate of a perfect crystal is\n",
    "\\begin{equation}\n",
    "    \\frac{R}{k^{+}d} = \\left( \\frac{\\pi}{3} \\right)^{1/3} \\left( \\frac{\\Delta \\mu}{k_{B} T} \\right)^{1/6} \\left[ 1 - \\mathrm{exp} \\left( \\frac{- \\Delta \\mu}{k_{B} T} \\right) \\right]^{2/3} \\mathrm{exp} \\left( \\frac{- 4 \\gamma^2}{3 k_{B} T \\Delta \\mu} \\right)\n",
    "\\end{equation}\n",
    "Here $\\gamma$ represents the extra free energy of an atom at the edge of the cluster. Cluster refers to a cluster of adatoms."
   ]
  },
  {
   "cell_type": "markdown",
   "id": "a0030e38-2730-44b3-a837-3aed50d88a54",
   "metadata": {},
   "source": [
    "In dimensionless units ????\n",
    "\\begin{equation}\n",
    "    \\frac{R}{k^{+}d} = \\left( \\frac{\\pi}{3} \\right)^{1/3} \\left( \\frac{\\Delta \\tilde{\\mu}}{\\tilde{T}} \\right)^{1/6} \\left[ 1 - \\mathrm{exp} \\left( \\frac{- \\Delta \\tilde{\\mu}}{\\tilde{T}} \\right) \\right]^{2/3} \\mathrm{exp} \\left( \\frac{- 4 \\tilde{\\gamma}^2}{3 \\tilde{T} \\Delta \\tilde{\\mu}} \\right)\n",
    "\\end{equation}"
   ]
  },
  {
   "cell_type": "markdown",
   "id": "b92b362f-78bf-4029-9fda-71dbe8c28757",
   "metadata": {},
   "source": [
    "# Nucleation and critical clusters"
   ]
  },
  {
   "cell_type": "markdown",
   "id": "f0e69a9b-ceb1-4552-8555-bb1cad68cf35",
   "metadata": {
    "tags": []
   },
   "source": [
    "Quote from paper:\n",
    "\n",
    "-----------------------------------------\n",
    "$\\textit{\"In the absence of nucleation, the probability of finding a cluster of $n$ atoms on a paticular site is}$\n",
    "\\begin{equation}\n",
    "    p_n \\cong \\mathrm{exp}(- G_{n}/k_{B}T),\n",
    "\\end{equation}\n",
    "$\\textit{where}$\n",
    "\\begin{equation}\n",
    "    G_n \\cong 4 \\gamma \\sqrt{n} - n \\Delta \\mu,\n",
    "\\end{equation}\n",
    "$\\textit{is the extra free energy after the formation of a cluster of n atoms on a}$ (001) $\\textit{surface.}$\\\n",
    "$\\textit{The rate of formation of 2D nuclei at a site is}$\n",
    "\\begin{equation}\n",
    "    J = Z \\Gamma_{n^{*}} p_{n^{*}}.\n",
    "\\end{equation}\n",
    "$\\textit{Here $n^{*}$ represents the number of atoms in a critical cluster, and it is the value of $n$ which yields the maximum $G_{n}$.\"}$\n",
    "\n",
    "-----------------------------------------\n",
    "Therefore, the value of $n^{*}$ is determined by\n",
    "\\begin{equation}\n",
    "    \\left.\\frac{d G_n}{dn}\\right\\vert_{n^{*}} = \\frac{4 \\gamma}{\\sqrt{n^{*}}} - \\Delta \\mu = 0\n",
    "\\end{equation}\n",
    "The number of atoms in a critical cluster is therefore $n^{*} = 16\\left(\\frac{\\gamma}{\\Delta \\mu}\\right)^2$.\\\n",
    "\\\n",
    "This result is consistent with figure 2 from the paper. It shows that for larger values of $\\Delta \\mu$ the growthrate $R/k^{+}d$ increases. The result from the equation shows that for larger values of $\\Delta \\mu$ the number of atoms in a critical cluster $n^{*}$ decreases. This is consisten with figure 2 because smaller values for $n^{*}$ indicate that smaller clusters will be sustainable (and grow)."
   ]
  },
  {
   "cell_type": "markdown",
   "id": "ccbe3649-3a2f-4027-8e23-42dc2d620bc4",
   "metadata": {},
   "source": []
  },
  {
   "cell_type": "code",
   "execution_count": null,
   "id": "d314d7cb-ba9b-41f2-b1da-11290e3ffc40",
   "metadata": {},
   "outputs": [],
   "source": []
  }
 ],
 "metadata": {
  "kernelspec": {
   "display_name": "Python 3 (ipykernel)",
   "language": "python",
   "name": "python3"
  },
  "language_info": {
   "codemirror_mode": {
    "name": "ipython",
    "version": 3
   },
   "file_extension": ".py",
   "mimetype": "text/x-python",
   "name": "python",
   "nbconvert_exporter": "python",
   "pygments_lexer": "ipython3",
   "version": "3.9.7"
  }
 },
 "nbformat": 4,
 "nbformat_minor": 5
}
