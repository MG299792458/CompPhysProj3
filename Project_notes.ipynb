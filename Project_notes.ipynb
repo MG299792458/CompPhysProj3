{
 "cells": [
  {
   "cell_type": "markdown",
   "id": "f48c8ef7-3a8e-449a-a23a-32615bda0f2f",
   "metadata": {},
   "source": [
    "# Implementing dimensionless units"
   ]
  },
  {
   "cell_type": "markdown",
   "id": "f8d6c392-6246-4829-be2f-079eb9c5cd8e",
   "metadata": {},
   "source": [
    "This section is focused on indentifying the natural units and converting the parameters to dimensionless units "
   ]
  },
  {
   "cell_type": "markdown",
   "id": "84c7d266-5de7-4b91-8c27-22e812117a56",
   "metadata": {},
   "source": [
    "We first focus on the impingement, evaporation and surface migration rate. These rates have been defined as\n",
    "\\begin{equation}\n",
    "    \\begin{split}\n",
    "        k^{+} &= \\mathrm{exp}\\left(\\Delta \\mu / k_{B} T \\right),\\\\\n",
    "        k_{n}^{-} &= \\nu \\, \\mathrm{exp}\\left( n \\varphi / k_{B} T \\right),\\\\\n",
    "        k_{nm} &= \\frac{1}{8} \\nu \\, \\mathrm{exp}\\left\\{- \\left[ E_{\\mathrm{sd}} (n,m) + \\Delta E (n,m) \\right] / k_{B} T \\right\\},\n",
    "    \\end{split}\n",
    "\\end{equation}\n",
    "respectively.\\\n",
    "The natural units in these three equations are:\n",
    "- The frequency factor $\\nu$ which represents the frequency at which collisions occur.\n",
    "- The Boltzmann constant $k_{B}$.\n",
    "- The energy required to break the bond with one neighbor $\\varphi$."
   ]
  },
  {
   "cell_type": "markdown",
   "id": "f60a6c13-cde6-4573-89cd-c3d562a29996",
   "metadata": {},
   "source": [
    "From these equations we can create the following dimensionless parameters\n",
    "\\begin{equation}\n",
    "    \\tilde{k} = \\frac{k}{\\nu}, \\qquad \\qquad \\tilde{T} = \\frac{\\varphi}{k_{B}} T, \\qquad \\qquad \\tilde{\\mu} = \\frac{\\mu}{\\varphi}, \\qquad \\qquad \\tilde{E} = \\frac{E}{\\varphi}.\n",
    "\\end{equation}\n",
    "The dimensionless impingement, evaporation and surface migration rate will then become\n",
    "\\begin{equation}\n",
    "    \\begin{split}\n",
    "        \\tilde{k}^{+} &= \\mathrm{exp}\\left(\\Delta \\tilde{\\mu} / \\tilde{T} \\right),\\\\\n",
    "        \\tilde{k}_{n}^{-} &= \\mathrm{exp}\\left( n / \\tilde{T} \\right),\\\\\n",
    "        \\tilde{k}_{nm} &= \\frac{1}{8} \\mathrm{exp}\\left\\{- \\left[ \\tilde{E}_{\\mathrm{sd}} (n,m) + \\Delta \\tilde{E} (n,m) \\right] / \\tilde{T} \\right\\},\n",
    "    \\end{split}\n",
    "\\end{equation}"
   ]
  },
  {
   "cell_type": "markdown",
   "id": "93e13970-bab4-4c03-9f7d-7c4589374fc9",
   "metadata": {},
   "source": [
    "The activation energy $E_{sd}$ is specified as\n",
    "\\begin{equation}\n",
    "    E_\\mathrm{sd} (n,m) = \\begin{cases} \\varphi/2, & \\mbox{if either } m = 1 \\mbox{ or } n = 1 \\\\ 3 \\varphi / 2, & \\mbox{if } n \\mbox{ and } m>1, \\mbox{ and either } m=2 \\mbox{ or } n=2, \\\\ 5 \\varphi /2, & \\mbox{if } n \\mbox{ and } m>2, \\end{cases}\n",
    "\\end{equation}\n",
    "and the $\\textbf{other}$ energy $\\Delta E$ is specified as\n",
    "\\begin{equation}\n",
    "    \\Delta E (n,m) = \\begin{cases} (n-m)\\varphi & \\mbox{if } m \\leq n, \\\\ 0 & \\mbox{if } m>n. \\end{cases}\n",
    "\\end{equation}"
   ]
  },
  {
   "cell_type": "markdown",
   "id": "40a85224-f198-405c-83c8-98b373c54a8b",
   "metadata": {},
   "source": [
    "Converting these energies into dimensionless units will give\n",
    "\\begin{equation}\n",
    "    \\begin{split}\n",
    "        \\tilde{E}_\\mathrm{sd} (n,m) &= \\begin{cases} 1/2, & \\mbox{if either } m = 1 \\mbox{ or } n = 1 \\\\ 3 / 2, & \\mbox{if } n \\mbox{ and } m>1, \\mbox{ and either } m=2 \\mbox{ or } n=2, \\\\ 5 /2, & \\mbox{if } n \\mbox{ and } m>2, \\end{cases}\\\\\n",
    "        \\\\\n",
    "        \\Delta \\tilde{E} (n,m) &= \\begin{cases} n-m & \\mbox{if } m \\leq n, \\\\ 0 & \\mbox{if } m>n. \\end{cases}\n",
    "    \\end{split}\n",
    "\\end{equation}"
   ]
  },
  {
   "cell_type": "code",
   "execution_count": null,
   "id": "0fd3e15d-903e-4804-937a-5de581565d49",
   "metadata": {},
   "outputs": [],
   "source": []
  }
 ],
 "metadata": {
  "kernelspec": {
   "display_name": "Python 3 (ipykernel)",
   "language": "python",
   "name": "python3"
  },
  "language_info": {
   "codemirror_mode": {
    "name": "ipython",
    "version": 3
   },
   "file_extension": ".py",
   "mimetype": "text/x-python",
   "name": "python",
   "nbconvert_exporter": "python",
   "pygments_lexer": "ipython3",
   "version": "3.9.7"
  }
 },
 "nbformat": 4,
 "nbformat_minor": 5
}
