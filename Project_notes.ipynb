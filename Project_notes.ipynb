{
 "cells": [
  {
   "cell_type": "markdown",
   "id": "f48c8ef7-3a8e-449a-a23a-32615bda0f2f",
   "metadata": {
    "jp-MarkdownHeadingCollapsed": true,
    "tags": []
   },
   "source": [
    "# Implementing dimensionless units"
   ]
  },
  {
   "cell_type": "markdown",
   "id": "f8d6c392-6246-4829-be2f-079eb9c5cd8e",
   "metadata": {},
   "source": [
    "This section is focused on indentifying the natural units and converting the parameters to dimensionless units "
   ]
  },
  {
   "cell_type": "markdown",
   "id": "84c7d266-5de7-4b91-8c27-22e812117a56",
   "metadata": {},
   "source": [
    "We first focus on the impingement, evaporation and surface migration rate. These rates have been defined as\n",
    "\\begin{equation}\n",
    "    \\begin{split}\n",
    "        k^{+} &= \\mathrm{exp}\\left(\\Delta \\mu / k_{B} T \\right) k_{3}^{-},\\\\\n",
    "        k_{n}^{-} &= \\nu \\, \\mathrm{exp}\\left(- n \\varphi / k_{B} T \\right),\\\\\n",
    "        k_{nm} &= \\frac{1}{8} \\nu \\, \\mathrm{exp}\\left\\{- \\left[ E_{\\mathrm{sd}} (n,m) + \\Delta E (n,m) \\right] / k_{B} T \\right\\},\n",
    "    \\end{split}\n",
    "\\end{equation}\n",
    "respectively.\\\n",
    "The natural units in these three equations are:\n",
    "- The frequency factor $\\nu$ which represents the frequency at which collisions occur.\n",
    "- The Boltzmann constant $k_{B}$.\n",
    "- The energy required to break the bond with one neighbor $\\varphi$."
   ]
  },
  {
   "cell_type": "markdown",
   "id": "f60a6c13-cde6-4573-89cd-c3d562a29996",
   "metadata": {},
   "source": [
    "From these equations we can create the following dimensionless parameters\n",
    "\\begin{equation}\n",
    "    \\tilde{k} = \\frac{k}{\\nu}, \\qquad \\qquad \\tilde{T} = \\frac{k_{B}}{\\varphi} T, \\qquad \\qquad \\tilde{\\mu} = \\frac{\\mu}{\\varphi}, \\qquad \\qquad \\tilde{E} = \\frac{E}{\\varphi}.\n",
    "\\end{equation}\n",
    "The dimensionless impingement, evaporation and surface migration rate will then become\n",
    "\\begin{equation}\n",
    "    \\begin{split}\n",
    "        \\tilde{k}^{+} &= \\mathrm{exp}\\left(\\Delta \\tilde{\\mu} / \\tilde{T} \\right) \\tilde{k}_{3}^{-},\\\\\n",
    "        \\tilde{k}_{n}^{-} &= \\mathrm{exp}\\left(- n / \\tilde{T} \\right),\\\\\n",
    "        \\tilde{k}_{nm} &= \\frac{1}{8} \\mathrm{exp}\\left\\{- \\left[ \\tilde{E}_{\\mathrm{sd}} (n,m) + \\Delta \\tilde{E} (n,m) \\right] / \\tilde{T} \\right\\},\n",
    "    \\end{split}\n",
    "\\end{equation}"
   ]
  },
  {
   "cell_type": "markdown",
   "id": "93e13970-bab4-4c03-9f7d-7c4589374fc9",
   "metadata": {},
   "source": [
    "The activation energy $E_{sd}$ is specified as\n",
    "\\begin{equation}\n",
    "    E_\\mathrm{sd} (n,m) = \\begin{cases} \\varphi/2, & \\mbox{if either } m = 1 \\mbox{ or } n = 1 \\\\ 3 \\varphi / 2, & \\mbox{if } n \\mbox{ and } m>1, \\mbox{ and either } m=2 \\mbox{ or } n=2, \\\\ 5 \\varphi /2, & \\mbox{if } n \\mbox{ and } m>2, \\end{cases}\n",
    "\\end{equation}\n",
    "and the $\\textbf{other}$ energy $\\Delta E$ is specified as\n",
    "\\begin{equation}\n",
    "    \\Delta E (n,m) = \\begin{cases} (n-m)\\varphi & \\mbox{if } m \\leq n, \\\\ 0 & \\mbox{if } m>n. \\end{cases}\n",
    "\\end{equation}"
   ]
  },
  {
   "cell_type": "markdown",
   "id": "40a85224-f198-405c-83c8-98b373c54a8b",
   "metadata": {},
   "source": [
    "Converting these energies into dimensionless units will give\n",
    "\\begin{equation}\n",
    "    \\begin{split}\n",
    "        \\tilde{E}_\\mathrm{sd} (n,m) &= \\begin{cases} 1/2, & \\mbox{if either } m = 1 \\mbox{ or } n = 1 \\\\ 3 / 2, & \\mbox{if } n \\mbox{ and } m>1, \\mbox{ and either } m=2 \\mbox{ or } n=2, \\\\ 5 /2, & \\mbox{if } n \\mbox{ and } m>2, \\end{cases}\\\\\n",
    "        \\\\\n",
    "        \\Delta \\tilde{E} (n,m) &= \\begin{cases} n-m & \\mbox{if } m \\leq n, \\\\ 0 & \\mbox{if } m>n. \\end{cases}\n",
    "    \\end{split}\n",
    "\\end{equation}"
   ]
  },
  {
   "cell_type": "markdown",
   "id": "1ae24497-ee14-4d27-8209-506ed6f53755",
   "metadata": {
    "jp-MarkdownHeadingCollapsed": true,
    "tags": []
   },
   "source": [
    "# Growth rate"
   ]
  },
  {
   "cell_type": "markdown",
   "id": "765ba3f3-b3d6-497b-95b9-42b02be2008e",
   "metadata": {},
   "source": [
    "$\\textbf{The growth rate is one of the observables that we can investigate in our simulation.}$"
   ]
  },
  {
   "cell_type": "markdown",
   "id": "dfaae8b7-acf3-4ee9-b52b-c9c21006f146",
   "metadata": {},
   "source": [
    "The growth rate resulting from the spiral mechanism alone is\n",
    "\\begin{equation}\n",
    "    \\frac{R}{k^{+}d} = \\frac{0.053 b \\Delta \\mu [1 - \\mathrm{exp} (-\\Delta \\mu /k_{B}T)]}{\\varphi / 2 k_{B} T - \\ln[\\coth(\\varphi / 4 k_{b} T)]}.\n",
    "\\end{equation}\n",
    "Here $b$ represents the magnitude of the Burgers vector of the dislocation pair in units of the layer spacing, and $d$ is the layer spacing."
   ]
  },
  {
   "cell_type": "markdown",
   "id": "fdf040c4-96e2-4e6e-b10a-847aecfd912c",
   "metadata": {},
   "source": [
    "In dimensionless units\n",
    "\\begin{equation}\n",
    "    \\frac{R}{k^{+}d}=\\frac{\\tilde{R}}{\\tilde{k}^{+}d} = \\frac{0.053 b \\Delta \\mu [1 - \\mathrm{exp} (-\\Delta \\tilde{\\mu} /\\tilde{T})]}{1 / 2 \\tilde{T} - \\ln[\\coth(1 / 4 \\tilde{T})]}.\n",
    "\\end{equation}"
   ]
  },
  {
   "cell_type": "markdown",
   "id": "f687e7a8-a1fb-4e8b-a1ca-75761d6c15cb",
   "metadata": {},
   "source": [
    "The growth rate of a perfect crystal is\n",
    "\\begin{equation}\n",
    "    \\frac{R}{k^{+}d} = \\left( \\frac{\\pi}{3} \\right)^{1/3} \\left( \\frac{\\Delta \\mu}{k_{B} T} \\right)^{1/6} \\left[ 1 - \\mathrm{exp} \\left( \\frac{- \\Delta \\mu}{k_{B} T} \\right) \\right]^{2/3} \\mathrm{exp} \\left( \\frac{- 4 \\gamma^2}{3 k_{B} T \\Delta \\mu} \\right)\n",
    "\\end{equation}\n",
    "Here $\\gamma$ represents the extra free energy of an atom at the edge of the cluster. Cluster refers to a cluster of adatoms."
   ]
  },
  {
   "cell_type": "markdown",
   "id": "a0030e38-2730-44b3-a837-3aed50d88a54",
   "metadata": {},
   "source": [
    "In dimensionless units\n",
    "\\begin{equation}\n",
    "    \\frac{\\tilde{R}}{\\tilde{k}^{+}d} = \\frac{R}{k^{+}d} = \\left( \\frac{\\pi}{3} \\right)^{1/3} \\left( \\frac{\\Delta \\tilde{\\mu}}{\\tilde{T}} \\right)^{1/6} \\left[ 1 - \\mathrm{exp} \\left( \\frac{- \\Delta \\tilde{\\mu}}{\\tilde{T}} \\right) \\right]^{2/3} \\mathrm{exp} \\left( \\frac{- 4 \\tilde{\\gamma}^2}{3 \\tilde{T} \\Delta \\tilde{\\mu}} \\right)\n",
    "\\end{equation}"
   ]
  },
  {
   "cell_type": "markdown",
   "id": "08d7d163-0006-4468-a72e-7faf3ebe994f",
   "metadata": {},
   "source": [
    "The growth rate essencially represents the average growth per collision. With respect to the Monte Carlo simulation is is the growth per cycle.????????"
   ]
  },
  {
   "cell_type": "markdown",
   "id": "b92b362f-78bf-4029-9fda-71dbe8c28757",
   "metadata": {
    "jp-MarkdownHeadingCollapsed": true,
    "tags": []
   },
   "source": [
    "# Nucleation and critical clusters"
   ]
  },
  {
   "cell_type": "markdown",
   "id": "f0e69a9b-ceb1-4552-8555-bb1cad68cf35",
   "metadata": {
    "tags": []
   },
   "source": [
    "Quote from paper:\n",
    "\n",
    "-----------------------------------------\n",
    "$\\textit{\"In the absence of nucleation, the probability of finding a cluster of $n$ atoms on a paticular site is}$\n",
    "\\begin{equation}\n",
    "    p_n \\cong \\mathrm{exp}(- G_{n}/k_{B}T),\n",
    "\\end{equation}\n",
    "$\\textit{where}$\n",
    "\\begin{equation}\n",
    "    G_n \\cong 4 \\gamma \\sqrt{n} - n \\Delta \\mu,\n",
    "\\end{equation}\n",
    "$\\textit{is the extra free energy after the formation of a cluster of n atoms on a}$ (001) $\\textit{surface.}$\\\n",
    "$\\textit{The rate of formation of 2D nuclei at a site is}$\n",
    "\\begin{equation}\n",
    "    J = Z \\Gamma_{n^{*}} p_{n^{*}}.\n",
    "\\end{equation}\n",
    "$\\textit{Here $n^{*}$ represents the number of atoms in a critical cluster, and it is the value of $n$ which yields the maximum $G_{n}$.}$ $\\textit{$\\Gamma_{n^{*}}$ is the rate of addition of atoms to a critical cluster, $Z$ is the Zeldovich non-equilibrium factor which accounts for a}$ $\\textit{reduction in the number of clusters during stead-state nucleation.\"}$\n",
    "\n",
    "-----------------------------------------\n",
    "Therefore, the value of $n^{*}$ is determined by\n",
    "\\begin{equation}\n",
    "    \\left.\\frac{d G_n}{dn}\\right\\vert_{n^{*}} = \\frac{2 \\gamma}{\\sqrt{n^{*}}} - \\Delta \\mu = 0\n",
    "\\end{equation}\n",
    "The number of atoms in a critical cluster is therefore $n^{*} = 4\\left(\\frac{\\gamma}{\\Delta \\mu}\\right)^2 = 4\\left(\\frac{\\tilde{\\gamma}}{\\Delta \\tilde{\\mu}}\\right)^2$.\\\n",
    "\\\n",
    "This result is consistent with figure 2 from the paper. It shows that for larger values of $\\Delta \\mu$ the growthrate $R/k^{+}d$ increases. The result from the equation shows that for larger values of $\\Delta \\mu$ the number of atoms in a critical cluster $n^{*}$ decreases. This is consisten with figure 2 because smaller values for $n^{*}$ indicate that smaller clusters will be sustainable (and grow).\\\n",
    "\\\n",
    "The value of $\\gamma$ at temperatures higher than $0.8 T_{R}$ is $\\gamma = 0$. At temperatures less than $0.8 T_{R}$\n",
    "\\begin{equation}\n",
    "    \\begin{split}\n",
    "        \\gamma/k_{B} T &= \\varphi / 2 k_{B} T - \\mathrm{ln}[\\mathrm{coth}(\\varphi/ 4 k_{B} T)]\\\\\n",
    "        \\tilde{\\gamma}/\\tilde{T} &= 1/2\\tilde{T} - \\mathrm{ln}[\\mathrm{coth}(1/4 \\tilde{T})]\n",
    "    \\end{split}\n",
    "\\end{equation}\n",
    "In literature, the roughening temperature $T_R$ has been determined to be $L/k_{B}T_R = 4.9$. The parameter $L$ is the binding energy of the simple cubic lattice, where $L = \\varphi 3$. The dimensionless roughening temperature is therefore $\\tilde{T}_R = 4.9/3$."
   ]
  },
  {
   "cell_type": "markdown",
   "id": "16281065-87dd-41d1-8a65-03a04da7ba29",
   "metadata": {
    "jp-MarkdownHeadingCollapsed": true,
    "tags": []
   },
   "source": [
    "# 2D nucleation vs spiral growth"
   ]
  },
  {
   "cell_type": "markdown",
   "id": "ccbe3649-3a2f-4027-8e23-42dc2d620bc4",
   "metadata": {},
   "source": [
    "The rate of formation on a perfect (001) surface is\n",
    "\\begin{equation}\n",
    "    J = k^{+} (\\Delta \\mu / k_{B} T)^{1/2} \\mathrm{exp}[-4 \\gamma^2 / (k_{B} T \\Delta \\mu)].\n",
    "\\end{equation}\n",
    "For values of $\\Delta \\mu$ in the range: $0 \\leq \\Delta \\mu \\leq \\gamma^2/k_{B} T$, the exponential is very small. This is therefore the range where screw dislocations are imporatant.\\\n",
    "\\\n",
    "The rate of formation due to dislocation is\n",
    "\\begin{equation}\n",
    "    I = bc \\Delta \\mu /(19 \\gamma a),\n",
    "\\end{equation}\n",
    "with $b$ the magnitude of the Burgers vector and $c$ the step velocity.\\\n",
    "\\\n",
    "The time $\\tau$ to grow one layer of the crystal is retated to $J$ and $I$ as\n",
    "\\begin{equation}\n",
    "    \\frac{1}{3}\\pi J \\rho c^2 \\tau^3 + I \\tau = 1.\n",
    "\\end{equation}\n",
    "Defining $Q \\equiv (\\frac{1}{3} \\pi J \\rho c^2)^{1/3}$, we can rewrite the previous equation as\n",
    "\\begin{equation}\n",
    "    (Q \\tau)^{3} + (I \\tau) = 1,\n",
    "\\end{equation}\n",
    "which gives in the limits\n",
    "\\begin{equation}\n",
    "    \\tau^{-1} \\cong \\begin{cases} Q + I/3, & \\mbox{if } I \\ll Q \\\\ I [1 + (Q/I)^3], & \\mbox{if } I \\gg Q \\end{cases}\n",
    "\\end{equation}"
   ]
  },
  {
   "cell_type": "markdown",
   "id": "8400da1d-962a-45cd-b3da-58318b83600b",
   "metadata": {},
   "source": [
    "The goal is to use the Monte Carlo simulation to simulate the growth rate of a crystal at different temperatures and different chemical potentials for both a perfect cystal suface and spiral growth due to dislocation. Therefore, we need to determine what the conditions (i.e. temperature and chemical potential) are where the \"boundary\" between growth dominated due to 2D nucleation and spiral growth is.\\\n",
    "The spiral growth regime will be limited to the values of $\\Delta \\mu$ where $Q \\leq I/3$. The growth due to 2D nucleation in this regime will be less than 4\\%. The boundary will therefore obey\n",
    "\\begin{equation}\n",
    "    \\begin{split}\n",
    "        \\frac{\\Delta \\mu_0}{k_{B} T} &= \\frac{-1.333 (\\gamma / k_{B} T)^{2}}{\\mathrm{ln}[0.0168 (c/ k^{+} a)^{1/3} (\\Delta \\mu_0 / k_{B} T)^{5/6} (k_{B} T / \\gamma) b]},\\\\\n",
    "        \\\\\n",
    "        \\frac{\\Delta \\tilde{\\mu}_0}{\\tilde{T}} &= \\frac{-1.333 (\\tilde{\\gamma}/ \\tilde{T})^2}{\\mathrm{ln}[0.0168 (\\tilde{c}/\\tilde{k}^{+} a)^{1/3} (\\Delta \\tilde{\\mu} / \\tilde{T})^{5/6} (\\tilde{T}/ \\tilde{\\gamma})b]},\n",
    "    \\end{split}\n",
    "\\end{equation}\n",
    "where $a$ is the modulus of the lattice constant and $b$ is the magnitude of the Burgers vector.\\\n",
    "\\\n",
    "The parameter $c$ is the step velocity. At low temperatures the step velocity is\n",
    "\\begin{equation}\n",
    "    \\begin{split}\n",
    "        c &= k^{+} a [1 - \\mathrm{exp}(- \\Delta \\mu / k_{B} T)],\\\\\n",
    "        \\tilde{c} &= \\tilde{k}^{+} a [1 - \\mathrm{exp}(- \\Delta \\tilde{\\mu} / \\tilde{T})],\n",
    "    \\end{split}\n",
    "\\end{equation}\n",
    "with $\\tilde{c} = c/\\nu$. However because $c$ is in the argurment of the logarithm this expression of $c$ can also be used to determine the boundary between the different growth regions. The magnitude of the lattice vector $a$ is set to unity."
   ]
  },
  {
   "cell_type": "markdown",
   "id": "64a773f7-c40b-4df3-9b3e-99d375ecffed",
   "metadata": {},
   "source": [
    "As $\\Delta \\tilde{\\mu}_0$ is at both side of the equation for the growth boundary, the value of $\\Delta \\tilde{\\mu}_0$ has to be solved by iteration."
   ]
  },
  {
   "cell_type": "markdown",
   "id": "bd392ae3-a1ae-4a60-954e-d7a4f3a92d00",
   "metadata": {},
   "source": [
    "----------------------------"
   ]
  },
  {
   "cell_type": "markdown",
   "id": "3f4cf712-78bb-4272-9952-4622521947f7",
   "metadata": {},
   "source": [
    "$\\textbf{First function}$\\\n",
    "Calculating the value of $\\tilde{\\gamma}$ using\n",
    "\\begin{equation}\n",
    "    \\tilde{\\gamma}/\\tilde{T} = 1/2\\tilde{T} - \\mathrm{ln}[\\mathrm{coth}(1/4 \\tilde{T})].\n",
    "\\end{equation}\n",
    "As $\\mathrm{coth}(x) = \\frac{1}{\\tanh(x)}$\n",
    "\\begin{equation}\n",
    "    \\tilde{\\gamma}/\\tilde{T} = 1/2\\tilde{T} + \\mathrm{ln}[\\mathrm{tanh}(1/4 \\tilde{T})].\n",
    "\\end{equation}\n",
    "\\\n",
    "$\\textbf{Second fuction}$\\\n",
    "Calculating the value of $\\tilde{k}^{+}$ using\n",
    "\\begin{equation}\n",
    "    \\begin{split}\n",
    "        \\tilde{k}^{+} &= \\mathrm{exp}\\left(\\Delta \\tilde{\\mu} / \\tilde{T} \\right) \\tilde{k}_{3}^{-},\\\\\n",
    "        \\tilde{k}_{n}^{-} &= \\mathrm{exp}\\left(- n / \\tilde{T} \\right),\\\\\n",
    "    \\end{split}\n",
    "\\end{equation}\n",
    "\\\n",
    "$\\textbf{Third function}$\\\n",
    "Calculating the value of $c$ using\n",
    "\\begin{equation}\n",
    "    \\begin{split}\n",
    "        \\tilde{c} &= \\tilde{k}^{+} a [1 - \\mathrm{exp}(- \\Delta \\tilde{\\mu} / \\tilde{T})]\n",
    "    \\end{split}\n",
    "\\end{equation}\n",
    "with $a$ unity.\\\n",
    "\\\n",
    "$\\textbf{Fourth function}$\\\n",
    "Calculating the value of $\\frac{\\Delta \\tilde{\\mu}_0}{\\tilde{T}}$ using\n",
    "\\begin{equation}\n",
    "    \\frac{\\Delta \\tilde{\\mu}_0}{\\tilde{T}} = \\frac{-1.333 (\\tilde{\\gamma}/ \\tilde{T})^2}{\\mathrm{ln}[0.0168 (\\tilde{c}/\\tilde{k}^{+} a)^{1/3} (\\Delta \\tilde{\\mu} / \\tilde{T})^{5/6} (\\tilde{T}/ \\tilde{\\gamma})b]}\n",
    "\\end{equation}"
   ]
  },
  {
   "cell_type": "markdown",
   "id": "0d14794d-ead6-457c-8256-880cd2c53a0a",
   "metadata": {
    "jp-MarkdownHeadingCollapsed": true,
    "tags": []
   },
   "source": [
    "## Code"
   ]
  },
  {
   "cell_type": "code",
   "execution_count": 66,
   "id": "e2b142c1-8caf-489c-82ac-cb4bbfe5dbe8",
   "metadata": {},
   "outputs": [],
   "source": [
    "import numpy as np\n",
    "import matplotlib.pyplot as plt\n",
    "\n",
    "def gamma_func(T):\n",
    "    \"\"\"Function for the extra free energy of an atom at the edge of the cluster (called gamma).\n",
    "    Gamma is 0 at temperatures higher than 0.8T_R, where T_R is the roughening temperature, which\n",
    "    in literature is L / (k_B T_R) = 4.9. L is the binding energy of the simple cubic crystal \n",
    "    (L = \\varphi 3) and k_B is the boltzmann constant. However the input value for this function \n",
    "    is dimensionless T, the dimensionless roughening temperature is therefore T_R = 4.9/3. At lower\n",
    "    temperatures gamma is determined via the equation used in this fuction.\n",
    "    \n",
    "    Parameter\n",
    "    ---------\n",
    "    T : float\n",
    "        Dimensionless temperature\n",
    "    \n",
    "    Return\n",
    "    ------\n",
    "    gamma : float\n",
    "        The extra free energy of an atom at the edge of the cluster\n",
    "    \"\"\"\n",
    "    T_R = 4.9/3\n",
    "    \n",
    "    if T >= T_R:\n",
    "        gamma = 0\n",
    "    else:\n",
    "        gamma = (1/(2 * T) + np.log(np.tanh(1 / (4 * T))))\n",
    "    \n",
    "    return gamma\n",
    "\n",
    "def imping_rate(mu, T):\n",
    "    \"\"\"The dimensionless impingement rate\n",
    "    \n",
    "    Parameter\n",
    "    ---------\n",
    "    mu : float\n",
    "        Dimensionless chemical potential\n",
    "    T : float\n",
    "        Dimensionless temperature\n",
    "    \n",
    "    Return\n",
    "    ------\n",
    "    k_p : float\n",
    "        Dimensionless impingement rate\n",
    "    \"\"\"\n",
    "    n = 3\n",
    "    \n",
    "    k_3 = np.exp(-3/T)\n",
    "    k_p = np.exp(mu/T)*k_3\n",
    "    \n",
    "    return k_p\n",
    "\n",
    "def step_v(k_p, mu, T):\n",
    "    \"\"\"The dimensionless step velocity.\n",
    "    \n",
    "    Parameter\n",
    "    ---------\n",
    "    k_p : float\n",
    "        Dimensionless impingment rate\n",
    "    mu : float\n",
    "        Dimensionless chemical potential\n",
    "    T : float\n",
    "        Dimensionless temperature\n",
    "    \n",
    "    Return\n",
    "    ------\n",
    "    c : float\n",
    "        dimensionless step velocity\n",
    "    \"\"\"\n",
    "    \n",
    "    c = k_p * (1 - np.exp(-mu/T))\n",
    "    \n",
    "    return c\n",
    "\n",
    "def growth_func(mu, T, b):\n",
    "    gamma = (1/2 * T + np.log(np.tanh(1 / (4 * T))))\n",
    "    k_p = imping_rate(mu, T)\n",
    "    c = step_v(k_p, mu, T)\n",
    "    \n",
    "    mu_new = 1.333 * (gamma/T)**2 / np.log(0.0168 * (c/k_p)**(1/3) *\n",
    "                                       (mu/T)**(5/6) * (T/gamma) * b)\n",
    "    \n",
    "    return mu_new\n",
    "\n",
    "def growth_bound(mu, T, b):\n",
    "    \"\"\"The boundary between 2D nucleation and spiral growth.\n",
    "    The boundary value of the chemical potential at different temperatures determined\n",
    "    through itiration.\n",
    "    \n",
    "    Parameter\n",
    "    ---------\n",
    "    mu : float\n",
    "        Initial dimensionless chemical potential\n",
    "    T : nd.array\n",
    "        Dimensionless temperature\n",
    "    b : float\n",
    "        The magnitude of the Burgers vector (the hight of the dislocation)\n",
    "    \n",
    "    Return\n",
    "    ------\n",
    "    mu_bound : nd.array\n",
    "        The boundary value of the chemical potential between 2D nucleation and spiral \n",
    "        growth at different temperatures\n",
    "    \"\"\"\n",
    "    \n",
    "    d_mu = 1e-6\n",
    "    diml_mu = np.array([])\n",
    "    \n",
    "    for T_i in T:\n",
    "        \n",
    "        mu_1 = growth_func(mu, T_i, b)\n",
    "        mu_2 = growth_func(mu_1, T_i, b)\n",
    "        mu_i = mu_2\n",
    "        \n",
    "        error = ((mu_1 - mu_2)/ mu_1)**2\n",
    "        \n",
    "        n = 0\n",
    "        while error > d_mu:\n",
    "            n = n+1\n",
    "            mu_j = growth_func(mu_i, T_i, b)\n",
    "            error = ((mu_i - mu_j)/ mu_i)**2\n",
    "            mu_i = mu_j\n",
    "        \n",
    "        diml_mu = np.append([diml_mu], [mu_i])\n",
    "        mu = mu_i\n",
    "    \n",
    "    new_mu = diml_mu*T\n",
    "    \n",
    "    return new_mu\n"
   ]
  },
  {
   "cell_type": "markdown",
   "id": "20692edf-e6dc-440d-a09f-20decb80f501",
   "metadata": {},
   "source": [
    "$\\textbf{Determining the growth boundary}$"
   ]
  },
  {
   "cell_type": "code",
   "execution_count": 67,
   "id": "02ecc296-8830-4d7f-81e3-ecc31be44fa0",
   "metadata": {},
   "outputs": [
    {
     "name": "stderr",
     "output_type": "stream",
     "text": [
      "/tmp/ipykernel_20671/592475509.py:80: RuntimeWarning: invalid value encountered in log\n",
      "  mu_new = 1.333 * (gamma/T)**2 / np.log(0.0168 * (c/k_p)**(1/3) *\n"
     ]
    }
   ],
   "source": [
    "diml_Tmin = 4.9\n",
    "diml_Tmax = 30\n",
    "diml_dT = 0.1\n",
    "diml_T = np.arange(diml_Tmin, diml_Tmax+diml_dT, diml_dT, dtype=float)\n",
    "\n",
    "init_diml_mu = 1\n",
    "\n",
    "b = 2\n",
    "\n",
    "L = 3\n",
    "\n",
    "T = L/diml_T\n",
    "init_mu = init_diml_mu*T[0]\n",
    "\n",
    "mu = growth_bound(init_mu, T, b)"
   ]
  },
  {
   "cell_type": "code",
   "execution_count": 68,
   "id": "77308312-3523-494b-abb1-a30612adc8d0",
   "metadata": {},
   "outputs": [
    {
     "name": "stdout",
     "output_type": "stream",
     "text": [
      "[nan nan nan nan nan nan nan nan nan nan nan nan nan nan nan nan nan nan\n",
      " nan nan nan nan nan nan nan nan nan nan nan nan nan nan nan nan nan nan\n",
      " nan nan nan nan nan nan nan nan nan nan nan nan nan nan nan nan nan nan\n",
      " nan nan nan nan nan nan nan nan nan nan nan nan nan nan nan nan nan nan\n",
      " nan nan nan nan nan nan nan nan nan nan nan nan nan nan nan nan nan nan\n",
      " nan nan nan nan nan nan nan nan nan nan nan nan nan nan nan nan nan nan\n",
      " nan nan nan nan nan nan nan nan nan nan nan nan nan nan nan nan nan nan\n",
      " nan nan nan nan nan nan nan nan nan nan nan nan nan nan nan nan nan nan\n",
      " nan nan nan nan nan nan nan nan nan nan nan nan nan nan nan nan nan nan\n",
      " nan nan nan nan nan nan nan nan nan nan nan nan nan nan nan nan nan nan\n",
      " nan nan nan nan nan nan nan nan nan nan nan nan nan nan nan nan nan nan\n",
      " nan nan nan nan nan nan nan nan nan nan nan nan nan nan nan nan nan nan\n",
      " nan nan nan nan nan nan nan nan nan nan nan nan nan nan nan nan nan nan\n",
      " nan nan nan nan nan nan nan nan nan nan nan nan nan nan nan nan nan nan\n",
      " nan]\n"
     ]
    }
   ],
   "source": [
    "print(mu)"
   ]
  },
  {
   "cell_type": "code",
   "execution_count": 53,
   "id": "f0cff5d9-edd4-4516-9711-cd1f58cecb2a",
   "metadata": {},
   "outputs": [
    {
     "name": "stdout",
     "output_type": "stream",
     "text": [
      "[0.17036147 0.16591009 0.16130331]\n",
      "[0.46752595 0.46999628 0.47267499]\n",
      "[0.21369543 0.20956871 0.20527227]\n",
      "[0.39256317 0.39252282 0.3925042 ]\n",
      "[0.24496628 0.24126464 0.23739839]\n"
     ]
    }
   ],
   "source": [
    "print(mu)\n",
    "mu_1 = growth_func(mu, T, b)\n",
    "print(mu_1)\n",
    "mu_2 = growth_func(mu_1, T, b)\n",
    "print(mu_2)\n",
    "mu_3 = growth_func(mu_2, T, b)\n",
    "print(mu_3)\n",
    "mu_4 = growth_func(mu_3, T, b)\n",
    "print(mu_4)"
   ]
  },
  {
   "cell_type": "code",
   "execution_count": 69,
   "id": "246745d4-4d0c-43e5-b883-afc4d0d64766",
   "metadata": {},
   "outputs": [
    {
     "name": "stderr",
     "output_type": "stream",
     "text": [
      "/tmp/ipykernel_20671/592475509.py:80: RuntimeWarning: invalid value encountered in log\n",
      "  mu_new = 1.333 * (gamma/T)**2 / np.log(0.0168 * (c/k_p)**(1/3) *\n"
     ]
    }
   ],
   "source": [
    "T_min = 3/diml_Tmin\n",
    "mu_1 = T_min\n",
    "mu_2 = growth_func(mu_1, T_min, b)"
   ]
  },
  {
   "cell_type": "code",
   "execution_count": 71,
   "id": "c6a48e5b-5c01-4963-b739-1bdd90518f71",
   "metadata": {},
   "outputs": [
    {
     "name": "stdout",
     "output_type": "stream",
     "text": [
      "0.02024191144580438\n",
      "nan\n"
     ]
    }
   ],
   "source": [
    "print(imping_rate(mu_1, T_min))\n",
    "print(mu_2)"
   ]
  },
  {
   "cell_type": "code",
   "execution_count": 72,
   "id": "7d5b097d-0bc6-49a3-aa5f-cfc28aba7e2f",
   "metadata": {},
   "outputs": [
    {
     "name": "stdout",
     "output_type": "stream",
     "text": [
      "3.2619550568869635\n",
      "5.602796437537267e-09\n",
      "3.541642815098709e-09\n"
     ]
    }
   ],
   "source": [
    "L = 3\n",
    "diml_T = 20\n",
    "diml_mu = 1\n",
    "\n",
    "T = L/diml_T\n",
    "mu = diml_mu*T\n",
    "\n",
    "gamma = gamma_func(T)\n",
    "k_p = imping_rate(mu, T)\n",
    "c = step_v(k_p, mu, T)\n",
    "\n",
    "print(gamma)\n",
    "print(k_p)\n",
    "print(c)"
   ]
  },
  {
   "cell_type": "markdown",
   "id": "b1626b91-7ffc-4b4b-9a97-9f010e4ae64b",
   "metadata": {
    "jp-MarkdownHeadingCollapsed": true,
    "tags": []
   },
   "source": [
    "# Paper dimensionless parameter"
   ]
  },
  {
   "cell_type": "markdown",
   "id": "c17b7781-a8e7-4e77-acd9-d26ffa3966d4",
   "metadata": {},
   "source": [
    "This section is focused on using the dimensionless parameters from the paper"
   ]
  },
  {
   "cell_type": "markdown",
   "id": "82d41dfb-b43f-4dea-8785-fe9536dce343",
   "metadata": {},
   "source": [
    "Dimensionless parameters used in the paper are:\n",
    "- The chemical potential $\\Delta \\mu$ is give as the ratio $\\frac{\\Delta \\mu}{k_{B} T}$.\n",
    "- The temperature $T$ is give as the ratio $\\frac{L}{k_{B} T}$.\\\n",
    "The parameter $L$ is the binding energy of the simple cubic lattice, where $L = 3 \\varphi$. Therefore, $\\varphi / k_{B} T = \\frac{1}{3} L/ k_{B} T$.\n",
    "\n",
    "- The growth rate $R$ is give as the ratio $\\frac{R}{k^{+} d}$.\\\n",
    "The parameter $d$ is the layer spacing."
   ]
  },
  {
   "cell_type": "markdown",
   "id": "5fafb0c9-1c4b-4fb3-991c-c41722f9ec95",
   "metadata": {},
   "source": [
    "The extra free energy of an atom at the edge of the cluster is\n",
    "\\begin{equation}\n",
    "    \\begin{split}\n",
    "        \\gamma/k_{B} T &= \\varphi / 2 k_{B} T - \\mathrm{ln}[\\mathrm{coth}(\\varphi/ 4 k_{B} T)]\\\\\n",
    "        &= \\varphi / 2 k_{B} T + \\mathrm{ln}[\\mathrm{tanh}(\\varphi/ 4 k_{B} T)]\n",
    "    \\end{split}\n",
    "\\end{equation}\n",
    "\\\n",
    "The step velocity is\n",
    "\\begin{equation}\n",
    "    \\begin{split}\n",
    "        c = k^{+} a [1 - \\mathrm{exp}(- \\Delta \\mu / k_{B} T)],\\\\\n",
    "        c/k^{+} a = 1 - \\mathrm{exp}(- \\Delta \\mu / k_{B} T)\n",
    "    \\end{split}\n",
    "\\end{equation}\n",
    "\n",
    "\\begin{equation}\n",
    "    \\frac{\\Delta \\mu_0}{k_{B} T} = \\frac{-1.333 (\\gamma / k_{B} T)^{2}}{\\mathrm{ln}[0.0168 (c/ k^{+} a)^{1/3} (\\Delta \\mu_0 / k_{B} T)^{5/6} (k_{B} T / \\gamma) b]}\n",
    "\\end{equation}"
   ]
  },
  {
   "cell_type": "code",
   "execution_count": 161,
   "id": "cba3d719-c1f9-40c6-a812-f56cd9c766ce",
   "metadata": {},
   "outputs": [],
   "source": [
    "import numpy as np\n",
    "import matplotlib.pyplot as plt\n",
    "\n",
    "def growth_func(mu, T, b):\n",
    "    gamma = 1/2 * T + np.log(np.tanh(1/4*T))\n",
    "    c = 1 - np.exp(-mu)\n",
    "    new_mu = (-1.333 * gamma**2) / np.log(0.0168 * c**(1/3) * mu**(5/6) * 1/gamma * b)\n",
    "    return new_mu\n",
    "\n",
    "def growth_bound(mu, T, b):\n",
    "    d_mu = 1e-4\n",
    "    mu_0 = np.array([])\n",
    "    for T_i in T:\n",
    "        mu_i = growth_func(mu, T_i, b)\n",
    "        error = ((mu - mu_i)/ mu)**2\n",
    "        while error > d_mu:\n",
    "            mu_j = growth_func(mu_i, T_i, b)\n",
    "            error = ((mu_j - mu_i)/ mu_i)**2\n",
    "            mu_i = mu_j\n",
    "        mu_0 = np.append([mu_0], [mu_i])\n",
    "        #mu = mu_i\n",
    "    return mu_0"
   ]
  },
  {
   "cell_type": "code",
   "execution_count": 162,
   "id": "d109c29e-f0f6-4cc1-a544-13feeb813b0c",
   "metadata": {},
   "outputs": [],
   "source": [
    "b = 2\n",
    "init_mu = 1\n",
    "L = np.arange(5.4, 30, 0.05, dtype=float)\n",
    "T = 1/3 * L\n",
    "mu_0 = growth_bound(init_mu, T, b)"
   ]
  },
  {
   "cell_type": "code",
   "execution_count": 186,
   "id": "06695c5a-680f-424c-bbd1-321ef06251b8",
   "metadata": {},
   "outputs": [
    {
     "data": {
      "image/png": "[encoded data removed]",
      "text/plain": [
       "<Figure size 864x432 with 1 Axes>"
      ]
     },
     "metadata": {
      "needs_background": "light"
     },
     "output_type": "display_data"
    }
   ],
   "source": [
    "fig, ax = plt.subplots()\n",
    "ax.plot(L, mu_0)\n",
    "ax.set_xlabel(r'$L\\,/\\, k_{B} T$', fontsize=15)\n",
    "ax.set_ylabel(r'$\\mu\\,/\\, k_{B} T$', fontsize=15)\n",
    "ax.set_title('The growth boundary between the growth regions', fontsize=20)\n",
    "ax.text(12.3, 8.3, '2D nucleation', fontsize=15)\n",
    "ax.text(11.9, 7.3, '& spiral growth', fontsize=15)\n",
    "ax.text(23.4, 2.5, 'spiral growth', fontsize=15)\n",
    "ax.grid()\n",
    "fig.set_size_inches(12, 6)\n",
    "#plt.savefig('Growth_boundary_between_the_growth_regions.png')\n",
    "plt.show()"
   ]
  },
  {
   "cell_type": "markdown",
   "id": "98e89f8b-0160-4183-a426-682b97b1aa27",
   "metadata": {
    "jp-MarkdownHeadingCollapsed": true,
    "tags": []
   },
   "source": [
    "## Analyzing the behaviour of $\\gamma$"
   ]
  },
  {
   "cell_type": "markdown",
   "id": "dbf1ba2d-4b24-4511-b16d-9261fcdca4c5",
   "metadata": {},
   "source": [
    "According to literature the value of $\\gamma$ is\n",
    "\\begin{equation}\n",
    "    \\gamma/k_{B}T = \\begin{cases} \\varphi/2k_{B}T - \\mathrm{ln}[\\mathrm{coth}(\\varphi/4k_{B}T)], & \\mbox{if } T < 0.8 T_R \\\\ 0, & \\mbox{if } T \\geq 0.92 T_R, \\end{cases}\n",
    "\\end{equation}\n",
    "with $L/k_{B}T_{R} \\cong 4.9$. Converting the boundaries to dimensionless units gives us\n",
    "\\begin{equation}\n",
    "    \\begin{split}\n",
    "        T < 0.8 T_R \\qquad &\\longrightarrow \\qquad L/k_{B}T > 6.125,\\\\\n",
    "        T \\geq 0.92 T_R \\qquad &\\longrightarrow \\qquad L/k_{B}T \\leq 5.326.\n",
    "    \\end{split}\n",
    "\\end{equation}\n",
    "\n",
    "This subsection is to analyze the behaviour of $\\gamma$ near this point."
   ]
  },
  {
   "cell_type": "code",
   "execution_count": 190,
   "id": "3b20ed62-ca56-4b5f-a66f-9e435fbbe2cf",
   "metadata": {},
   "outputs": [],
   "source": [
    "L = np.arange(4.5, 6.1, 0.01, dtype=float)\n",
    "T = L/3\n",
    "gamma_T = 1/2 * T + np.log(np.tanh(1/4*T))\n",
    "gamma_0 = np.zeros(len(L))"
   ]
  },
  {
   "cell_type": "code",
   "execution_count": 198,
   "id": "52240269-8bbe-4e62-8ab9-1411f525d2d3",
   "metadata": {},
   "outputs": [
    {
     "data": {
      "image/png": "[encoded data removed]",
      "text/plain": [
       "<Figure size 576x288 with 1 Axes>"
      ]
     },
     "metadata": {
      "needs_background": "light"
     },
     "output_type": "display_data"
    }
   ],
   "source": [
    "fig, ax = plt.subplots()\n",
    "ax.plot(L, gamma_T, label=r'$\\gamma\\,/\\, k_{B} T$ at $T<0.8 \\, T_{R}$')\n",
    "ax.plot(L, gamma_0, label=r'$\\gamma\\,/\\, k_{B} T$ at $T \\geq 0.92 \\, T_{R}$')\n",
    "ax.set_xlabel(r'$L\\,/\\, k_{B} T$', fontsize=15)\n",
    "ax.set_ylabel(r'$\\gamma\\,/\\, k_{B} T$', fontsize=15)\n",
    "ax.set_title(r'Behavior of $\\gamma$ near $T_{R}$', fontsize=20)\n",
    "ax.legend(loc='best', fontsize='large')\n",
    "ax.text(5.5, -0.15, r'$L\\,/\\,k_{B}T_{R} \\cong 4.9$', fontsize=13)\n",
    "ax.grid()\n",
    "fig.set_size_inches(8, 4)\n",
    "plt.show()"
   ]
  },
  {
   "cell_type": "markdown",
   "id": "68455ad9-fd6c-47c7-a4f7-f8b3e5b80357",
   "metadata": {},
   "source": [
    "# Growth rate"
   ]
  },
  {
   "cell_type": "markdown",
   "id": "f8813f9f-9683-4e14-bc0b-b4e62e6dd96f",
   "metadata": {},
   "source": [
    "The growth rate resulting from the spiral mechanism alone is\n",
    "\\begin{equation}\n",
    "    \\frac{R}{k^{+}d} = \\frac{0.053 b \\Delta \\mu [1 - \\mathrm{exp} (-\\Delta \\mu /k_{B}T)]}{\\varphi / 2 k_{B} T - \\ln[\\coth(\\varphi / 4 k_{b} T)]}.\n",
    "\\end{equation}\n",
    "Here $b$ represents the magnitude of the Burgers vector of the dislocation pair in units of the layer spacing, and $d$ is the layer spacing."
   ]
  },
  {
   "cell_type": "markdown",
   "id": "6481a76e-9bd7-4b25-a02c-3d4d5744f170",
   "metadata": {},
   "source": [
    "The growth rate of a perfect crystal is\n",
    "\\begin{equation}\n",
    "    \\begin{split}\n",
    "        \\frac{R}{k^{+}d} &= \\left( \\frac{\\pi}{3} \\right)^{1/3} \\left( \\frac{\\Delta \\mu}{k_{B} T} \\right)^{1/6} \\left[ 1 - \\mathrm{exp} \\left( \\frac{- \\Delta \\mu}{k_{B} T} \\right) \\right]^{2/3} \\mathrm{exp} \\left( \\frac{- 4 \\gamma^2}{3 k_{B} T \\Delta \\mu} \\right)\\\\\n",
    "        \\\\\n",
    "        &= \\left( \\frac{\\pi}{3} \\right)^{1/3} \\left( \\frac{\\Delta \\mu}{k_{B} T} \\right)^{1/6} \\left[ 1 - \\mathrm{exp} \\left( \\frac{- \\Delta \\mu}{k_{B} T} \\right) \\right]^{2/3} \\mathrm{exp} \\left[- \\frac{4}{3} \\left( \\frac{\\gamma}{k_{B} T} \\right)^2 \\frac{k_{B} T}{\\Delta \\mu} \\right]\n",
    "    \\end{split}\n",
    "\\end{equation}\n",
    "Here $\\gamma$ represents the extra free energy of an atom at the edge of the cluster. Cluster refers to a cluster of adatoms.\\\n",
    "According to literature the value of $\\gamma$ is dependent on the temperature as\n",
    "\\begin{equation}\n",
    "    \\gamma/k_{B}T = \\begin{cases} \\varphi/2k_{B}T - \\mathrm{ln}[\\mathrm{coth}(\\varphi/4k_{B}T)], & \\mbox{if } L/k_{B}T > 6.125, \\\\ 0, & \\mbox{if } L/k_{B}T \\leq 5.326, \\end{cases}\n",
    "\\end{equation}\n",
    "with $L/k_{B}T_{R} \\cong 4.9$. "
   ]
  },
  {
   "cell_type": "markdown",
   "id": "24d60725-c2da-4d3c-af65-38c36e7de95c",
   "metadata": {
    "tags": []
   },
   "source": [
    "## Growth rate 2D nucleation code"
   ]
  },
  {
   "cell_type": "code",
   "execution_count": 239,
   "id": "3f1e0353-9fb4-424b-be30-ac6055cc95d5",
   "metadata": {},
   "outputs": [],
   "source": [
    "def nucleation_2D(mu, T):\n",
    "    L_low = 5.326\n",
    "    L_high = 6.125\n",
    "    T_low = L_low/3\n",
    "    T_high = L_high/3\n",
    "    R = np.zeros(len(mu))\n",
    "    mu_plot = mu\n",
    "    for T_i in T:\n",
    "        if T_i  <= T_low:\n",
    "            gamma = 0\n",
    "        elif T_i > T_high:\n",
    "            gamma = 1/2*T_i + np.log(np.tanh(1/4*T_i))\n",
    "        else:\n",
    "            raise ValueError('Value for T is outside exeptible boundary. T must be in the domain T < {} and {} < T'.format(str(np.round(T_low, decimals=3)), str(np.round(T_high, decimals=3))))\n",
    "        R_i = (np.pi/3)**(1/3) * mu**(1/6) * (1 - np.exp(-mu))**(2/3) * np.exp(-4/3 * gamma**2 /mu)\n",
    "        R = np.vstack((R, R_i))\n",
    "        mu_plot = np.vstack((mu_plot, mu))\n",
    "    return R[1:,:], mu_plot[1:,:]"
   ]
  },
  {
   "cell_type": "code",
   "execution_count": 243,
   "id": "d3b3cee5-953e-40b1-a953-c5f935414755",
   "metadata": {},
   "outputs": [],
   "source": [
    "L = np.array([4.5, 9, 12])\n",
    "mu = np.arange(0.01, 4, 0.01, dtype=float)\n",
    "\n",
    "T = L/3\n",
    "\n",
    "R, mu_plot = nucleation_2D(mu, T)"
   ]
  },
  {
   "cell_type": "code",
   "execution_count": 247,
   "id": "c7d23530-8e41-4013-850f-c39f8c01f9f5",
   "metadata": {},
   "outputs": [
    {
     "data": {
      "image/png": "[encoded data removed]",
      "text/plain": [
       "<Figure size 720x360 with 1 Axes>"
      ]
     },
     "metadata": {
      "needs_background": "light"
     },
     "output_type": "display_data"
    }
   ],
   "source": [
    "plt.figure(figsize=(10,5))\n",
    "for i in range(len(L)):\n",
    "    plt.plot(mu_plot[i,:], R[i,:], label=r'$L\\,/\\, k_B T \\,=\\,${}'.format(str(L[i])))\n",
    "plt.xlabel(r'$\\Delta\\mu\\,/\\,k_{B}T$', fontsize=15)\n",
    "plt.ylabel(r'$R\\,/\\,k^{+}d$', fontsize=15)\n",
    "plt.title('Growth rate 2D nucleation', fontsize=20)\n",
    "plt.legend(loc='best', fontsize='large')\n",
    "plt.grid()\n",
    "plt.xlim(0, np.max(mu))\n",
    "plt.ylim(0, 0.5)\n",
    "#plt.savefig('Growth_rate_2D_nucleation_v1')\n",
    "plt.show()"
   ]
  },
  {
   "cell_type": "markdown",
   "id": "b8af39f4-4d65-453e-a60b-477ffc8a5b75",
   "metadata": {},
   "source": [
    "$\\textbf{The growth rate is too large, somewhere there is probably a factor in the wrong place or something}$"
   ]
  },
  {
   "cell_type": "markdown",
   "id": "bf3fd2fd-5964-440e-81a5-620ec147aa45",
   "metadata": {},
   "source": [
    "\\begin{equation}\n",
    "    \\begin{split}\n",
    "        \\frac{R}{k^{+}d} &= \\left( \\frac{\\pi}{3} \\right)^{1/3} \\left( \\frac{\\Delta \\mu}{k_{B} T} \\right)^{1/6} \\left[ 1 - \\mathrm{exp} \\left( \\frac{- \\Delta \\mu}{k_{B} T} \\right) \\right]^{2/3} \\mathrm{exp} \\left( \\frac{- 4 \\gamma^2}{3 k_{B} T \\Delta \\mu} \\right)\\\\\n",
    "        \\\\\n",
    "        &= \\left( \\frac{\\pi}{3} \\right)^{1/3} \\left( \\frac{\\Delta \\mu}{k_{B} T} \\right)^{1/6} \\left[ 1 - \\mathrm{exp} \\left( \\frac{- \\Delta \\mu}{k_{B} T} \\right) \\right]^{2/3} \\mathrm{exp} \\left[ \\frac{- 4}{3} \\left( \\frac{\\gamma}{k_{B} T} \\right)^2 \\frac{k_{B} T}{\\Delta \\mu} \\right]\n",
    "    \\end{split}\n",
    "\\end{equation}"
   ]
  },
  {
   "cell_type": "markdown",
   "id": "ea2630fb-c0fd-4879-918e-88b72e509deb",
   "metadata": {},
   "source": [
    "## Growth rate spiral growth"
   ]
  },
  {
   "cell_type": "code",
   "execution_count": null,
   "id": "ba64ffcb-70a1-4610-ab0e-a4bc28679c80",
   "metadata": {},
   "outputs": [],
   "source": []
  }
 ],
 "metadata": {
  "kernelspec": {
   "display_name": "Python 3 (ipykernel)",
   "language": "python",
   "name": "python3"
  },
  "language_info": {
   "codemirror_mode": {
    "name": "ipython",
    "version": 3
   },
   "file_extension": ".py",
   "mimetype": "text/x-python",
   "name": "python",
   "nbconvert_exporter": "python",
   "pygments_lexer": "ipython3",
   "version": "3.9.7"
  }
 },
 "nbformat": 4,
 "nbformat_minor": 5
}
