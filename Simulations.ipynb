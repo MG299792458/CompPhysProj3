{
 "cells": [
  {
   "cell_type": "code",
   "execution_count": 1,
   "id": "e27c6331-4c78-4255-9f0f-5d87f2ace94c",
   "metadata": {},
   "outputs": [],
   "source": [
    "import core_func as cf\n",
    "import numpy as np"
   ]
  },
  {
   "cell_type": "code",
   "execution_count": 2,
   "id": "632250ac-05e2-4f44-b116-d1c1411ba28e",
   "metadata": {},
   "outputs": [],
   "source": [
    "surface = cf.init_crystal([10,10])"
   ]
  },
  {
   "cell_type": "code",
   "execution_count": 3,
   "id": "3cc263cb-d7df-47d7-b0e0-b286c5960ea1",
   "metadata": {},
   "outputs": [],
   "source": [
    "neigh = cf.nearest_neighbours(surface)"
   ]
  },
  {
   "cell_type": "code",
   "execution_count": 4,
   "id": "d7bebd30-618a-494b-95c8-8f7839d37934",
   "metadata": {},
   "outputs": [
    {
     "data": {
      "text/plain": [
       "array([[4., 4., 4., 4., 4., 4., 4., 4., 4., 4.],\n",
       "       [4., 4., 4., 4., 4., 4., 4., 4., 4., 4.],\n",
       "       [4., 4., 4., 4., 4., 4., 4., 4., 4., 4.],\n",
       "       [4., 4., 4., 4., 4., 4., 4., 4., 4., 4.],\n",
       "       [4., 4., 4., 4., 4., 4., 4., 4., 4., 4.],\n",
       "       [4., 4., 4., 4., 4., 4., 4., 4., 4., 4.],\n",
       "       [4., 4., 4., 4., 4., 4., 4., 4., 4., 4.],\n",
       "       [4., 4., 4., 4., 4., 4., 4., 4., 4., 4.],\n",
       "       [4., 4., 4., 4., 4., 4., 4., 4., 4., 4.],\n",
       "       [4., 4., 4., 4., 4., 4., 4., 4., 4., 4.]])"
      ]
     },
     "execution_count": 4,
     "metadata": {},
     "output_type": "execute_result"
    }
   ],
   "source": [
    "neigh"
   ]
  },
  {
   "cell_type": "code",
   "execution_count": 6,
   "id": "e46392f3-27e5-408d-8735-aefba4405e46",
   "metadata": {},
   "outputs": [
    {
     "data": {
      "text/plain": [
       "'phi and mu are not set correctly so T has to be chosen very high'"
      ]
     },
     "execution_count": 6,
     "metadata": {},
     "output_type": "execute_result"
    }
   ],
   "source": [
    "subset = cf.choose_subset(surface, 1e23, 0)\n",
    "'''phi and mu are not set correctly so T has to be chosen very high'''"
   ]
  },
  {
   "cell_type": "code",
   "execution_count": 7,
   "id": "ebf44417-231e-4369-96da-fa4bc7c3674b",
   "metadata": {},
   "outputs": [
    {
     "data": {
      "text/plain": [
       "4"
      ]
     },
     "execution_count": 7,
     "metadata": {},
     "output_type": "execute_result"
    }
   ],
   "source": [
    "subset"
   ]
  },
  {
   "cell_type": "code",
   "execution_count": null,
   "id": "c28642cb-e61f-4b19-a406-566a38e0a585",
   "metadata": {},
   "outputs": [],
   "source": []
  }
 ],
 "metadata": {
  "kernelspec": {
   "display_name": "Python 3 (ipykernel)",
   "language": "python",
   "name": "python3"
  },
  "language_info": {
   "codemirror_mode": {
    "name": "ipython",
    "version": 3
   },
   "file_extension": ".py",
   "mimetype": "text/x-python",
   "name": "python",
   "nbconvert_exporter": "python",
   "pygments_lexer": "ipython3",
   "version": "3.9.7"
  }
 },
 "nbformat": 4,
 "nbformat_minor": 5
}
