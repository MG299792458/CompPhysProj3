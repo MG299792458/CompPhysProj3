{
 "cells": [
  {
   "cell_type": "code",
   "execution_count": 1,
   "id": "13d54117-a7d3-475c-8006-2390fc165aef",
   "metadata": {},
   "outputs": [],
   "source": [
    "import numpy as np\n",
    "import matplotlib.pyplot as plt\n",
    "import core_func as cf"
   ]
  },
  {
   "cell_type": "markdown",
   "id": "f48c8ef7-3a8e-449a-a23a-32615bda0f2f",
   "metadata": {
    "jp-MarkdownHeadingCollapsed": true,
    "tags": []
   },
   "source": [
    "# Implementing dimensionless units"
   ]
  },
  {
   "cell_type": "markdown",
   "id": "f8d6c392-6246-4829-be2f-079eb9c5cd8e",
   "metadata": {},
   "source": [
    "This section is focused on indentifying the natural units and converting the parameters to dimensionless units "
   ]
  },
  {
   "cell_type": "markdown",
   "id": "ae21e02c-afbf-416a-a482-c23ad22b6797",
   "metadata": {},
   "source": [
    "The natural units used in the equations are:\n",
    "- The frequency factor $\\nu$ which represents the frequency at which collisions occur.\n",
    "- The Boltzmann constant $k_{B}$.\n",
    "- The energy required to break the bond with one neighbor $\\varphi$.\n",
    "- The layer spacing $d$."
   ]
  },
  {
   "cell_type": "markdown",
   "id": "84c7d266-5de7-4b91-8c27-22e812117a56",
   "metadata": {
    "tags": []
   },
   "source": [
    "In the paper they have already used dimensionless units. These are\n",
    "- $L/k_{B}T$ for the temperature,\n",
    "- $\\Delta \\mu/k_{B}T$ for the chemical potential,\n",
    "- $R/k^{+}d$ for the growth rate,\n",
    "- $\\gamma/k_{B}T$ for the extra free energy after the formation of a clusterof $n$ atoms on a (001) surface,\n",
    "- $c/k^{+}d$ for the velocity of the monoatomic step.\n",
    "\n",
    "The parameter $L$ is the binding energy of the simple cubic lattice, where $L = \\varphi 3$.\\\n",
    "We will continue to use these dimensionless units as this allows for easy comparison between our results and the results from the paper."
   ]
  },
  {
   "cell_type": "markdown",
   "id": "ddca8d14-68f4-40d7-be39-dc8c26143236",
   "metadata": {},
   "source": [
    "For the simulation the impingement, evaporation and surface migration rate are used to determine if an atom will interact with the lattice. These rates have been defined as\n",
    "\\begin{equation}\n",
    "    \\begin{split}\n",
    "        k^{+} &= \\mathrm{exp}\\left(\\Delta \\mu / k_{B} T \\right) k_{3}^{-},\\\\\n",
    "        k_{n}^{-} &= \\nu \\, \\mathrm{exp}\\left(- n \\varphi / k_{B} T \\right),\\\\\n",
    "        k_{nm} &= \\frac{1}{8} \\nu \\, \\mathrm{exp}\\left\\{- \\left[ E_{\\mathrm{sd}} (n,m) + \\Delta E (n,m) \\right] / k_{B} T \\right\\},\n",
    "    \\end{split}\n",
    "\\end{equation}\n",
    "respectively."
   ]
  },
  {
   "cell_type": "markdown",
   "id": "67e055ab-313c-4739-ba35-b3d08915cfeb",
   "metadata": {},
   "source": [
    "In the equation of the migration rate $k_{nm}$ two energy terms are present. These are the activation energy $E_{sd}$ which determines the mobility of the adatoms, and $\\Delta E$ (name unknown).\\\n",
    "The activation energy $E_{sd}$ is specified as\n",
    "\\begin{equation}\n",
    "    E_\\mathrm{sd} (n,m) = \\begin{cases} \\varphi/2, & \\mbox{if either } m = 1 \\mbox{ or } n = 1 \\\\ 3 \\varphi / 2, & \\mbox{if } n \\mbox{ and } m>1, \\mbox{ and either } m=2 \\mbox{ or } n=2, \\\\ 5 \\varphi /2, & \\mbox{if } n \\mbox{ and } m>2, \\end{cases},\n",
    "\\end{equation}\n",
    "and $\\Delta E$ is specified as\n",
    "\\begin{equation}\n",
    "    \\Delta E (n,m) = \\begin{cases} (n-m)\\varphi & \\mbox{if } m \\leq n, \\\\ 0 & \\mbox{if } m>n. \\end{cases}.\n",
    "\\end{equation}"
   ]
  },
  {
   "cell_type": "markdown",
   "id": "5faefa5e-b0f0-47c3-8043-d436d415fa1e",
   "metadata": {},
   "source": [
    "When looking at the equations we can determine the last dimensionless units used in our simulation, these are for the impingement, evaporation and surface migration rate (represented in the equation as $k$)\n",
    "\\begin{equation}\n",
    "    \\tilde{k} = k/\\nu,\n",
    "\\end{equation}\n",
    "and for the energies\n",
    "\\begin{equation}\n",
    "    \\tilde{E} = E/\\varphi.\n",
    "\\end{equation}"
   ]
  },
  {
   "cell_type": "markdown",
   "id": "c807f57e-15e1-4f0c-9505-ee07a47c28dc",
   "metadata": {},
   "source": [
    "To simplify the dimensionless units from the paper we will denote them as\n",
    "\\begin{equation}\n",
    "    \\tilde{L} = L/k_{B}T , \\qquad  \\Delta\\tilde{\\mu} = \\Delta\\mu/k_{B}T , \\qquad  \\tilde{R} = R/k^{+}d , \\qquad  \\tilde{\\gamma} = \\gamma/k_{B}T , \\qquad \\tilde{c} = c/k^{+}d , \\qquad  \\tilde{T} = \\varphi/k_{B}T.\n",
    "\\end{equation}\n",
    "The expression for $\\tilde{T}$ is included because the parameter $L$ never returns in any of the equations. To prevent from introducing $\\tilde{L}/3$ in many equation $\\tilde{T}$ will be used instead."
   ]
  },
  {
   "cell_type": "markdown",
   "id": "6c5a8307-d6bf-4075-be49-a1f68c11420e",
   "metadata": {},
   "source": [
    "-----------------------------"
   ]
  },
  {
   "cell_type": "markdown",
   "id": "f60a6c13-cde6-4573-89cd-c3d562a29996",
   "metadata": {},
   "source": [
    "The dimensionless impingement, evaporation and surface migration rate will then become\n",
    "\\begin{equation}\n",
    "    \\begin{split}\n",
    "        \\tilde{k}^{+} &= \\mathrm{exp}(\\Delta\\tilde{\\mu})\\tilde{k}_{3}^{-},\\\\\n",
    "        \\tilde{k}_{n}^{-} &= \\mathrm{exp}(-n\\tilde{T}),\\\\\n",
    "        \\tilde{k}_{nm} &= \\frac{1}{8} \\mathrm{exp}\\{- [ \\tilde{E}_{\\mathrm{sd}} (n,m) + \\Delta \\tilde{E} (n,m) ] \\tilde{T}\\}.\n",
    "    \\end{split}\n",
    "\\end{equation}\n",
    "\\\n",
    "The dimensionless energies will become\n",
    "\\begin{equation}\n",
    "    \\begin{split}\n",
    "        \\tilde{E}_\\mathrm{sd} (n,m) &= \\begin{cases} 1/2, & \\mbox{if either } m = 1 \\mbox{ or } n = 1 \\\\ 3 / 2, & \\mbox{if } n \\mbox{ and } m>1, \\mbox{ and either } m=2 \\mbox{ or } n=2, \\\\ 5 /2, & \\mbox{if } n \\mbox{ and } m>2, \\end{cases}\\\\\n",
    "        \\\\\n",
    "        \\Delta \\tilde{E} (n,m) &= \\begin{cases} n-m & \\mbox{if } m \\leq n, \\\\ 0 & \\mbox{if } m>n. \\end{cases}\n",
    "    \\end{split}\n",
    "\\end{equation}"
   ]
  },
  {
   "cell_type": "markdown",
   "id": "b92b362f-78bf-4029-9fda-71dbe8c28757",
   "metadata": {
    "jp-MarkdownHeadingCollapsed": true,
    "tags": []
   },
   "source": [
    "# Nucleation and critical clusters"
   ]
  },
  {
   "cell_type": "markdown",
   "id": "f0e69a9b-ceb1-4552-8555-bb1cad68cf35",
   "metadata": {
    "tags": []
   },
   "source": [
    "Quote from paper:\n",
    "\n",
    "-----------------------------------------\n",
    "$\\textit{\"In the absence of nucleation, the probability of finding a cluster of $n$ atoms on a paticular site is}$\n",
    "\\begin{equation}\n",
    "    p_n \\cong \\mathrm{exp}(- G_{n}/k_{B}T),\n",
    "\\end{equation}\n",
    "$\\textit{where}$\n",
    "\\begin{equation}\n",
    "    G_n \\cong 4 \\gamma \\sqrt{n} - n \\Delta \\mu,\n",
    "\\end{equation}\n",
    "$\\textit{is the extra free energy after the formation of a cluster of n atoms on a}$ (001) $\\textit{surface.}$\\\n",
    "$\\textit{The rate of formation of 2D nuclei at a site is}$\n",
    "\\begin{equation}\n",
    "    J = Z \\Gamma_{n^{*}} p_{n^{*}}.\n",
    "\\end{equation}\n",
    "$\\textit{Here $n^{*}$ represents the number of atoms in a critical cluster, and it is the value of $n$ which yields the maximum $G_{n}$.}$ $\\textit{$\\Gamma_{n^{*}}$ is the rate of addition of atoms to a critical cluster, $Z$ is the Zeldovich non-equilibrium factor which accounts for a}$ $\\textit{reduction in the number of clusters during stead-state nucleation.\"}$\n",
    "\n",
    "-----------------------------------------\n",
    "Therefore, the value of $n^{*}$ is determined by\n",
    "\\begin{equation}\n",
    "    \\left.\\frac{d G_n}{dn}\\right\\vert_{n^{*}} = \\frac{2 \\gamma}{\\sqrt{n^{*}}} - \\Delta \\mu = 0\n",
    "\\end{equation}\n",
    "The number of atoms in a critical cluster is therefore $n^{*} = 4(\\gamma/\\Delta \\mu)^2 = 4(\\tilde{\\gamma}/\\Delta \\tilde{\\mu})^2$.\\\n",
    "\\\n",
    "This result is consistent with figure 2 from the paper. It shows that for larger values of $\\Delta \\mu$ the growthrate $R/k^{+}d$ increases. The result from the equation shows that for larger values of $\\Delta \\mu$ the number of atoms in a critical cluster $n^{*}$ decreases. This is consisten with figure 2 because smaller values for $n^{*}$ indicate that smaller clusters will be sustainable (and grow).\\\n",
    "\\\n",
    "The value of $\\gamma$ at temperatures higher than $0.92 T_{R}$ is $\\gamma = 0$. At temperatures less than $0.8 T_{R}$\n",
    "\\begin{equation}\n",
    "    \\begin{split}\n",
    "        \\gamma/k_{B} T &= \\varphi / 2 k_{B} T - \\mathrm{ln}[\\mathrm{coth}(\\varphi/ 4 k_{B} T)]\\\\\n",
    "        \\tilde{\\gamma} &= \\tilde{T}/2 - \\mathrm{ln}[\\mathrm{coth}(\\tilde{T}/4)]\n",
    "    \\end{split}\n",
    "\\end{equation}\n",
    "In literature, the roughening temperature $T_R$ has been determined to be $L/k_{B}T_R = 4.9$. The parameter $L$ is the binding energy of the simple cubic lattice, where $L = \\varphi 3$."
   ]
  },
  {
   "cell_type": "markdown",
   "id": "16281065-87dd-41d1-8a65-03a04da7ba29",
   "metadata": {
    "jp-MarkdownHeadingCollapsed": true,
    "tags": []
   },
   "source": [
    "# 2D nucleation vs spiral growth"
   ]
  },
  {
   "cell_type": "markdown",
   "id": "ccbe3649-3a2f-4027-8e23-42dc2d620bc4",
   "metadata": {},
   "source": [
    "The rate of formation on a perfect (001) surface is\n",
    "\\begin{equation}\n",
    "    J = k^{+} (\\Delta \\mu / k_{B} T)^{1/2} \\mathrm{exp}[-4 \\gamma^2 / (k_{B} T \\Delta \\mu)].\n",
    "\\end{equation}\n",
    "For values of $\\Delta \\mu$ in the range: $0 \\leq \\Delta \\mu \\leq \\gamma^2/k_{B} T$, the exponential is very small. This is therefore the range where screw dislocations are imporatant.\\\n",
    "\\\n",
    "The rate of formation due to dislocation is\n",
    "\\begin{equation}\n",
    "    I = bc \\Delta \\mu /(19 \\gamma a),\n",
    "\\end{equation}\n",
    "with $b$ the magnitude of the Burgers vector and $c$ the step velocity.\\\n",
    "\\\n",
    "The time $\\tau$ to grow one layer of the crystal is retated to $J$ and $I$ as\n",
    "\\begin{equation}\n",
    "    \\frac{1}{3}\\pi J \\rho c^2 \\tau^3 + I \\tau = 1.\n",
    "\\end{equation}\n",
    "Defining $Q \\equiv (\\frac{1}{3} \\pi J \\rho c^2)^{1/3}$, we can rewrite the previous equation as\n",
    "\\begin{equation}\n",
    "    (Q \\tau)^{3} + (I \\tau) = 1,\n",
    "\\end{equation}\n",
    "which gives in the limits\n",
    "\\begin{equation}\n",
    "    \\tau^{-1} \\cong \\begin{cases} Q + I/3, & \\mbox{if } I \\ll Q \\\\ I [1 + (Q/I)^3], & \\mbox{if } I \\gg Q \\end{cases}\n",
    "\\end{equation}"
   ]
  },
  {
   "cell_type": "markdown",
   "id": "8400da1d-962a-45cd-b3da-58318b83600b",
   "metadata": {},
   "source": [
    "The goal is to use the Monte Carlo simulation to simulate the growth rate of a crystal at different temperatures and different chemical potentials for both a perfect cystal suface and spiral growth due to dislocation. Therefore, we need to determine what the conditions (i.e. temperature and chemical potential) are where the \"boundary\" between growth dominated due to 2D nucleation and spiral growth is.\\\n",
    "The spiral growth regime will be limited to the values of $\\Delta \\mu$ where $Q \\leq I/3$. The growth due to 2D nucleation in this regime will be less than 4\\%. The boundary will therefore obey\n",
    "\\begin{equation}\n",
    "    \\begin{split}\n",
    "        \\frac{\\Delta \\mu_0}{k_{B} T} &= \\frac{-1.333 (\\gamma / k_{B} T)^{2}}{\\mathrm{ln}[0.0168 (c/ k^{+} a)^{1/3} (\\Delta \\mu_0 / k_{B} T)^{5/6} (k_{B} T / \\gamma) b]},\\\\\n",
    "        \\\\\n",
    "            \\Delta \\tilde{\\mu}_0 &= \\frac{-1.333 \\tilde{\\gamma}^2}{\\mathrm{ln}(0.0168\\, \\tilde{c}^{1/3} \\, \\Delta \\tilde{\\mu}_0^{5/6} \\, \\tilde{\\gamma}^{-1} \\,b)},\n",
    "    \\end{split}\n",
    "\\end{equation}\n",
    "where $a$ is the modulus of the lattice constant and $b$ is the magnitude of the Burgers vector.\\\n",
    "\\\n",
    "The parameter $c$ is the step velocity. At low temperatures the step velocity is\n",
    "\\begin{equation}\n",
    "    \\begin{split}\n",
    "        c &= k^{+} a [1 - \\mathrm{exp}(- \\Delta \\mu / k_{B} T)],\\\\\n",
    "        \\tilde{c} &= c/k^{+}a = [1 - \\mathrm{exp}(- \\Delta \\tilde{\\mu})].\n",
    "    \\end{split}\n",
    "\\end{equation}\n",
    "However, because $c$ is in the argurment of the logarithm of the equation for $\\Delta \\tilde{\\mu}_{0}$ this expression of $c$ can also be used to determine the boundary between the different growth regions. The magnitude of the lattice vector $a$ is set to unity."
   ]
  },
  {
   "cell_type": "markdown",
   "id": "64a773f7-c40b-4df3-9b3e-99d375ecffed",
   "metadata": {},
   "source": [
    "As $\\Delta \\tilde{\\mu}_0$ is at both side of the equation for the growth boundary, the value of $\\Delta \\tilde{\\mu}_0$ has to be solved by iteration."
   ]
  },
  {
   "cell_type": "markdown",
   "id": "bd392ae3-a1ae-4a60-954e-d7a4f3a92d00",
   "metadata": {},
   "source": [
    "----------------------------"
   ]
  },
  {
   "cell_type": "markdown",
   "id": "b1626b91-7ffc-4b4b-9a97-9f010e4ae64b",
   "metadata": {
    "jp-MarkdownHeadingCollapsed": true,
    "tags": []
   },
   "source": [
    "# Growth boundary"
   ]
  },
  {
   "cell_type": "markdown",
   "id": "c17b7781-a8e7-4e77-acd9-d26ffa3966d4",
   "metadata": {},
   "source": [
    "This section is focused on determining the growth boundary between growth due to 2D nucleation and spiral growth."
   ]
  },
  {
   "cell_type": "markdown",
   "id": "5fafb0c9-1c4b-4fb3-991c-c41722f9ec95",
   "metadata": {},
   "source": [
    "Determine $\\Delta \\tilde{\\mu}_0$ through iteration.\n",
    "\\begin{equation}\n",
    "    \\Delta \\tilde{\\mu}_0 = \\frac{-1.333 \\tilde{\\gamma}^2}{\\mathrm{ln}(0.0168\\, \\tilde{c}^{1/3} \\, \\Delta \\tilde{\\mu}_0^{5/6} \\, \\tilde{\\gamma}^{-1} \\,b)},\n",
    "\\end{equation}\n",
    "with\n",
    "\\begin{equation}\n",
    "    \\tilde{c} = [1 - \\mathrm{exp}(- \\Delta \\tilde{\\mu})] \\quad \\mbox{and}\n",
    "\\end{equation}\n",
    "\\\n",
    "\\begin{equation}\n",
    "    \\begin{split}\n",
    "        \\tilde{\\gamma} &= \\tilde{T}/2 - \\mathrm{ln}[\\mathrm{coth}(\\tilde{T}/4)],\\\\\n",
    "         &= \\tilde{T}/2 + \\mathrm{ln}[\\mathrm{tanh}(\\tilde{T}/4)].\n",
    "    \\end{split}\n",
    "\\end{equation}"
   ]
  },
  {
   "cell_type": "code",
   "execution_count": 2,
   "id": "cba3d719-c1f9-40c6-a812-f56cd9c766ce",
   "metadata": {},
   "outputs": [],
   "source": [
    "import numpy as np\n",
    "import matplotlib.pyplot as plt\n",
    "\n",
    "def growth_func(mu, T, b):\n",
    "    gamma = 1/2 * T + np.log(np.tanh(1/4*T))\n",
    "    c = 1 - np.exp(-mu)\n",
    "    new_mu = (-1.333 * gamma**2) / np.log(0.0168 * c**(1/3) * mu**(5/6) * 1/gamma * b)\n",
    "    return new_mu\n",
    "\n",
    "def growth_bound(mu, T, b):\n",
    "    d_mu = 1e-4\n",
    "    mu_0 = np.array([])\n",
    "    for T_i in T:\n",
    "        mu_i = growth_func(mu, T_i, b)\n",
    "        error = ((mu - mu_i)/ mu)**2\n",
    "        while error > d_mu:\n",
    "            mu_j = growth_func(mu_i, T_i, b)\n",
    "            error = ((mu_j - mu_i)/ mu_i)**2\n",
    "            mu_i = mu_j\n",
    "        mu_0 = np.append([mu_0], [mu_i])\n",
    "        #mu = mu_i\n",
    "    return mu_0"
   ]
  },
  {
   "cell_type": "code",
   "execution_count": 3,
   "id": "d109c29e-f0f6-4cc1-a544-13feeb813b0c",
   "metadata": {},
   "outputs": [],
   "source": [
    "b = 2\n",
    "init_mu = 1\n",
    "L = np.arange(5.4, 30, 0.05, dtype=float)\n",
    "T = 1/3 * L\n",
    "mu_0 = growth_bound(init_mu, T, b)"
   ]
  },
  {
   "cell_type": "code",
   "execution_count": 4,
   "id": "06695c5a-680f-424c-bbd1-321ef06251b8",
   "metadata": {},
   "outputs": [
    {
     "data": {
      "image/png": "[encoded data removed]",
      "text/plain": [
       "<Figure size 864x432 with 1 Axes>"
      ]
     },
     "metadata": {
      "needs_background": "light"
     },
     "output_type": "display_data"
    }
   ],
   "source": [
    "fig, ax = plt.subplots()\n",
    "ax.plot(L, mu_0)\n",
    "ax.set_xlabel(r'$L\\,/\\, k_{B} T$', fontsize=15)\n",
    "ax.set_ylabel(r'$\\mu\\,/\\, k_{B} T$', fontsize=15)\n",
    "ax.set_title('The growth boundary between the growth regions', fontsize=20)\n",
    "ax.text(12.3, 8.3, '2D nucleation', fontsize=15)\n",
    "ax.text(11.9, 7.3, '& spiral growth', fontsize=15)\n",
    "ax.text(23.4, 2.5, 'spiral growth', fontsize=15)\n",
    "ax.grid()\n",
    "fig.set_size_inches(12, 6)\n",
    "#plt.savefig('Growth_boundary_between_the_growth_regions.png')\n",
    "plt.show()"
   ]
  },
  {
   "cell_type": "markdown",
   "id": "98e89f8b-0160-4183-a426-682b97b1aa27",
   "metadata": {
    "tags": []
   },
   "source": [
    "## Analyzing the behaviour of $\\gamma$"
   ]
  },
  {
   "cell_type": "markdown",
   "id": "dbf1ba2d-4b24-4511-b16d-9261fcdca4c5",
   "metadata": {},
   "source": [
    "According to literature the value of $\\gamma$ is\n",
    "\\begin{equation}\n",
    "    \\gamma/k_{B}T = \\begin{cases} \\varphi/2k_{B}T - \\mathrm{ln}[\\mathrm{coth}(\\varphi/4k_{B}T)], & \\mbox{if } T < 0.8 T_R \\\\ 0, & \\mbox{if } T \\geq 0.92 T_R, \\end{cases}\n",
    "\\end{equation}\n",
    "with $L/k_{B}T_{R} \\cong 4.9$. Converting the boundaries to dimensionless units gives us\n",
    "\\begin{equation}\n",
    "    \\begin{split}\n",
    "        T < 0.8 T_R \\qquad &\\longrightarrow \\qquad L/k_{B}T > 6.125,\\\\\n",
    "        T \\geq 0.92 T_R \\qquad &\\longrightarrow \\qquad L/k_{B}T \\leq 5.326.\n",
    "    \\end{split}\n",
    "\\end{equation}\n",
    "\n",
    "This subsection is to analyze the behaviour of $\\gamma$ near this point."
   ]
  },
  {
   "cell_type": "code",
   "execution_count": 5,
   "id": "3b20ed62-ca56-4b5f-a66f-9e435fbbe2cf",
   "metadata": {},
   "outputs": [],
   "source": [
    "L = np.arange(4.5, 6.1, 0.01, dtype=float)\n",
    "T = L/3\n",
    "gamma_T = 1/2 * T + np.log(np.tanh(1/4*T))\n",
    "gamma_0 = np.zeros(len(L))"
   ]
  },
  {
   "cell_type": "code",
   "execution_count": 6,
   "id": "52240269-8bbe-4e62-8ab9-1411f525d2d3",
   "metadata": {},
   "outputs": [
    {
     "data": {
      "image/png": "[encoded data removed]",
      "text/plain": [
       "<Figure size 576x288 with 1 Axes>"
      ]
     },
     "metadata": {
      "needs_background": "light"
     },
     "output_type": "display_data"
    }
   ],
   "source": [
    "fig, ax = plt.subplots()\n",
    "ax.plot(L, gamma_T, label=r'$\\gamma\\,/\\, k_{B} T$ at $T<0.8 \\, T_{R}$')\n",
    "ax.plot(L, gamma_0, label=r'$\\gamma\\,/\\, k_{B} T$ at $T \\geq 0.92 \\, T_{R}$')\n",
    "ax.set_xlabel(r'$L\\,/\\, k_{B} T$', fontsize=15)\n",
    "ax.set_ylabel(r'$\\gamma\\,/\\, k_{B} T$', fontsize=15)\n",
    "ax.set_title(r'Behavior of $\\gamma$ near $T_{R}$', fontsize=20)\n",
    "ax.legend(loc='best', fontsize='large')\n",
    "ax.text(5.5, -0.15, r'$L\\,/\\,k_{B}T_{R} \\cong 4.9$', fontsize=13)\n",
    "ax.grid()\n",
    "fig.set_size_inches(8, 4)\n",
    "plt.show()"
   ]
  },
  {
   "cell_type": "markdown",
   "id": "68455ad9-fd6c-47c7-a4f7-f8b3e5b80357",
   "metadata": {
    "jp-MarkdownHeadingCollapsed": true,
    "tags": []
   },
   "source": [
    "# Growth rate"
   ]
  },
  {
   "cell_type": "markdown",
   "id": "f8813f9f-9683-4e14-bc0b-b4e62e6dd96f",
   "metadata": {},
   "source": [
    "The growth rate resulting from the spiral mechanism alone is\n",
    "\\begin{equation}\n",
    "    \\frac{R}{k^{+}d} = \\frac{0.053 b \\Delta \\mu [1 - \\mathrm{exp} (-\\Delta \\mu /k_{B}T)]}{\\varphi / 2 k_{B} T - \\ln[\\coth(\\varphi / 4 k_{b} T)]}.\n",
    "\\end{equation}\n",
    "Here $b$ represents the magnitude of the Burgers vector of the dislocation pair in units of the layer spacing, and $d$ is the layer spacing.\\\n",
    "\\\n",
    "$\\textbf{After deriving this expression myself, I discovered that this expression for the spiral growth rate is probably wrong.}$ $\\textbf{When looking at the equation at first glance, you can see that the dimensions do not match.}$ $\\textbf{The numirator has a chemical potential which units do not cancel out.}$\\\n",
    "\\\n",
    "I think the expression of the growth rate for the spiral growth should be\n",
    "\\begin{equation}\n",
    "    \\begin{split}\n",
    "        \\frac{R}{k^{+}d} &= \\frac{0.053 b (\\Delta \\mu / k_{B}T) [1 - \\mathrm{exp} (-\\Delta \\mu /k_{B}T)]}{\\varphi / 2 k_{B} T - \\ln[\\coth(\\varphi / 4 k_{b} T)]},\\\\\n",
    "        \\\\\n",
    "        \\tilde{R} &= \\frac{0.053 b \\Delta \\tilde{\\mu} [1 - \\mathrm{exp} (-\\Delta \\tilde{\\mu})]}{\\tilde{T}/2 - \\ln[\\coth(\\tilde{T}/4)]}.\n",
    "    \\end{split}\n",
    "\\end{equation}"
   ]
  },
  {
   "cell_type": "markdown",
   "id": "f09baf5c-d50a-4193-9b76-b00d8159c653",
   "metadata": {},
   "source": [
    "-----------------------------------"
   ]
  },
  {
   "cell_type": "markdown",
   "id": "6481a76e-9bd7-4b25-a02c-3d4d5744f170",
   "metadata": {},
   "source": [
    "The growth rate of a perfect crystal is (i.e. 2D nucleation)\n",
    "\\begin{equation}\n",
    "    \\begin{split}\n",
    "        \\frac{R}{k^{+}d} &= \\left( \\frac{\\pi}{3} \\right)^{1/3} \\left( \\frac{\\Delta \\mu}{k_{B} T} \\right)^{1/6} \\left[ 1 - \\mathrm{exp} \\left( \\frac{- \\Delta \\mu}{k_{B} T} \\right) \\right]^{2/3} \\mathrm{exp} \\left( \\frac{- 4 \\gamma^2}{3 k_{B} T \\Delta \\mu} \\right),\\\\\n",
    "        \\\\\n",
    "        &= \\left( \\frac{\\pi}{3} \\right)^{1/3} \\left( \\frac{\\Delta \\mu}{k_{B} T} \\right)^{1/6} \\left[ 1 - \\mathrm{exp} \\left( \\frac{- \\Delta \\mu}{k_{B} T} \\right) \\right]^{2/3} \\mathrm{exp} \\left[- \\frac{4}{3} \\left( \\frac{\\gamma}{k_{B} T} \\right)^2 \\frac{k_{B} T}{\\Delta \\mu} \\right],\\\\\n",
    "        \\\\\n",
    "        \\tilde{R} &= \\left( \\frac{\\pi}{3} \\right)^{1/3} \\Delta \\tilde{\\mu}^{1/6} [ 1 - \\mathrm{exp}(- \\Delta \\tilde{\\mu})]^{2/3} \\mathrm{exp} \\left[- \\frac{4}{3} \\left( \\frac{\\tilde{\\gamma}}{\\Delta \\tilde{\\mu}} \\right) \\right].\n",
    "    \\end{split}\n",
    "\\end{equation}\n",
    "According to literature the value of $\\gamma$ is dependent on the temperature as\n",
    "\\begin{equation}\n",
    "    \\gamma/k_{B}T = \\begin{cases} \\varphi/2k_{B}T - \\mathrm{ln}[\\mathrm{coth}(\\varphi/4k_{B}T)], & \\mbox{if } L/k_{B}T > 6.125, \\\\ 0, & \\mbox{if } L/k_{B}T \\leq 5.326, \\end{cases}\n",
    "\\end{equation}\n",
    "with $L/k_{B}T_{R} \\cong 4.9$. "
   ]
  },
  {
   "cell_type": "markdown",
   "id": "24d60725-c2da-4d3c-af65-38c36e7de95c",
   "metadata": {
    "jp-MarkdownHeadingCollapsed": true,
    "tags": []
   },
   "source": [
    "## Growth rate 2D nucleation code"
   ]
  },
  {
   "cell_type": "markdown",
   "id": "84c77841-592b-4eef-82da-7383a05f343d",
   "metadata": {},
   "source": [
    "\\begin{equation}\n",
    "    \\tilde{R} = (\\pi/3)^{1/3} \\Delta \\tilde{\\mu}^{1/6} [ 1 - \\mathrm{exp}(- \\Delta \\tilde{\\mu})]^{2/3} \\mathrm{exp} [- 4 \\tilde{\\gamma}/3\\Delta \\tilde{\\mu}]\n",
    "\\end{equation}"
   ]
  },
  {
   "cell_type": "code",
   "execution_count": 7,
   "id": "3f1e0353-9fb4-424b-be30-ac6055cc95d5",
   "metadata": {},
   "outputs": [],
   "source": [
    "def nucleation_2D(mu, T):\n",
    "    L_low = 5.326\n",
    "    L_high = 6.125\n",
    "    T_low = L_low/3\n",
    "    T_high = L_high/3\n",
    "    R = np.zeros(len(mu))\n",
    "    mu_plot = mu\n",
    "    for T_i in T:\n",
    "        if T_i  <= T_low:\n",
    "            gamma = 0\n",
    "        elif T_i > T_high:\n",
    "            gamma = 1/2*T_i + np.log(np.tanh(1/4*T_i))\n",
    "        else:\n",
    "            raise ValueError('Value for T is outside exeptible boundary. T must be in the domain T < {} and {} < T'.format(str(np.round(T_low, decimals=3)), str(np.round(T_high, decimals=3))))\n",
    "        R_i = (np.pi/3)**(1/3) * mu**(1/6) * (1 - np.exp(-mu))**(2/3) * np.exp(-4/3 * gamma**2 /mu)\n",
    "        R = np.vstack((R, R_i))\n",
    "        mu_plot = np.vstack((mu_plot, mu))\n",
    "    return R[1:,:], mu_plot[1:,:]"
   ]
  },
  {
   "cell_type": "code",
   "execution_count": 8,
   "id": "d3b3cee5-953e-40b1-a953-c5f935414755",
   "metadata": {},
   "outputs": [],
   "source": [
    "L = np.array([4.5, 9, 12])\n",
    "mu = np.arange(0.01, 4, 0.01, dtype=float)\n",
    "\n",
    "T = L/3\n",
    "\n",
    "R, mu_plot = nucleation_2D(mu, T)"
   ]
  },
  {
   "cell_type": "code",
   "execution_count": 9,
   "id": "c7d23530-8e41-4013-850f-c39f8c01f9f5",
   "metadata": {},
   "outputs": [
    {
     "data": {
      "image/png": "[encoded data removed]",
      "text/plain": [
       "<Figure size 720x360 with 1 Axes>"
      ]
     },
     "metadata": {
      "needs_background": "light"
     },
     "output_type": "display_data"
    }
   ],
   "source": [
    "plt.figure(figsize=(10,5))\n",
    "for i in range(len(L)):\n",
    "    plt.plot(mu_plot[i,:], R[i,:], label=r'$L\\,/\\, k_B T \\,=\\,${}'.format(str(L[i])))\n",
    "plt.xlabel(r'$\\Delta\\mu\\,/\\,k_{B}T$', fontsize=15)\n",
    "plt.ylabel(r'$R\\,/\\,k^{+}d$', fontsize=15)\n",
    "plt.title('Growth rate 2D nucleation', fontsize=20)\n",
    "plt.legend(loc='best', fontsize='large')\n",
    "plt.grid()\n",
    "plt.xlim(0, np.max(mu))\n",
    "plt.ylim(0, 0.5)\n",
    "#plt.savefig('Growth_rate_2D_nucleation_v1')\n",
    "plt.show()"
   ]
  },
  {
   "cell_type": "markdown",
   "id": "b8af39f4-4d65-453e-a60b-477ffc8a5b75",
   "metadata": {},
   "source": [
    "$\\textbf{The growth rate is too large, somewhere there is probably a factor in the wrong place or something}$"
   ]
  },
  {
   "cell_type": "markdown",
   "id": "bf3fd2fd-5964-440e-81a5-620ec147aa45",
   "metadata": {},
   "source": [
    "\\begin{equation}\n",
    "    \\begin{split}\n",
    "        \\frac{R}{k^{+}d} &= \\left( \\frac{\\pi}{3} \\right)^{1/3} \\left( \\frac{\\Delta \\mu}{k_{B} T} \\right)^{1/6} \\left[ 1 - \\mathrm{exp} \\left( \\frac{- \\Delta \\mu}{k_{B} T} \\right) \\right]^{2/3} \\mathrm{exp} \\left( \\frac{- 4 \\gamma^2}{3 k_{B} T \\Delta \\mu} \\right)\\\\\n",
    "        \\\\\n",
    "        &= \\left( \\frac{\\pi}{3} \\right)^{1/3} \\left( \\frac{\\Delta \\mu}{k_{B} T} \\right)^{1/6} \\left[ 1 - \\mathrm{exp} \\left( \\frac{- \\Delta \\mu}{k_{B} T} \\right) \\right]^{2/3} \\mathrm{exp} \\left[ \\frac{- 4}{3} \\left( \\frac{\\gamma}{k_{B} T} \\right)^2 \\frac{k_{B} T}{\\Delta \\mu} \\right]\n",
    "    \\end{split}\n",
    "\\end{equation}"
   ]
  },
  {
   "cell_type": "markdown",
   "id": "ea2630fb-c0fd-4879-918e-88b72e509deb",
   "metadata": {
    "jp-MarkdownHeadingCollapsed": true,
    "tags": []
   },
   "source": [
    "## Growth rate spiral growth"
   ]
  },
  {
   "cell_type": "markdown",
   "id": "a9555a93-e1ef-4e49-a8e1-0b9da7655539",
   "metadata": {},
   "source": [
    "The analytic spiral growth rate is only accurate at $L/k_{B}T>6.125$, otherwise $\\gamma$ (the extra free energy of an atom at the edge of a cluster) becomes negative and therefore the growth rate becomes negative.\\\n",
    "\\\n",
    "\\begin{equation}\n",
    "    \\tilde{R} = \\frac{0.053 b \\Delta \\tilde{\\mu} [1 - \\mathrm{exp} (-\\Delta \\tilde{\\mu})]}{\\tilde{T}/2 - \\ln[\\coth(\\tilde{T}/4)]}\n",
    "\\end{equation}"
   ]
  },
  {
   "cell_type": "code",
   "execution_count": 10,
   "id": "ba64ffcb-70a1-4610-ab0e-a4bc28679c80",
   "metadata": {},
   "outputs": [],
   "source": [
    "def spiral_growth(mu, T, b):\n",
    "    L_high = 6.125\n",
    "    T_high = L_high/3\n",
    "    R = np.zeros(len(mu))\n",
    "    mu_plot = mu\n",
    "    for T_i in T:\n",
    "        if T_i <= T_high:\n",
    "            raise ValueError('Value for T is outside exeptible boundary. T must be in the domain T < {} and {} < T'.format(str(np.round(T_low, decimals=3)), str(np.round(T_high, decimals=3))))\n",
    "        else:\n",
    "            R_i = (0.053 * b * mu * (1 - np.exp(-mu))) / (1/2*T_i - np.log(np.tanh(1/4*T_i)))\n",
    "        R = np.vstack((R, R_i))\n",
    "        mu_plot = np.vstack((mu_plot, mu))\n",
    "    return R[1:,:], mu_plot[1:,:]"
   ]
  },
  {
   "cell_type": "code",
   "execution_count": 11,
   "id": "245c9c98-e0b2-4278-ade5-35b0fe61356c",
   "metadata": {},
   "outputs": [],
   "source": [
    "b = 2\n",
    "L = np.array([9, 12, 20])\n",
    "mu = np.arange(0.01, 4, 0.01, dtype=float)\n",
    "\n",
    "T = L/3\n",
    "\n",
    "R_s, mu_plot = spiral_growth(mu, T, b)"
   ]
  },
  {
   "cell_type": "code",
   "execution_count": 12,
   "id": "7db563ef-539b-4eb2-923a-84abc3909f99",
   "metadata": {},
   "outputs": [
    {
     "data": {
      "image/png": "[encoded data removed]",
      "text/plain": [
       "<Figure size 720x360 with 1 Axes>"
      ]
     },
     "metadata": {
      "needs_background": "light"
     },
     "output_type": "display_data"
    }
   ],
   "source": [
    "plt.figure(figsize=(10,5))\n",
    "for i in range(len(L)):\n",
    "    plt.plot(mu_plot[i,:], R_s[i,:], label=r'$L\\,/\\, k_B T \\,=\\,${}'.format(str(L[i])))\n",
    "plt.xlabel(r'$\\Delta\\mu\\,/\\,k_{B}T$', fontsize=15)\n",
    "plt.ylabel(r'$R\\,/\\,k^{+}d$', fontsize=15)\n",
    "plt.title('Growth rate spiral growth', fontsize=20)\n",
    "plt.legend(loc='best', fontsize='large')\n",
    "plt.grid()\n",
    "plt.xlim(0, np.max(mu))\n",
    "plt.ylim(0, 0.3)\n",
    "#plt.savefig('Growth_rate_spiral_growth_v1')\n",
    "plt.show()"
   ]
  },
  {
   "cell_type": "markdown",
   "id": "d2a619f6-f7ea-40a6-900a-a01654d86ee1",
   "metadata": {
    "jp-MarkdownHeadingCollapsed": true,
    "tags": []
   },
   "source": [
    "# Simulating Dislocation"
   ]
  },
  {
   "cell_type": "markdown",
   "id": "febc228c-7202-455e-a5e0-b0adc112ba06",
   "metadata": {},
   "source": [
    "The dislocation on a $(001)$ surface is simulated in the calculation of the closest neighbour."
   ]
  },
  {
   "cell_type": "markdown",
   "id": "2c6349b6-8782-41bb-a3e3-cb4cd1cab4d9",
   "metadata": {},
   "source": [
    "The square represents the top view of the crystal surface, and the matrix representing the crystal surface. The coordinate of a surface point in the matrix is defined as $(i, j)$, which means that the surface point $(0, 0)$ is in the top left corner and $(0,1)$ the top right corner. The dislocation in this example lies in the $(010)$ plane and goes from the botom to the center of the matrix.\\\n",
    "The sign of the magnitude of the Burgers vector determines wether a step will go up or down. dislocation_neighbours scans the surface matrix and compairs it with the matrices from dislocation matrices. In the left image this would be scanning from left to right and from up to down. If the sign of $b$ is positive it will encounter an dislocation that is a step up and if the sign is negative is would be a step down. The value for $b$ can also be set to 0, this would mean that there is no dislocation.\n",
    "\n",
    "\n",
    "            \n",
    "      Crystal surface with dislocation                    Bottom side view of the dislocation\n",
    "\n",
    "      --------------------------------                    for b>0\n",
    "     |                                |                   \n",
    "     |                                |                                        --------------\n",
    "     |                                |                                       |\n",
    "     |                                |                                       |\n",
    "     |                                |                         --------------\n",
    "     |                                |                   \n",
    "     |                    _   _   _   |                   \n",
    "     |                |               |   [start]         for b<0\n",
    "     |                |               |                   \n",
    "     |                |               |                         --------------\n",
    "     |                |               |                                       |\n",
    "     |                |               |                                       |\n",
    "     |                |               |                                        --------------\n",
    "     |                |               |                   \n",
    "      --------------------------------    [end]           \n",
    "                  [face_loc]\n",
    "           \n",
    "           "
   ]
  },
  {
   "cell_type": "code",
   "execution_count": 13,
   "id": "9cc95cf5-e175-4456-9805-d2b1f44efb7c",
   "metadata": {},
   "outputs": [],
   "source": [
    "def dislocation_matrices(dims, face, face_loc, boundaries, b):\n",
    "    \"\"\"Defining a single dislocation line on the (001) cystal surface.\n",
    "    \n",
    "    Parameter\n",
    "    ---------\n",
    "    dims : Tulple or nd.array\n",
    "        Dimensions of the crystal surface\n",
    "    face : int --> {0, 1}\n",
    "        The plain the dislocation line is located in\n",
    "        Value\n",
    "        -----\n",
    "        0 : dislocation line lies in the (100) plain\n",
    "        1 : dislocation line lies in the (010) plain\n",
    "    face_loc : int --> {1:dims[i]-1}\n",
    "        The location of the plane the dislocation line lies in. For\n",
    "        [face_loc] = n, the dislocation is between the (n-1)th and nth\n",
    "        atom.\n",
    "    boundaries : Tulple --> [start, end]\n",
    "        The boundaries of the dislocation line with [start] < [end]\n",
    "        Value\n",
    "        -----\n",
    "        start : {0:dims[i]-1}\n",
    "        end : {1:dims[i]}\n",
    "    b : int\n",
    "        The magnitude of the Burgers vector\n",
    "        If b=0, there is no dislocation\n",
    "        If b>0, the step will go up\n",
    "        If b<0, the step will go down\n",
    "    \n",
    "    Return\n",
    "    ------\n",
    "    forward_matrix : nd.array\n",
    "        Matrix used to create dislocation when looking at the forward neighbour\n",
    "    backward_matrix : nd.array\n",
    "        Matrix used to create dislocation when looking at the backward neighbour\n",
    "    \"\"\"\n",
    "    forward_matrix = np.zeros(dims)\n",
    "    backward_matrix = np.zeros(dims)\n",
    "    line = np.arange(boundaries[0], boundaries[1], 1, dtype=int)\n",
    "    dislocation_line = np.ones(boundaries[1]-boundaries[0])*b\n",
    "    if face == 0:\n",
    "        forward_matrix[face_loc, line] = dislocation_line\n",
    "        backward_matrix[face_loc-1, line] = -dislocation_line\n",
    "    elif face == 1:\n",
    "        forward_matrix[line, face_loc] = dislocation_line\n",
    "        backward_matrix[line, face_loc-1] = -dislocation_line\n",
    "    else:\n",
    "        raise ValueWarning('Value for [face] should be either 0 or 1')\n",
    "    \n",
    "    return forward_matrix, backward_matrix\n",
    "\n",
    "\n",
    "def dislocation_neighbours(surface, face, forward_matrix, backward_matrix):\n",
    "    \"\"\"Identifying the number of neighbours of each surface atom using periodic boundary\n",
    "    conditions for a surface with a single dislocation.\n",
    "    \n",
    "    Parameter\n",
    "    ---------\n",
    "    surface : nd.array\n",
    "        An N x N matrix representing the surface of a crystal\n",
    "    face : int --> {0, 1}\n",
    "        The plain the dislocation line is located in\n",
    "        Value\n",
    "        -----\n",
    "        0 : dislocation line lies in the (100) plain\n",
    "        1 : dislocation line lies in the (010) plain\n",
    "    forward_matrix : nd.array\n",
    "        Matrix used to create dislocation when looking at the forward neighbour\n",
    "    backward_matrix : nd.array\n",
    "        Matrix used to create dislocation when looking at the backward neighbour\n",
    "    \n",
    "    Return\n",
    "    ------\n",
    "    neighbours : nd.array\n",
    "        An N x N matrix representing the number of neighbouring spaces of location (i, j)\n",
    "        of the crystal surface that are occupied by an atom\n",
    "    \"\"\"\n",
    "    neighbours = np.ones(dims)\n",
    "    forward_neighbour = surface + forward_matrix\n",
    "    backward_neighbour = surface + backward_matrix\n",
    "    \n",
    "    if face == 0:\n",
    "        for i in range(dims[0]):\n",
    "            for j in range(dims[1]):\n",
    "                if surface[i,j] <= forward_neighbour[int(i+1-dims[0]*np.floor((i+1)/dims[0])),j]:\n",
    "                    neighbours[i,j] += 1\n",
    "                if surface[i,j] <= surface[i,int(j+1-dims[1]*np.floor((j+1)/dims[1]))]:\n",
    "                    neighbours[i,j] += 1\n",
    "                if surface[i,j] <= backward_neighbour[int(i-1-dims[0]*np.floor((i-1)/dims[0])),j]:\n",
    "                    neighbours[i,j] += 1\n",
    "                if surface[i,j] <= surface[i,int(j-1-dims[1]*np.floor((j-1)/dims[1]))]:\n",
    "                    neighbours[i,j] += 1\n",
    "    elif face == 1:\n",
    "        for i in range(dims[0]):\n",
    "            for j in range(dims[1]):\n",
    "                if surface[i,j] <= surface[int(i+1-dims[0]*np.floor((i+1)/dims[0])),j]:\n",
    "                    neighbours[i,j] += 1\n",
    "                if surface[i,j] <= forward_neighbour[i,int(j+1-dims[1]*np.floor((j+1)/dims[1]))]:\n",
    "                    neighbours[i,j] += 1\n",
    "                if surface[i,j] <= surface[int(i-1-dims[0]*np.floor((i-1)/dims[0])),j]:\n",
    "                    neighbours[i,j] += 1\n",
    "                if surface[i,j] <= backward_neighbour[i,int(j-1-dims[1]*np.floor((j-1)/dims[1]))]:\n",
    "                    neighbours[i,j] += 1\n",
    "    else:\n",
    "        raise ValueWarning('Value for the face of the dislocation should be either 0 for (010) plane or 1 for the (100) plane')\n",
    "    return neighbours"
   ]
  },
  {
   "cell_type": "markdown",
   "id": "7497b66c-4353-4098-9c39-44a8e337ce26",
   "metadata": {},
   "source": [
    "$\\textbf{check if dislocation_matrix and dislocation_neighbours indead simulate a dislocation in the crystal surface}$"
   ]
  },
  {
   "cell_type": "code",
   "execution_count": 14,
   "id": "6e8b3ef2-6356-4247-b220-7b9913a0d5e7",
   "metadata": {},
   "outputs": [
    {
     "name": "stdout",
     "output_type": "stream",
     "text": [
      "[[1. 1. 1. 1. 1.]\n",
      " [1. 1. 1. 1. 1.]\n",
      " [1. 1. 1. 1. 1.]\n",
      " [1. 1. 1. 1. 1.]\n",
      " [1. 1. 1. 1. 1.]]\n",
      "[[0. 0. 0. 0. 0.]\n",
      " [0. 0. 0. 0. 0.]\n",
      " [2. 2. 2. 0. 0.]\n",
      " [0. 0. 0. 0. 0.]\n",
      " [0. 0. 0. 0. 0.]]\n",
      "[[ 0.  0.  0.  0.  0.]\n",
      " [-2. -2. -2.  0.  0.]\n",
      " [ 0.  0.  0.  0.  0.]\n",
      " [ 0.  0.  0.  0.  0.]\n",
      " [ 0.  0.  0.  0.  0.]]\n"
     ]
    }
   ],
   "source": [
    "dims = [5, 5]\n",
    "face = 0\n",
    "face_loc = 2\n",
    "boundaries = [0,3]\n",
    "b = 2\n",
    "surface = cf.init_crystal(dims)\n",
    "print(surface)\n",
    "f_matrix, b_matrix = dislocation_matrices(dims, face, face_loc, boundaries, b)\n",
    "print(f_matrix)\n",
    "print(b_matrix)"
   ]
  },
  {
   "cell_type": "code",
   "execution_count": 15,
   "id": "98a3eb6b-5109-42b4-9344-518601075eaf",
   "metadata": {},
   "outputs": [
    {
     "name": "stdout",
     "output_type": "stream",
     "text": [
      "[[5. 5. 5. 5. 5.]\n",
      " [5. 5. 5. 5. 5.]\n",
      " [4. 4. 4. 5. 5.]\n",
      " [5. 5. 5. 5. 5.]\n",
      " [5. 5. 5. 5. 5.]]\n"
     ]
    }
   ],
   "source": [
    "neigh = dislocation_neighbours(surface, face, f_matrix, b_matrix)\n",
    "print(neigh)"
   ]
  },
  {
   "cell_type": "markdown",
   "id": "ea91b785-3dec-4834-867b-85f1acf3afc3",
   "metadata": {
    "jp-MarkdownHeadingCollapsed": true,
    "tags": []
   },
   "source": [
    "# Fixing the function for the migration rate"
   ]
  },
  {
   "cell_type": "markdown",
   "id": "df447172-fba3-4bf8-bbd5-fcf13e421edd",
   "metadata": {},
   "source": [
    "Original function"
   ]
  },
  {
   "cell_type": "code",
   "execution_count": 16,
   "id": "181db24b-e1d9-4182-bce1-a98a585279a3",
   "metadata": {},
   "outputs": [],
   "source": [
    "def surface_migration_rate(n, m, T):\n",
    "    \"\"\"\n",
    "    Parameter\n",
    "    ---------\n",
    "    n : int\n",
    "        Number of neighbours of the selected atom\n",
    "    m : int\n",
    "        Number of neighbours of the neighbour of the selected particle\n",
    "    T : float\n",
    "        Dimensionless temperature\n",
    "\n",
    "    Return\n",
    "    ------\n",
    "    k_nm : float\n",
    "        Dimensionless migration rate\n",
    "    \"\"\"\n",
    "\n",
    "    if n == 1 or m == 1:\n",
    "        Esd = 1/2\n",
    "    elif n == 2 or m == 2:\n",
    "        Esd = 3/2\n",
    "    else:\n",
    "        Esd = 5/2\n",
    "\n",
    "    if m <= n:\n",
    "        DeltaE = n-m\n",
    "    else:\n",
    "        DeltaE = 0\n",
    "\n",
    "    k_nm = 1/8*np.exp(-(Esd+DeltaE)*T)\n",
    "    return k_nm"
   ]
  },
  {
   "cell_type": "markdown",
   "id": "29a615dd-8635-4509-be32-d597e671b715",
   "metadata": {},
   "source": [
    "$\\textbf{Quote from paper}$\n",
    "\n",
    "--------------------------\n",
    "\n",
    "$\\textit{\"In the case of surface migration, some flexibility is allowed in the choice of transition probabilities.}$ $\\textit{In this work, a surface atom with n neighbors jumps to a site where it would have $m$ neighbors at the rate}$\n",
    "\\begin{equation}\n",
    "    k_{nm} = \\frac{1}{8} \\nu \\, \\mathrm{exp}\\left\\{- \\left[ E_{\\mathrm{sd}} (n,m) + \\Delta E (n,m) \\right] / k_{B} T \\right\\}\n",
    "\\end{equation}\n",
    "$\\textit{\"}$\n",
    "\n",
    "--------------------------"
   ]
  },
  {
   "cell_type": "markdown",
   "id": "858f3fa8-c69c-4387-885c-786ddc90d89f",
   "metadata": {},
   "source": [
    "The value of $m$ is the number of neighbours the atom will have if it will jump. Therefore the number of neighbours has to be determined when the atom has left its original position. The number of neighbours determined using the functions nearest_neighbours and dislocation_neighbours can therefore NOT be used."
   ]
  },
  {
   "cell_type": "code",
   "execution_count": 17,
   "id": "76ff3a1a-660a-4c69-ada0-fa2586565f2b",
   "metadata": {},
   "outputs": [],
   "source": [
    "def nm_migration_rate(loc_n, loc_m, surface, neighbours, T, face, forward_matrix,\n",
    "                      backward_matrix):\n",
    "    \"\"\"The migration rate of an atom from a position of n neighbours to m neighbours.\n",
    "\n",
    "    Parameter\n",
    "    ---------\n",
    "    loc_n : Tulple\n",
    "        The location of the atom on the crystal surface in its original position\n",
    "    loc_m : Tulple\n",
    "        The location of the atom on the crystal surface in its new position\n",
    "    surface : nd.array\n",
    "        The surface of the crystal\n",
    "    neighbours : nd.array\n",
    "        The number of neighbouring spaces of location (i, j) of the crystal surface \n",
    "        that are occupied by an atom\n",
    "    T : float\n",
    "        Dimensionless temperature\n",
    "    face : int --> {0, 1}\n",
    "        The plain the dislocation line is located in\n",
    "    forward_matrix : nd.array\n",
    "        Matrix used to create dislocation when looking at the forward neighbour\n",
    "    backward_matrix : nd.array\n",
    "        Matrix used to create dislocation when looking at the backward neighbour\n",
    "\n",
    "    Return\n",
    "    ------\n",
    "    k_nm : float\n",
    "        Dimensionless migration rate\n",
    "    \"\"\"\n",
    "    \n",
    "    n = neighbours(loc)\n",
    "    surface[loc_n] += -1\n",
    "    surface[loc_m] += 1\n",
    "    m = 1\n",
    "    if face == 0:\n",
    "        if surface[loc_m] <= forward_neighbour[int(loc_m[0]+1-dims[0]*np.floor((loc_m[0]+1)/dims[0])),loc_m[1]]:\n",
    "            m += 1\n",
    "        if surface[loc_m] <= surface[loc_m[0],int(loc_m[1]+1-dims[1]*np.floor((loc_m[1]+1)/dims[1]))]:\n",
    "            m += 1\n",
    "        if surface[loc_m] <= backward_neighbour[int(loc_m[0]-1-dims[0]*np.floor((loc_m[0]-1)/dims[0])),loc_m[1]]:\n",
    "            m += 1\n",
    "        if surface[loc_m] <= surface[loc_m[0],int(loc_m[1]-1-dims[1]*np.floor((loc_m[1]-1)/dims[1]))]:\n",
    "            m += 1\n",
    "    else:\n",
    "        if surface[loc_m] <= surface[int(loc_m[0]+1-dims[0]*np.floor((loc_m[0]+1)/dims[0])),loc_m[1]]:\n",
    "            m += 1\n",
    "        if surface[loc_m] <= forward_neighbour[loc_m[0],int(loc_m[1]+1-dims[1]*np.floor((loc_m[1]+1)/dims[1]))]:\n",
    "            m += 1\n",
    "        if surface[loc_m] <= surface[int(loc_m[0]-1-dims[0]*np.floor((loc_m[0]-1)/dims[0])),loc_m[1]]:\n",
    "            m += 1\n",
    "        if surface[loc_m] <= backward_neighbour[loc_m[0],int(loc_m[1]-1-dims[1]*np.floor((loc_m[1]-1)/dims[1]))]:\n",
    "            m += 1\n",
    "\n",
    "    if n == 1 or m == 1:\n",
    "        Esd = 1/2\n",
    "    elif n == 2 or m == 2:\n",
    "        Esd = 3/2\n",
    "    else:\n",
    "        Esd = 5/2\n",
    "\n",
    "    if m <= n:\n",
    "        DeltaE = n-m\n",
    "    else:\n",
    "        DeltaE = 0\n",
    "\n",
    "    k_nm = 1/8*np.exp(-(Esd+DeltaE)*T)\n",
    "    return k_nm"
   ]
  },
  {
   "cell_type": "markdown",
   "id": "031e1d7a-9133-4b07-a5cc-8a6379ecb56f",
   "metadata": {
    "jp-MarkdownHeadingCollapsed": true,
    "tags": []
   },
   "source": [
    "# Simulating spiral growth"
   ]
  },
  {
   "cell_type": "markdown",
   "id": "06f30c20-0755-4c97-9b99-8460aa2c3112",
   "metadata": {
    "jp-MarkdownHeadingCollapsed": true,
    "tags": []
   },
   "source": [
    "## Analyse and change choos_subset"
   ]
  },
  {
   "cell_type": "code",
   "execution_count": 18,
   "id": "e26a1856-b244-4ade-bfcd-95fa9262e497",
   "metadata": {},
   "outputs": [],
   "source": [
    "def dis_choose_subset(surface, T, mu, face, f_matrix, b_matrix):\n",
    "    \"\"\"choose the number of neighbours each atom in the subset will have in which interaction will occur\n",
    "    \n",
    "    Parameter\n",
    "    ---------\n",
    "    surface : nd.array\n",
    "        An N x N matrix representing the surface of a crystal\n",
    "    T : float\n",
    "        Dimensionless temperature\n",
    "    mu : float\n",
    "        Dimensionless chemical potential\n",
    "\n",
    "    Return\n",
    "    ------\n",
    "    subset : \n",
    "\n",
    "    \"\"\"\n",
    "    counts = dict(zip([1, 2, 3, 4, 5], [0, 0, 0, 0, 0]))\n",
    "    neigh = dislocation_neighbours(surface, face, f_matrix, b_matrix)\n",
    "    unique, counting = np.unique(neigh, return_counts = True)\n",
    "    index = 0\n",
    "    for number in unique:\n",
    "        counts[number] = counting[index]\n",
    "        index += 1\n",
    "\n",
    "    denom = 0\n",
    "    for i in range(1,6):\n",
    "        denom += counts[i]*(cf.evaporation_rate(i,T)+cf.impingement_rate(mu, T)+cf.surface_migration_rate(i,i,T))\n",
    "\n",
    "    prob = np.zeros(5)\n",
    "    for i in range(5):\n",
    "        prob[i] = counts[i+1]*(cf.evaporation_rate(i+1,T)+cf.impingement_rate(mu, T)+cf.surface_migration_rate(i+1,i+1,T))/denom\n",
    "    print(np.sum(prob))\n",
    "\n",
    "    rand = uniform(0,1)\n",
    "    if rand < prob[0]:\n",
    "        subset = 1\n",
    "    elif rand < prob[0] + prob[1]:\n",
    "        subset = 2\n",
    "    elif rand < prob[0] + prob[1] + prob[2]:\n",
    "        subset = 3\n",
    "    elif rand < prob[0] + prob[1] + prob[2] + prob[3]:\n",
    "        subset = 4\n",
    "    elif rand < prob[0] + prob[1] + prob[2] + +prob[3] + prob[4]:\n",
    "        subset = 5\n",
    "\n",
    "    return subset"
   ]
  },
  {
   "cell_type": "code",
   "execution_count": 19,
   "id": "a83922b2-aa93-4c48-ac18-71e8c51fa562",
   "metadata": {},
   "outputs": [
    {
     "name": "stdout",
     "output_type": "stream",
     "text": [
      "1.0\n",
      "5\n"
     ]
    }
   ],
   "source": [
    "from random import uniform, choice\n",
    "T = 10\n",
    "mu = 6\n",
    "\n",
    "dims = [5, 5]\n",
    "face = 0\n",
    "face_loc = 2\n",
    "boundaries = [0,3]\n",
    "b = 2\n",
    "surface = cf.init_crystal(dims)\n",
    "f_matrix, b_matrix = dislocation_matrices(dims, face, face_loc, boundaries, b)\n",
    "subset = dis_choose_subset(surface, T, mu, face, f_matrix, b_matrix)\n",
    "print(subset)"
   ]
  },
  {
   "cell_type": "markdown",
   "id": "694a56b1-81b2-44b6-b3cc-bd86b4f2f88d",
   "metadata": {},
   "source": [
    "Sum of the probabilities is 1"
   ]
  },
  {
   "cell_type": "code",
   "execution_count": 20,
   "id": "f8145e4b-34ba-4892-89e7-ee9380fce32f",
   "metadata": {},
   "outputs": [
    {
     "name": "stdout",
     "output_type": "stream",
     "text": [
      "{1: 0, 2: 0, 3: 0, 4: 3, 5: 22}\n"
     ]
    }
   ],
   "source": [
    "dims = [5, 5]\n",
    "face = 0\n",
    "face_loc = 2\n",
    "boundaries = [0,3]\n",
    "b = 2\n",
    "surface = cf.init_crystal(dims)\n",
    "f_matrix, b_matrix = dislocation_matrices(dims, face, face_loc, boundaries, b)\n",
    "\n",
    "counts = dict(zip([1, 2, 3, 4, 5], [0, 0, 0, 0, 0]))\n",
    "neigh = dislocation_neighbours(surface, face, f_matrix, b_matrix)\n",
    "unique, counting = np.unique(neigh, return_counts = True)\n",
    "index = 0\n",
    "for number in unique:\n",
    "    counts[number] = counting[index]\n",
    "    index += 1\n",
    "\n",
    "print(counts)"
   ]
  },
  {
   "cell_type": "code",
   "execution_count": 21,
   "id": "d5c91184-7323-4dce-9652-424967077de4",
   "metadata": {},
   "outputs": [
    {
     "name": "stdout",
     "output_type": "stream",
     "text": [
      "{1: 5, 2: 5, 3: 5, 4: 5, 5: 5}\n",
      "[0 1 2 3 4 1 2 3 4 0 2 3 4 0 1 3 4 0 1 2 4 0 1 2 3]\n",
      "5\n"
     ]
    }
   ],
   "source": [
    "neigh = np.array([[1,2,3,4,5],\n",
    "                  [2,3,4,5,1],\n",
    "                  [3,4,5,1,2],\n",
    "                  [4,5,1,2,3],\n",
    "                  [5,1,2,3,4]])\n",
    "\n",
    "counts = dict(zip([1, 2, 3, 4, 5], [0, 0, 0, 0, 0]))\n",
    "unique, loc_2, counting = np.unique(neigh, return_inverse = True, return_counts = True)\n",
    "index = 0\n",
    "for number in unique:\n",
    "    counts[number] = counting[index]\n",
    "    index += 1\n",
    "\n",
    "loc = np.where(neigh == 5)\n",
    "x = loc[0]\n",
    "y = loc[1]\n",
    "print(counts)\n",
    "print(loc_2)\n",
    "print(neigh[x[3],y[3]])\n"
   ]
  },
  {
   "cell_type": "code",
   "execution_count": 22,
   "id": "3798e271-c244-4152-82e6-10a3284dcd08",
   "metadata": {},
   "outputs": [
    {
     "name": "stdout",
     "output_type": "stream",
     "text": [
      "[4 5 1 2 3]\n"
     ]
    }
   ],
   "source": [
    "print(neigh[3])"
   ]
  },
  {
   "cell_type": "code",
   "execution_count": null,
   "id": "0ad1aa43-9b09-4ac0-876e-df89b8c33337",
   "metadata": {},
   "outputs": [],
   "source": []
  },
  {
   "cell_type": "markdown",
   "id": "4ffaf51a-b7ef-4fde-b389-45a4b6991bbf",
   "metadata": {},
   "source": [
    "-----------------------------------------"
   ]
  },
  {
   "cell_type": "markdown",
   "id": "7f47ff8a-6e11-41ed-ba99-0568a85a8827",
   "metadata": {
    "jp-MarkdownHeadingCollapsed": true,
    "tags": []
   },
   "source": [
    "## Analyse and change interaction"
   ]
  },
  {
   "cell_type": "markdown",
   "id": "46096500-5c92-4b1e-97d4-ed169b98568f",
   "metadata": {},
   "source": [
    "### AAAAHHHHHH\n",
    "To implement the function interations using the newly defined function for surface_migration_rate (which is called nm_migration_rate), subset should contain a subset of all the locations of of the atoms in that subset, or already have only one location.\\\n",
    "Sorry, I was on fire tonigh"
   ]
  },
  {
   "cell_type": "code",
   "execution_count": 23,
   "id": "c65d1b3a-bce1-4c16-886b-e494162b71cf",
   "metadata": {},
   "outputs": [],
   "source": [
    "def interaction(surface, T, mu, face, f_matrix, b_matrix):\n",
    "    \"\"\"randomly lets interaction take place in chosen subset\"\"\"\n",
    "\n",
    "    dims = surface.shape\n",
    "    neigh = dislocation_neighbours(surface, face, f_matrix, b_matrix)\n",
    "    subset = choose_subset(surface, T, mu, face, f_matrix, b_matrix)\n",
    "    options_x = np.where(neigh==subset)[0]\n",
    "    options_y = np.where(neigh==subset)[1]\n",
    "    site = choice(range(np.size(options_x)))\n",
    "\n",
    "    location = (options_x[site], options_y[site])\n",
    "\n",
    "    k_plus = impingement_rate(mu, T)\n",
    "    k_minus = evaporation_rate(subset, T)\n",
    "    k_nn = surface_migration_rate(subset, subset, T)\n",
    "\n",
    "    denom = k_plus + k_minus + k_nn\n",
    "\n",
    "    rand = uniform(0,1)\n",
    "    if rand < k_plus/denom:\n",
    "        surface[location] += 1\n",
    "    elif rand < (k_plus+k_minus)/denom:\n",
    "        surface[location] -= 1\n",
    "    else:\n",
    "        migrate = choice([(1,1),(1,0),(1,-1),(0,1),(0,-1),(-1,1),(-1,0),(-1,-1)])\n",
    "        m = neigh[int(location[0]+migrate[0]-dims[0]*np.floor((location[0]+migrate[0])/dims[0])),\n",
    "                  int(location[1]+migrate[1]-dims[1]*np.floor((location[1]+migrate[1])/dims[1]))]\n",
    "        n = neigh[location]\n",
    "        prob = surface_migration_rate(n, m, T)\n",
    "        rand = uniform(0,1)\n",
    "        if rand < prob:\n",
    "            surface[location] -= 1\n",
    "            surface[int(location[0]+migrate[0]-dims[0]*np.floor((location[0]+migrate[0])/dims[0])),\n",
    "                  int(location[1]+migrate[1]-dims[1]*np.floor((location[1]+migrate[1])/dims[1]))] += 1\n",
    "\n",
    "\n",
    "    return surface"
   ]
  },
  {
   "cell_type": "markdown",
   "id": "a480c88a-e4d2-4ff2-857d-5a5e69461e6d",
   "metadata": {
    "jp-MarkdownHeadingCollapsed": true,
    "tags": []
   },
   "source": [
    "# Class for spiral growth"
   ]
  },
  {
   "cell_type": "code",
   "execution_count": 24,
   "id": "c6979577-daa6-49a3-b347-38be279014e1",
   "metadata": {},
   "outputs": [],
   "source": [
    "class crystal():\n",
    "    \"\"\"The growth of a crystal with dislocations.\n",
    "    \n",
    "    Parameter\n",
    "    ---------\n",
    "    \n",
    "    \"\"\"\n",
    "    def __init__(self, dims, mu, T):\n",
    "        self.T = T\n",
    "        self.mu = mu\n",
    "        self.dims = dims\n",
    "        self.fx_matrix = np.zeros(dims)\n",
    "        self.bx_matrix = np.zeros(dims)\n",
    "        self.fy_matrix = np.zeros(dims)\n",
    "        self.by_matrix = np.zeros(dims)\n",
    "        self.num_dislocations = 0\n",
    "        self.time = 0\n",
    "        self.surface = np.ones(self.dims)\n",
    "        self.surface = self.surface[:,:,np.newaxis]\n",
    "        #self.neigh = np.array([])\n",
    "    \n",
    "    def dislocation_matrices(self, face, face_loc, boundaries, b):\n",
    "        \"\"\"Defining a  dislocation line on the (001) cystal surface.\"\"\"\n",
    "        \n",
    "        line = np.arange(boundaries[0], boundaries[1], 1, dtype=int)\n",
    "        dislocation_line = np.ones(boundaries[1]-boundaries[0])*b\n",
    "        f_matrix = np.zeros(self.dims)\n",
    "        b_matrix = np.zeros(self.dims)\n",
    "        if face == 0:\n",
    "            f_matrix[face_loc, line] = dislocation_line\n",
    "            b_matrix[face_loc-1, line] = -dislocation_line\n",
    "            self.fx_matrix += f_matrix\n",
    "            self.bx_matrix += b_matrix\n",
    "        elif face == 1:\n",
    "            f_matrix[line, face_loc] = dislocation_line\n",
    "            b_matrix[line, face_loc-1] = -dislocation_line\n",
    "            self.fy_matrix += f_matrix\n",
    "            self.by_matrix += b_matrix\n",
    "        else:\n",
    "            raise ValueWarning('Value for [face] should be either 0 or 1')\n",
    "        self.num_dislocations += 1\n",
    "        print('crystal surface with {} dislocations'.format(str(self.num_dislocations)))\n",
    "    \n",
    "    def num_dislocations(self):\n",
    "        print('There are {} dislocations'.format(str(self.num_dislocations)))\n",
    "    \n",
    "    def scan_neighbours(self, surface, fx_neigh, fy_neigh, bx_neigh, by_neigh, loc):\n",
    "        \"\"\"Scanning how many neighbours an atom on the surface has.\"\"\"\n",
    "        \n",
    "        dims = self.dims\n",
    "        n = 1\n",
    "        if surface[loc] <= fx_neigh[(loc[0]+1) % dims[0], loc[1] % dims[1]]:\n",
    "            n += 1\n",
    "        if surface[loc] <= fy_neigh[loc[0] % dims[0], (loc[1]+1) % dims[1]]:\n",
    "            n += 1\n",
    "        if surface[loc] <= bx_neigh[(loc[0]-1) % dims[0], loc[1] % dims[1]]:\n",
    "            n += 1\n",
    "        if surface[loc] <= by_neigh[loc[0] % dims[0], (loc[1]-1) % dims[1]]:\n",
    "            n += 1\n",
    "        return n\n",
    "    \n",
    "    def neighbours(self):\n",
    "        \"\"\"Identifying the number of neighbours of each surface atom using periodic boundary\n",
    "        conditions for a surface with a single dislocation.\"\"\"\n",
    "        \n",
    "        dims = self.dims\n",
    "        neigh = np.zeros(dims)\n",
    "        surface = self.surface[:,:,self.time]\n",
    "        fx_neigh = surface + self.fx_matrix\n",
    "        bx_neigh = surface + self.bx_matrix\n",
    "        fy_neigh = surface + self.fy_matrix\n",
    "        by_neigh = surface + self.by_matrix\n",
    "        for i in range(dims[0]):\n",
    "            for j in range(dims[1]):\n",
    "                loc = (i,j)\n",
    "                n = self.scan_neighbours(surface, fx_neigh, fy_neigh, bx_neigh, by_neigh, loc)\n",
    "                neigh[i,j] = n\n",
    "        return neigh\n",
    "    \n",
    "    def evaporation_rate(self, n):\n",
    "        \"\"\"The evaporation rate based on the number of neighbours and temperature.\"\"\"\n",
    "        \n",
    "        k_minus = np.exp(-n*self.T)\n",
    "        return k_minus\n",
    "    \n",
    "    def impingement_rate(self):\n",
    "        \"\"\"The impingement rate based on the chemical potential and temperature.\"\"\"\n",
    "        \n",
    "        k_3 = self.evaporation_rate(3)\n",
    "        k_plus = np.exp(self.mu)*k_3\n",
    "        return k_plus\n",
    "    \n",
    "    def nn_migration_rate(self, n):\n",
    "        if n == 1:\n",
    "            Esd = 1/2\n",
    "        elif n == 2:\n",
    "            Esd = 3/2\n",
    "        else:\n",
    "            Esd = 5/2\n",
    "        k_nn = 1/8*np.exp(-Esd*self.T)\n",
    "        return k_nn\n",
    "    \n",
    "    def nm_migration_rate(self, loc_n, loc_m, neigh):\n",
    "        n = neigh[loc_n]\n",
    "        new_surface = self.surface[:,:,self.time]\n",
    "        new_surface[loc_n] += -1\n",
    "        new_surface[loc_m] += 1\n",
    "        fx_neighbour = new_surface + self.fx_matrix\n",
    "        fy_neighbour = new_surface + self.fy_matrix\n",
    "        bx_neighbour = new_surface + self.bx_matrix\n",
    "        by_neighbour = new_surface + self.by_matrix\n",
    "        m = self.scan_neighbours(new_surface, fx_neighbour, fy_neighbour, bx_neighbour, by_neighbour, loc_m)\n",
    "        \n",
    "        if n == 1 or m == 1:\n",
    "            Esd = 1/2\n",
    "        elif n == 2 or m == 2:\n",
    "            Esd = 3/2\n",
    "        else:\n",
    "            Esd = 5/2\n",
    "\n",
    "        if m <= n:\n",
    "            DeltaE = n-m\n",
    "        else:\n",
    "            DeltaE = 0\n",
    "\n",
    "        k_nm = 1/8*np.exp(-(Esd+DeltaE)*T)\n",
    "        return k_nm\n",
    "    \n",
    "    \n",
    "    def choose_subset(self):\n",
    "        T = self.T\n",
    "        mu = self.mu\n",
    "        counts = dict(zip([1, 2, 3, 4, 5], [0, 0, 0, 0, 0]))\n",
    "        neigh = self.neighbours()\n",
    "        unique, counting = np.unique(neigh, return_counts = True)\n",
    "        #print('counts = {}'.format(str(counting)))\n",
    "        #print('neighbours = ')\n",
    "        #print('{}'.format(str(neigh)))\n",
    "        index = 0\n",
    "        impingement_rate = self.impingement_rate()\n",
    "        \n",
    "        for number in unique:\n",
    "            counts[number] = counting[index]\n",
    "            index += 1\n",
    "\n",
    "        denom = 0\n",
    "        for i in range(1,6):\n",
    "            denom += counts[i] * (self.evaporation_rate(i) + impingement_rate\n",
    "                                  + self.nn_migration_rate(i))\n",
    "\n",
    "        prob = np.zeros(5)\n",
    "        for i in range(5):\n",
    "            prob[i] = counts[i+1] * (self.evaporation_rate(i+1) + impingement_rate\n",
    "                                     + self.nn_migration_rate(i+1)) / denom\n",
    "        #print('set probability = {}'.format(str(prob)))\n",
    "\n",
    "        rand = uniform(0,1)\n",
    "        if rand < prob[0]:\n",
    "            subset = 1\n",
    "        elif rand < prob[0] + prob[1]:\n",
    "            subset = 2\n",
    "        elif rand < prob[0] + prob[1] + prob[2]:\n",
    "            subset = 3\n",
    "        elif rand < prob[0] + prob[1] + prob[2] + prob[3]:\n",
    "            subset = 4\n",
    "        elif rand < prob[0] + prob[1] + prob[2] + +prob[3] + prob[4]:\n",
    "            subset = 5\n",
    "        \n",
    "        return subset, neigh\n",
    "    \n",
    "    def interaction(self):\n",
    "        dims = self.dims\n",
    "        surface = self.surface[:,:,self.time]\n",
    "        change_surface = np.zeros(dims)\n",
    "        subset, neigh = self.choose_subset()\n",
    "        #!self.neigh[:,:,self.time] = np.append(self.neigh[:,:,self.time], neigh[:,:,np.newaxis], axis=2)\n",
    "        options_x = np.where(neigh==subset)[0]\n",
    "        options_y = np.where(neigh==subset)[1]\n",
    "        site = choice(range(np.size(options_x)))\n",
    "\n",
    "        location = (options_x[site], options_y[site])\n",
    "        #print(location)\n",
    "\n",
    "        k_plus = self.impingement_rate()\n",
    "        k_minus = self.evaporation_rate(subset)\n",
    "        k_nn = self.nn_migration_rate(subset)\n",
    "\n",
    "        denom = k_plus + k_minus + k_nn\n",
    "        #print('k_p = {}, k_m = {}'.format(str(k_plus/denom), str(k_minus/denom)))\n",
    "        #print('k_p = {}, k_m = {}, k_nn = {}'.format(str(k_plus/denom), str(k_minus/denom), str(k_nn/denom)))\n",
    "        #!change_neigh = np.zeros(dims)\n",
    "\n",
    "        rand = uniform(0,1)\n",
    "        #print('rand = {}'.format(str(rand)))\n",
    "        if rand < k_plus/denom:\n",
    "            change_surface[location] += 1\n",
    "            #!loc = (location[0]-1,location[0]+1,location[1]-1,location[1]+1)\n",
    "            #!change_neigh[loc[0]:loc[1],loc[2]:loc[3]] = \n",
    "            #print('impingement')\n",
    "        elif rand < (k_plus+k_minus)/denom:\n",
    "            change_surface[location] -= 1\n",
    "            #print('evaporation')\n",
    "        #else:\n",
    "            #print('migration')\n",
    "            #Should the choise for migration location depend on k_nm????????????????????????????\n",
    "            #options = [(1,1),(1,0),(1,-1),(0,1),(0,-1),(-1,1),(-1,0),(-1,-1)]\n",
    "            #migrate = choice(options)\n",
    "            #prob = self.nm_migration_rate(location, migrate, neigh)\n",
    "            #rand = uniform(0,1)\n",
    "            #if rand < prob:\n",
    "            #    print('migration')\n",
    "            #    print(k_nn/denom)\n",
    "            #    change_surface[location] -= 1\n",
    "            #    change_surface[int(location[0]+migrate[0]-dims[0]*np.floor((location[0]+migrate[0])/dims[0])),\n",
    "            #          int(location[1]+migrate[1]-dims[1]*np.floor((location[1]+migrate[1])/dims[1]))] += 1\n",
    "        new_surface = surface + change_surface\n",
    "        self.surface = np.append(self.surface, new_surface[:,:,np.newaxis], axis=2)\n",
    "        self.time += 1\n",
    "        #print('----------------------------')\n",
    "        #return new_surface"
   ]
  },
  {
   "cell_type": "code",
   "execution_count": 25,
   "id": "3ff13a30-77c9-45a5-aebc-98a1628616af",
   "metadata": {},
   "outputs": [
    {
     "name": "stdout",
     "output_type": "stream",
     "text": [
      "[[0. 0. 0. 0. 0.]\n",
      " [0. 0. 0. 0. 0.]\n",
      " [0. 0. 0. 0. 0.]\n",
      " [0. 0. 0. 0. 0.]\n",
      " [0. 0. 0. 0. 0.]]\n"
     ]
    }
   ],
   "source": [
    "import numpy as np\n",
    "dims = [5, 5]\n",
    "mu = 4\n",
    "T = 10\n",
    "test = crystal(dims, mu, T)\n",
    "print(test.fx_matrix)"
   ]
  },
  {
   "cell_type": "code",
   "execution_count": 26,
   "id": "f3f2d9ed-1009-4be6-a72d-c9d173420976",
   "metadata": {},
   "outputs": [
    {
     "name": "stdout",
     "output_type": "stream",
     "text": [
      "crystal surface with 1 dislocations\n",
      "[[5. 5. 5. 5. 5.]\n",
      " [5. 5. 5. 5. 5.]\n",
      " [4. 4. 4. 5. 5.]\n",
      " [5. 5. 5. 5. 5.]\n",
      " [5. 5. 5. 5. 5.]]\n"
     ]
    }
   ],
   "source": [
    "import numpy as np\n",
    "dims = [5, 5]\n",
    "mu = 4\n",
    "T = 10\n",
    "\n",
    "#dislocations\n",
    "face_1 = 0\n",
    "face_loc_1 = 2\n",
    "boundaries_1 = [0, 3]\n",
    "b_1 = 2\n",
    "\n",
    "test = crystal(dims, mu, T)\n",
    "\n",
    "test.dislocation_matrices(face_1, face_loc_1, boundaries_1, b_1)\n",
    "neigh = test.neighbours()\n",
    "print(neigh)"
   ]
  },
  {
   "cell_type": "code",
   "execution_count": 27,
   "id": "49a9ec55-b75d-498c-a685-fc75582b1f7d",
   "metadata": {},
   "outputs": [
    {
     "name": "stdout",
     "output_type": "stream",
     "text": [
      "crystal surface with 1 dislocations\n",
      "5\n",
      "[[5. 5. 5. 5. 5.]\n",
      " [5. 5. 5. 5. 5.]\n",
      " [4. 4. 4. 5. 5.]\n",
      " [5. 5. 5. 5. 5.]\n",
      " [5. 5. 5. 5. 5.]]\n",
      "(array([0, 0, 0, 0, 0, 1, 1, 1, 1, 1, 2, 2, 3, 3, 3, 3, 3, 4, 4, 4, 4, 4],\n",
      "      dtype=int64), array([0, 1, 2, 3, 4, 0, 1, 2, 3, 4, 3, 4, 0, 1, 2, 3, 4, 0, 1, 2, 3, 4],\n",
      "      dtype=int64))\n"
     ]
    }
   ],
   "source": [
    "import numpy as np\n",
    "from random import uniform, choice\n",
    "dims = [5, 5]\n",
    "mu = 4\n",
    "T = 10\n",
    "\n",
    "#dislocations\n",
    "face_1 = 0\n",
    "face_loc_1 = 2\n",
    "boundaries_1 = [0, 3]\n",
    "b_1 = 2\n",
    "\n",
    "test = crystal(dims, mu, T)\n",
    "\n",
    "test.dislocation_matrices(face_1, face_loc_1, boundaries_1, b_1)\n",
    "subset, neigh = test.choose_subset()\n",
    "print(subset)\n",
    "print(neigh)\n",
    "print(np.where(neigh==subset))"
   ]
  },
  {
   "cell_type": "code",
   "execution_count": 28,
   "id": "92d5ac8f-9ffa-4bb6-9f1f-3107ac70ac76",
   "metadata": {},
   "outputs": [
    {
     "name": "stdout",
     "output_type": "stream",
     "text": [
      "crystal surface with 1 dislocations\n",
      "[[1. 1. 1. 1. 1.]\n",
      " [1. 1. 1. 1. 1.]\n",
      " [1. 1. 1. 1. 1.]\n",
      " [1. 1. 1. 1. 1.]\n",
      " [1. 1. 1. 1. 1.]]\n"
     ]
    },
    {
     "ename": "TypeError",
     "evalue": "'NoneType' object is not subscriptable",
     "output_type": "error",
     "traceback": [
      "\u001b[1;31m---------------------------------------------------------------------------\u001b[0m",
      "\u001b[1;31mTypeError\u001b[0m                                 Traceback (most recent call last)",
      "\u001b[1;32m~\\AppData\\Local\\Temp/ipykernel_19164/760157372.py\u001b[0m in \u001b[0;36m<module>\u001b[1;34m\u001b[0m\n\u001b[0;32m     16\u001b[0m \u001b[0mnew_surface\u001b[0m \u001b[1;33m=\u001b[0m \u001b[0mtest\u001b[0m\u001b[1;33m.\u001b[0m\u001b[0minteraction\u001b[0m\u001b[1;33m(\u001b[0m\u001b[1;33m)\u001b[0m\u001b[1;33m\u001b[0m\u001b[1;33m\u001b[0m\u001b[0m\n\u001b[0;32m     17\u001b[0m \u001b[0mprint\u001b[0m\u001b[1;33m(\u001b[0m\u001b[0mtest\u001b[0m\u001b[1;33m.\u001b[0m\u001b[0msurface\u001b[0m\u001b[1;33m[\u001b[0m\u001b[1;33m:\u001b[0m\u001b[1;33m,\u001b[0m\u001b[1;33m:\u001b[0m\u001b[1;33m,\u001b[0m\u001b[1;36m0\u001b[0m\u001b[1;33m]\u001b[0m\u001b[1;33m)\u001b[0m\u001b[1;33m\u001b[0m\u001b[1;33m\u001b[0m\u001b[0m\n\u001b[1;32m---> 18\u001b[1;33m \u001b[0mprint\u001b[0m\u001b[1;33m(\u001b[0m\u001b[0mnew_surface\u001b[0m\u001b[1;33m[\u001b[0m\u001b[1;33m:\u001b[0m\u001b[1;33m,\u001b[0m\u001b[1;33m:\u001b[0m\u001b[1;33m]\u001b[0m\u001b[1;33m)\u001b[0m\u001b[1;33m\u001b[0m\u001b[1;33m\u001b[0m\u001b[0m\n\u001b[0m",
      "\u001b[1;31mTypeError\u001b[0m: 'NoneType' object is not subscriptable"
     ]
    }
   ],
   "source": [
    "import numpy as np\n",
    "from random import uniform, choice\n",
    "dims = [5, 5]\n",
    "mu = 4\n",
    "T = 10\n",
    "\n",
    "#dislocations\n",
    "face_1 = 0\n",
    "face_loc_1 = 2\n",
    "boundaries_1 = [0, 3]\n",
    "b_1 = 2\n",
    "\n",
    "test = crystal(dims, mu, T)\n",
    "\n",
    "test.dislocation_matrices(face_1, face_loc_1, boundaries_1, b_1)\n",
    "new_surface = test.interaction()\n",
    "print(test.surface[:,:,0])\n",
    "print(new_surface[:,:])"
   ]
  },
  {
   "cell_type": "code",
   "execution_count": null,
   "id": "383b7753-0614-4154-853a-8d5d888a45b4",
   "metadata": {},
   "outputs": [
    {
     "name": "stdout",
     "output_type": "stream",
     "text": [
      "crystal surface with 1 dislocations\n",
      "crystal surface with 2 dislocations\n"
     ]
    }
   ],
   "source": [
    "import numpy as np\n",
    "from random import uniform, choice\n",
    "dims = [20, 20]\n",
    "mu = 1.5\n",
    "T = 4\n",
    "\n",
    "#dislocations\n",
    "face_1 = 0\n",
    "face_2 = 0\n",
    "face_loc_1 = 10\n",
    "face_loc_2 = 9\n",
    "boundaries_1 = [0, 10]\n",
    "boundaries_2 = [0, 10]\n",
    "b_1 = 2\n",
    "b_2 = 1\n",
    "\n",
    "test = crystal(dims, mu, T)\n",
    "\n",
    "test.dislocation_matrices(face_1, face_loc_1, boundaries_1, b_1)\n",
    "test.dislocation_matrices(face_2, face_loc_2, boundaries_2, b_2)"
   ]
  },
  {
   "cell_type": "code",
   "execution_count": null,
   "id": "13d86a75-093b-4042-a5b0-0f74825024a6",
   "metadata": {},
   "outputs": [
    {
     "name": "stdout",
     "output_type": "stream",
     "text": [
      "[[1. 1. 2. 1. 1. 1. 1. 1. 1. 1. 1. 1. 1. 1. 1. 1. 1. 1. 1. 1.]\n",
      " [1. 1. 1. 1. 1. 1. 1. 1. 1. 1. 1. 1. 1. 1. 1. 1. 1. 1. 1. 1.]\n",
      " [1. 1. 1. 1. 1. 1. 1. 1. 1. 1. 1. 1. 1. 1. 1. 1. 1. 1. 1. 1.]\n",
      " [1. 1. 1. 1. 1. 1. 1. 1. 1. 1. 1. 1. 1. 1. 1. 1. 1. 1. 1. 1.]\n",
      " [1. 1. 1. 1. 1. 1. 1. 1. 1. 1. 1. 1. 1. 1. 1. 1. 1. 1. 1. 1.]\n",
      " [1. 1. 1. 1. 1. 1. 1. 1. 1. 1. 1. 1. 1. 1. 1. 1. 1. 1. 1. 1.]\n",
      " [2. 1. 1. 1. 1. 1. 1. 1. 1. 1. 1. 1. 1. 1. 1. 1. 1. 1. 1. 1.]\n",
      " [2. 1. 1. 1. 2. 2. 2. 1. 1. 1. 1. 1. 1. 1. 1. 1. 1. 1. 1. 1.]\n",
      " [2. 3. 3. 3. 3. 3. 2. 2. 1. 1. 1. 1. 1. 1. 1. 1. 1. 1. 1. 1.]\n",
      " [2. 2. 2. 3. 3. 3. 3. 2. 2. 2. 1. 1. 1. 1. 1. 1. 1. 1. 1. 1.]\n",
      " [1. 1. 1. 1. 1. 1. 1. 1. 1. 1. 1. 1. 1. 1. 1. 1. 1. 1. 1. 1.]\n",
      " [1. 1. 1. 1. 1. 1. 1. 1. 1. 1. 1. 1. 1. 1. 1. 1. 1. 1. 1. 2.]\n",
      " [1. 1. 1. 1. 1. 1. 1. 1. 1. 1. 1. 1. 1. 1. 1. 1. 1. 1. 1. 1.]\n",
      " [1. 1. 1. 1. 1. 1. 1. 1. 1. 1. 1. 1. 1. 1. 1. 1. 1. 1. 1. 1.]\n",
      " [1. 1. 1. 1. 1. 1. 1. 1. 1. 1. 1. 1. 1. 1. 1. 1. 1. 1. 1. 1.]\n",
      " [1. 1. 1. 1. 1. 1. 1. 1. 1. 1. 1. 1. 1. 1. 1. 1. 1. 1. 1. 1.]\n",
      " [1. 1. 1. 1. 1. 1. 1. 1. 1. 1. 1. 1. 1. 1. 1. 1. 1. 1. 1. 1.]\n",
      " [1. 1. 1. 1. 1. 1. 1. 1. 1. 1. 1. 1. 1. 1. 1. 1. 1. 1. 1. 1.]\n",
      " [1. 1. 1. 1. 1. 1. 1. 1. 1. 1. 1. 1. 1. 1. 1. 1. 1. 1. 1. 1.]\n",
      " [1. 1. 1. 1. 1. 1. 1. 1. 1. 1. 1. 1. 1. 1. 1. 1. 1. 1. 1. 1.]]\n"
     ]
    }
   ],
   "source": [
    "N = 10000\n",
    "for i in range(N):\n",
    "    test.interaction()\n",
    "\n",
    "print(test.surface[:,:,-1])"
   ]
  },
  {
   "cell_type": "code",
   "execution_count": null,
   "id": "28909a16-3c10-4ab3-b058-3b2c4da7f3c9",
   "metadata": {},
   "outputs": [
    {
     "name": "stdout",
     "output_type": "stream",
     "text": [
      "10000\n"
     ]
    }
   ],
   "source": [
    "print(test.time)"
   ]
  },
  {
   "cell_type": "code",
   "execution_count": null,
   "id": "052f383c-725f-405e-8077-70f10d8354e1",
   "metadata": {},
   "outputs": [
    {
     "name": "stdout",
     "output_type": "stream",
     "text": [
      "set probability = [0.        0.        0.        0.1203511 0.8796489]\n",
      "(4, 3)\n",
      "k_p = 0.9999251537724894, k_m = 7.484622751061124e-05\n",
      "rand = 0.7191554393810596\n",
      "impingement\n",
      "[[1. 1. 1. 1. 1.]\n",
      " [1. 1. 1. 1. 1.]\n",
      " [1. 1. 1. 1. 1.]\n",
      " [1. 1. 1. 1. 1.]\n",
      " [1. 1. 1. 2. 1.]]\n"
     ]
    }
   ],
   "source": [
    "test.interaction()\n",
    "print(test.surface[:,:,-1])"
   ]
  },
  {
   "cell_type": "code",
   "execution_count": null,
   "id": "d41f9c79-62e1-438b-9ccb-2c5eb874da6a",
   "metadata": {},
   "outputs": [
    {
     "name": "stdout",
     "output_type": "stream",
     "text": [
      "set probability = [0.97788381 0.         0.         0.00277257 0.01934362]\n",
      "(4, 3)\n",
      "k_p = 0.0015011822567369915, k_m = 0.998498817743263\n",
      "rand = 0.5092602179818377\n",
      "evaporation\n",
      "[[1. 1. 1. 1. 1.]\n",
      " [1. 1. 1. 1. 1.]\n",
      " [1. 1. 1. 1. 1.]\n",
      " [1. 1. 1. 1. 1.]\n",
      " [1. 1. 1. 1. 1.]]\n"
     ]
    }
   ],
   "source": [
    "test.interaction()\n",
    "print(test.surface[:,:,-1])"
   ]
  },
  {
   "cell_type": "code",
   "execution_count": null,
   "id": "7f13299e-5d07-4f89-8188-559a109b0e88",
   "metadata": {},
   "outputs": [
    {
     "name": "stdout",
     "output_type": "stream",
     "text": [
      "set probability = [0.        0.        0.        0.1203511 0.8796489]\n",
      "(3, 3)\n",
      "k_p = 0.9999251537724894, k_m = 7.484622751061124e-05\n",
      "rand = 0.2281240529457772\n",
      "impingement\n",
      "[[1. 1. 1. 1. 1.]\n",
      " [1. 1. 1. 1. 1.]\n",
      " [1. 1. 1. 1. 1.]\n",
      " [1. 1. 1. 2. 1.]\n",
      " [1. 1. 1. 1. 1.]]\n"
     ]
    }
   ],
   "source": [
    "test.interaction()\n",
    "print(test.surface[:,:,-1])"
   ]
  },
  {
   "cell_type": "code",
   "execution_count": null,
   "id": "5d645898-50b4-450f-b2da-6e4a0ae09544",
   "metadata": {},
   "outputs": [
    {
     "name": "stdout",
     "output_type": "stream",
     "text": [
      "set probability = [0.97788381 0.         0.         0.00277257 0.01934362]\n",
      "(3, 4)\n",
      "k_p = 0.9999251537724894, k_m = 7.484622751061124e-05\n",
      "rand = 0.03179824976393475\n",
      "impingement\n",
      "[[1. 1. 1. 1. 1.]\n",
      " [1. 1. 1. 1. 1.]\n",
      " [1. 1. 1. 1. 1.]\n",
      " [1. 1. 1. 2. 2.]\n",
      " [1. 1. 1. 1. 1.]]\n"
     ]
    }
   ],
   "source": [
    "test.interaction()\n",
    "print(test.surface[:,:,-1])"
   ]
  },
  {
   "cell_type": "code",
   "execution_count": null,
   "id": "9c2dfd13-84c1-419a-8310-e17af9a2e9a9",
   "metadata": {},
   "outputs": [
    {
     "name": "stdout",
     "output_type": "stream",
     "text": [
      "set probability = [0.         0.63778769 0.         0.04738167 0.31483064]\n",
      "(0, 2)\n",
      "k_p = 0.9999251537724894, k_m = 7.484622751061124e-05\n",
      "rand = 0.5042559912854216\n",
      "impingement\n",
      "[[1. 1. 2. 1. 1.]\n",
      " [1. 1. 1. 1. 1.]\n",
      " [1. 1. 1. 1. 1.]\n",
      " [1. 1. 1. 2. 2.]\n",
      " [1. 1. 1. 1. 1.]]\n"
     ]
    }
   ],
   "source": [
    "test.interaction()\n",
    "print(test.surface[:,:,-1])"
   ]
  },
  {
   "cell_type": "code",
   "execution_count": null,
   "id": "e2b474df-425d-4e7f-bf96-2bba29296440",
   "metadata": {},
   "outputs": [
    {
     "name": "stdout",
     "output_type": "stream",
     "text": [
      "set probability = [0.94437888 0.03604182 0.         0.00267757 0.01690173]\n",
      "(0, 2)\n",
      "k_p = 0.0015011822567369915, k_m = 0.998498817743263\n",
      "rand = 0.3932530962663714\n",
      "evaporation\n",
      "[[1. 1. 1. 1. 1.]\n",
      " [1. 1. 1. 1. 1.]\n",
      " [1. 1. 1. 1. 1.]\n",
      " [1. 1. 1. 2. 2.]\n",
      " [1. 1. 1. 1. 1.]]\n"
     ]
    }
   ],
   "source": [
    "test.interaction()\n",
    "print(test.surface[:,:,-1])"
   ]
  },
  {
   "cell_type": "code",
   "execution_count": null,
   "id": "d7ee216d-2128-48e3-9e1c-49add8964a87",
   "metadata": {},
   "outputs": [
    {
     "name": "stdout",
     "output_type": "stream",
     "text": [
      "[[0. 0. 0. 0. 0.]\n",
      " [0. 0. 0. 0. 0.]\n",
      " [2. 2. 2. 0. 0.]\n",
      " [0. 0. 0. 0. 0.]\n",
      " [0. 0. 0. 0. 0.]]\n"
     ]
    }
   ],
   "source": [
    "print(test.fx_matrix)"
   ]
  },
  {
   "cell_type": "code",
   "execution_count": null,
   "id": "84aef525-dba1-4353-9daf-d0958f8961b8",
   "metadata": {},
   "outputs": [],
   "source": []
  },
  {
   "cell_type": "code",
   "execution_count": null,
   "id": "ca69e0af-bc0d-4e9b-a6be-f51c19af48f0",
   "metadata": {},
   "outputs": [],
   "source": []
  },
  {
   "cell_type": "code",
   "execution_count": null,
   "id": "883def0b-a448-4644-a5a9-a8eee4b5b5be",
   "metadata": {},
   "outputs": [
    {
     "name": "stdout",
     "output_type": "stream",
     "text": [
      "0\n"
     ]
    }
   ],
   "source": [
    "print(20 % 20)"
   ]
  },
  {
   "cell_type": "code",
   "execution_count": null,
   "id": "b82dc84a-d75b-4412-bac0-201296ee6787",
   "metadata": {},
   "outputs": [
    {
     "data": {
      "text/plain": [
       "<matplotlib.colorbar.Colorbar at 0x7f4ad15a53a0>"
      ]
     },
     "execution_count": 58,
     "metadata": {},
     "output_type": "execute_result"
    },
    {
     "data": {
      "image/png": "[encoded data removed]",
      "text/plain": [
       "<Figure size 864x432 with 2 Axes>"
      ]
     },
     "metadata": {
      "needs_background": "light"
     },
     "output_type": "display_data"
    }
   ],
   "source": [
    "import matplotlib.pyplot as plt\n",
    "xr, yr = test.surface[:,:,-1].shape\n",
    "x, y = np.arange(xr+1), np.arange(yr+1)\n",
    "\n",
    "plt.figure(figsize=[12,6])\n",
    "plt.pcolor(x, y, test.surface[:,:,-50])\n",
    "plt.gca().set_aspect('equal')\n",
    "plt.title(\"Surface deposition height\")\n",
    "plt.xlabel(r\"x\")\n",
    "plt.ylabel(r\"y\")\n",
    "plt.colorbar()"
   ]
  },
  {
   "cell_type": "markdown",
   "id": "0f8c5cd0-f6a2-409d-8f51-90f70173380a",
   "metadata": {
    "jp-MarkdownHeadingCollapsed": true,
    "tags": []
   },
   "source": [
    "# Improving scan"
   ]
  },
  {
   "cell_type": "code",
   "execution_count": null,
   "id": "6c34e6f1-d697-4f84-9c9e-72bf5bbde277",
   "metadata": {},
   "outputs": [],
   "source": [
    "class crystal():\n",
    "    \"\"\"The growth of a crystal with dislocations.\n",
    "    \n",
    "    Parameter\n",
    "    ---------\n",
    "    \n",
    "    \"\"\"\n",
    "    def __init__(self, dims, mu, T):\n",
    "        self.T = T\n",
    "        self.mu = mu\n",
    "        self.dims = dims\n",
    "        self.fx_matrix = np.zeros(dims)\n",
    "        self.bx_matrix = np.zeros(dims)\n",
    "        self.fy_matrix = np.zeros(dims)\n",
    "        self.by_matrix = np.zeros(dims)\n",
    "        self.num_dislocations = 0\n",
    "        self.time = 0\n",
    "        self.surface = np.ones(self.dims)\n",
    "        self.surface = self.surface[:,:,np.newaxis]\n",
    "        self.neigh = np.array([])\n",
    "    \n",
    "    def dislocation_matrices(self, face, face_loc, boundaries, b):\n",
    "        \"\"\"Defining a  dislocation line on the (001) cystal surface.\"\"\"\n",
    "        \n",
    "        line = np.arange(boundaries[0], boundaries[1], 1, dtype=int)\n",
    "        dislocation_line = np.ones(boundaries[1]-boundaries[0])*b\n",
    "        f_matrix = np.zeros(self.dims)\n",
    "        b_matrix = np.zeros(self.dims)\n",
    "        if face == 0:\n",
    "            f_matrix[face_loc, line] = dislocation_line\n",
    "            b_matrix[face_loc-1, line] = -dislocation_line\n",
    "            self.fx_matrix += f_matrix\n",
    "            self.bx_matrix += b_matrix\n",
    "        elif face == 1:\n",
    "            f_matrix[line, face_loc] = dislocation_line\n",
    "            b_matrix[line, face_loc-1] = -dislocation_line\n",
    "            self.fy_matrix += f_matrix\n",
    "            self.by_matrix += b_matrix\n",
    "        else:\n",
    "            raise ValueWarning('Value for [face] should be either 0 or 1')\n",
    "        self.num_dislocations += 1\n",
    "        print('crystal surface with {} dislocations'.format(str(self.num_dislocations)))\n",
    "    \n",
    "    def num_dislocations(self):\n",
    "        print('There are {} dislocations'.format(str(self.num_dislocations)))\n",
    "    \n",
    "    def scan_neighbours(self, surface, fx_neigh, fy_neigh, bx_neigh, by_neigh, loc):\n",
    "        \"\"\"Scanning how many neighbours an atom on the surface has.\"\"\"\n",
    "        \n",
    "        dims = self.dims\n",
    "        n = 1\n",
    "        if surface[loc] <= fx_neigh[(loc[0]+1) % dims[0], loc[1] % dims[1]]:\n",
    "            n += 1\n",
    "        if surface[loc] <= fy_neigh[loc[0] % dims[0], (loc[1]+1) % dims[1]]:\n",
    "            n += 1\n",
    "        if surface[loc] <= bx_neigh[(loc[0]-1) % dims[0], loc[1] % dims[1]]:\n",
    "            n += 1\n",
    "        if surface[loc] <= by_neigh[loc[0] % dims[0], (loc[1]-1) % dims[1]]:\n",
    "            n += 1\n",
    "        return n\n",
    "    \n",
    "    def neighbours(self):\n",
    "        \"\"\"Identifying the number of neighbours of each surface atom using periodic boundary\n",
    "        conditions for a surface with a single dislocation.\"\"\"\n",
    "        \n",
    "        dims = self.dims\n",
    "        neigh = np.zeros(dims)\n",
    "        surface = self.surface[:,:,self.time]\n",
    "        fx_neigh = surface + self.fx_matrix\n",
    "        bx_neigh = surface + self.bx_matrix\n",
    "        fy_neigh = surface + self.fy_matrix\n",
    "        by_neigh = surface + self.by_matrix\n",
    "        for i in range(dims[0]):\n",
    "            for j in range(dims[1]):\n",
    "                loc = (i,j)\n",
    "                n = self.scan_neighbours(surface, fx_neigh, fy_neigh, bx_neigh, by_neigh, loc)\n",
    "                neigh[i,j] = n\n",
    "        return neigh\n",
    "    \n",
    "    def evaporation_rate(self, n):\n",
    "        \"\"\"The evaporation rate based on the number of neighbours and temperature.\"\"\"\n",
    "        \n",
    "        k_minus = np.exp(-n*self.T)\n",
    "        return k_minus\n",
    "    \n",
    "    def impingement_rate(self):\n",
    "        \"\"\"The impingement rate based on the chemical potential and temperature.\"\"\"\n",
    "        \n",
    "        k_3 = self.evaporation_rate(3)\n",
    "        k_plus = np.exp(self.mu)*k_3\n",
    "        return k_plus\n",
    "    \n",
    "    def nn_migration_rate(self, n):\n",
    "        if n == 1:\n",
    "            Esd = 1/2\n",
    "        elif n == 2:\n",
    "            Esd = 3/2\n",
    "        else:\n",
    "            Esd = 5/2\n",
    "        k_nn = 1/8*np.exp(-Esd*self.T)\n",
    "        return k_nn\n",
    "    \n",
    "    def nm_migration_rate(self, loc_n, loc_m, neigh):\n",
    "        n = neigh[loc_n]\n",
    "        new_surface = self.surface[:,:,self.time]\n",
    "        new_surface[loc_n] += -1\n",
    "        new_surface[loc_m] += 1\n",
    "        fx_neighbour = new_surface + self.fx_matrix\n",
    "        fy_neighbour = new_surface + self.fy_matrix\n",
    "        bx_neighbour = new_surface + self.bx_matrix\n",
    "        by_neighbour = new_surface + self.by_matrix\n",
    "        m = self.scan_neighbours(new_surface, fx_neighbour, fy_neighbour, bx_neighbour, by_neighbour, loc_m)\n",
    "        \n",
    "        if n == 1 or m == 1:\n",
    "            Esd = 1/2\n",
    "        elif n == 2 or m == 2:\n",
    "            Esd = 3/2\n",
    "        else:\n",
    "            Esd = 5/2\n",
    "\n",
    "        if m <= n:\n",
    "            DeltaE = n-m\n",
    "        else:\n",
    "            DeltaE = 0\n",
    "\n",
    "        k_nm = 1/8*np.exp(-(Esd+DeltaE)*T)\n",
    "        return k_nm\n",
    "    \n",
    "    def choose_subset(self):\n",
    "        T = self.T\n",
    "        mu = self.mu\n",
    "        counts = dict(zip([1, 2, 3, 4, 5], [0, 0, 0, 0, 0]))\n",
    "        if self.time == 0:\n",
    "            first_neigh = self.neighbours()\n",
    "            self.neigh = first_neigh[:,:,np.newaxis]\n",
    "        neigh = self.neigh[:,:,self.time]\n",
    "        unique, counting = np.unique(neigh, return_counts = True)\n",
    "        #print('counts = {}'.format(str(counting)))\n",
    "        #print('neighbours = ')\n",
    "        #print('{}'.format(str(neigh)))\n",
    "        index = 0\n",
    "        impingement_rate = self.impingement_rate()\n",
    "        \n",
    "        for number in unique:\n",
    "            counts[number] = counting[index]\n",
    "            index += 1\n",
    "\n",
    "        denom = 0\n",
    "        for i in range(1,6):\n",
    "            denom += counts[i] * (self.evaporation_rate(i) + impingement_rate)\n",
    "                                  #+ self.nn_migration_rate(i))\n",
    "\n",
    "        prob = np.zeros(5)\n",
    "        for i in range(5):\n",
    "            prob[i] = counts[i+1] * (self.evaporation_rate(i+1) + impingement_rate)/denom\n",
    "                                     #+ self.nn_migration_rate(i+1)) / denom\n",
    "        #print('set probability = {}'.format(str(prob)))\n",
    "\n",
    "        rand = uniform(0,1)\n",
    "        if rand < prob[0]:\n",
    "            subset = 1\n",
    "        elif rand < prob[0] + prob[1]:\n",
    "            subset = 2\n",
    "        elif rand < prob[0] + prob[1] + prob[2]:\n",
    "            subset = 3\n",
    "        elif rand < prob[0] + prob[1] + prob[2] + prob[3]:\n",
    "            subset = 4\n",
    "        elif rand < prob[0] + prob[1] + prob[2] + +prob[3] + prob[4]:\n",
    "            subset = 5\n",
    "        \n",
    "        return subset#, neigh\n",
    "    \n",
    "    def interaction(self):\n",
    "        dims = self.dims\n",
    "        surface = self.surface[:,:,self.time]\n",
    "        change_surface = np.zeros(dims)\n",
    "        subset = self.choose_subset()\n",
    "        neigh = self.neigh[:,:,self.time]\n",
    "        options_x = np.where(neigh==subset)[0]\n",
    "        options_y = np.where(neigh==subset)[1]\n",
    "        site = choice(range(np.size(options_x)))\n",
    "\n",
    "        location = (options_x[site], options_y[site])\n",
    "        #print(location)\n",
    "\n",
    "        k_plus = self.impingement_rate()\n",
    "        k_minus = self.evaporation_rate(subset)\n",
    "        k_nn = self.nn_migration_rate(subset)\n",
    "\n",
    "        denom = k_plus + k_minus# + k_nn\n",
    "        #print('k_p = {}, k_m = {}'.format(str(k_plus/denom), str(k_minus/denom)))\n",
    "        #print('k_p = {}, k_m = {}, k_nn = {}'.format(str(k_plus/denom), str(k_minus/denom), str(k_nn/denom)))\n",
    "        scan_loc_matrix = [(0,0), (0,-1), (0,1), (-1,0), (1,0)]\n",
    "        change_neigh = np.zeros(dims)\n",
    "\n",
    "        rand = uniform(0,1)\n",
    "        #print('rand = {}'.format(str(rand)))\n",
    "        if rand < k_plus/denom:\n",
    "            change_surface[location] += 1\n",
    "            new_surface = surface + change_surface\n",
    "            for i in scan_loc_matrix: #create new neighbour matrix\n",
    "                (location[0]+i[0], location[1]+i[1])\n",
    "                scan_loc = ((location[0]+i[0]) % dims[0], (location[1]+i[1]) % dims[1])\n",
    "                fx_neigh = new_surface + self.fx_matrix\n",
    "                fy_neigh = new_surface + self.fy_matrix\n",
    "                bx_neigh = new_surface + self.bx_matrix\n",
    "                by_neigh = new_surface + self.by_matrix\n",
    "                change_neigh[scan_loc] = self.scan_neighbours(new_surface, fx_neigh, \n",
    "                                                              fy_neigh, bx_neigh, \n",
    "                                                              by_neigh, scan_loc) - neigh[scan_loc]\n",
    "            new_neigh = neigh + change_neigh\n",
    "            #print('impingement')\n",
    "        else:#elif rand < (k_plus+k_minus)/denom:\n",
    "            change_surface[location] -= 1\n",
    "            new_surface = surface + change_surface\n",
    "            for i in scan_loc_matrix: #create new neighbour matrix\n",
    "                scan_loc = ((location[0]+i[0]) % dims[0], (location[1]+i[1]) % dims[1])\n",
    "                fx_neigh = new_surface + self.fx_matrix\n",
    "                fy_neigh = new_surface + self.fy_matrix\n",
    "                bx_neigh = new_surface + self.bx_matrix\n",
    "                by_neigh = new_surface + self.by_matrix\n",
    "                change_neigh[scan_loc] = self.scan_neighbours(new_surface, fx_neigh, \n",
    "                                                              fy_neigh, bx_neigh, \n",
    "                                                              by_neigh, scan_loc) - neigh[scan_loc]\n",
    "            new_neigh = neigh + change_neigh\n",
    "            #print('evaporation')\n",
    "        #else:\n",
    "        #    options = [(1,1),(1,0),(1,-1),(0,1),(0,-1),(-1,1),(-1,0),(-1,-1)]\n",
    "        #    migrate = choice(options)\n",
    "        #    prob = self.nm_migration_rate(location, migrate, neigh)\n",
    "        #    rand = uniform(0,1)\n",
    "        #    if rand < prob:\n",
    "        #    #    print('migration')\n",
    "        #    #    print(k_nn/denom)\n",
    "        #        change_surface[location] -= 1\n",
    "        #        change_surface[(location[0]+migrate[0]) % dims[0], (location[1]+migrate[1]) % dims[1]] +=1\n",
    "        #        new_surface = surface + change_surface\n",
    "        #        for i in scan_loc_matrix:\n",
    "        #            scan_loc1 = ((location[0]+i[0]) % dims[0], (location[1]+i[1]) % dims[1])\n",
    "        #            scan_loc2 = ((migrate[0]+i[0]) % dims[0], (migrate[1]+i[1]) % dims[1])\n",
    "        #            fx_neigh = new_surface + self.fx_matrix\n",
    "        #            fy_neigh = new_surface + self.fy_matrix\n",
    "        #            bx_neigh = new_surface + self.bx_matrix\n",
    "        #            by_neigh = new_surface + self.by_matrix\n",
    "        #            change_neigh[scan_loc1] = self.scan_neighbours(new_surface, fx_neigh,\n",
    "        #                                                           fy_neigh, bx_neigh,\n",
    "        #                                                           by_neigh, scan_loc1) - neigh[scan_loc1]\n",
    "        #            change_neigh[scan_loc2] = self.scan_neighbours(new_surface, fx_neigh,\n",
    "        #                                                           fy_neigh, bx_neigh,\n",
    "        #                                                           by_neigh, scan_loc2) - neigh[scan_loc2]\n",
    "        #        new_neigh = neigh + change_neigh\n",
    "        #    else:\n",
    "        #        new_neigh = neigh\n",
    "        #new_surface = surface + change_surface\n",
    "        self.surface = np.append(self.surface, new_surface[:,:,np.newaxis], axis=2)\n",
    "        self.neigh = np.append(self.neigh, new_neigh[:,:,np.newaxis], axis=2)\n",
    "        self.time += 1\n",
    "        #print('----------------------------')\n",
    "        #return new_surface"
   ]
  },
  {
   "cell_type": "code",
   "execution_count": null,
   "id": "a241678f-1c77-498e-8926-5f09713cee59",
   "metadata": {},
   "outputs": [
    {
     "name": "stdout",
     "output_type": "stream",
     "text": [
      "crystal surface with 1 dislocations\n"
     ]
    }
   ],
   "source": [
    "import numpy as np\n",
    "from random import uniform, choice\n",
    "dims = [20, 20]\n",
    "mu = 1.5\n",
    "T = 4\n",
    "\n",
    "#dislocations\n",
    "face_1 = 0\n",
    "face_loc_1 = 10\n",
    "boundaries_1 = [0, 10]\n",
    "b_1 = 2\n",
    "\n",
    "test = crystal(dims, mu, T)\n",
    "test.dislocation_matrices(face_1, face_loc_1, boundaries_1, b_1)"
   ]
  },
  {
   "cell_type": "code",
   "execution_count": null,
   "id": "27dd5545-a4ee-4566-add2-1e79c0adb0a1",
   "metadata": {},
   "outputs": [],
   "source": [
    "N = 10000\n",
    "for i in range(N):\n",
    "    test.interaction()"
   ]
  },
  {
   "cell_type": "code",
   "execution_count": null,
   "id": "f37dd06d-1673-4b9c-88dc-b624fc456ca5",
   "metadata": {},
   "outputs": [
    {
     "data": {
      "image/png": "[encoded data removed]",
      "text/plain": [
       "<Figure size 864x432 with 2 Axes>"
      ]
     },
     "metadata": {
      "needs_background": "light"
     },
     "output_type": "display_data"
    }
   ],
   "source": [
    "import matplotlib.pyplot as plt\n",
    "xr, yr = test.surface[:,:,-1].shape\n",
    "x, y = np.arange(xr+1), np.arange(yr+1)\n",
    "\n",
    "plt.figure(figsize=[12,6])\n",
    "plt.pcolor(x, y, test.surface[:,:,-50])\n",
    "plt.gca().set_aspect('equal')\n",
    "plt.title(\"Surface deposition height\")\n",
    "plt.xlabel(r\"x\")\n",
    "plt.ylabel(r\"y\")\n",
    "plt.colorbar()\n",
    "#plt.savefig('Spiral_Growth_v1.png')"
   ]
  },
  {
   "cell_type": "code",
   "execution_count": null,
   "id": "e8188d62-51bf-4b56-991a-9663e31de649",
   "metadata": {},
   "outputs": [],
   "source": []
  },
  {
   "cell_type": "code",
   "execution_count": null,
   "id": "76e6eeea-a9f8-4869-8e4a-b0800e5ff05f",
   "metadata": {},
   "outputs": [],
   "source": []
  },
  {
   "cell_type": "code",
   "execution_count": null,
   "id": "b8ce03bf-63c7-4efa-9edb-4f8738269672",
   "metadata": {},
   "outputs": [],
   "source": []
  },
  {
   "cell_type": "code",
   "execution_count": null,
   "id": "8eeff2c2-0f24-4342-bceb-2c45e02bb26f",
   "metadata": {},
   "outputs": [],
   "source": [
    "class grow_crystal():\n",
    "    \"\"\"The growth of a crystal with dislocations.\n",
    "    \n",
    "    Parameter\n",
    "    ---------\n",
    "    \n",
    "    \"\"\"\n",
    "    def __init__(self, dims, mu, T, set_migration):\n",
    "        self.T = T\n",
    "        self.mu = mu\n",
    "        self.dims = dims\n",
    "        self.fx_matrix = np.zeros(dims)\n",
    "        self.bx_matrix = np.zeros(dims)\n",
    "        self.fy_matrix = np.zeros(dims)\n",
    "        self.by_matrix = np.zeros(dims)\n",
    "        self.num_dislocations = 0\n",
    "        self.time = 0\n",
    "        self.surface = np.ones(self.dims)\n",
    "        self.surface = self.surface[:,:,np.newaxis]\n",
    "        self.neigh = np.array([])\n",
    "        self.set_migration = set_migration #{True, False}\n",
    "    \n",
    "    def dislocation_matrices(self, face, face_loc, boundaries, b):\n",
    "        \"\"\"Defining a  dislocation line on the (001) cystal surface.\"\"\"\n",
    "        \n",
    "        line = np.arange(boundaries[0], boundaries[1], 1, dtype=int)\n",
    "        dislocation_line = np.ones(boundaries[1]-boundaries[0])*b\n",
    "        f_matrix = np.zeros(self.dims)\n",
    "        b_matrix = np.zeros(self.dims)\n",
    "        if face == 0:\n",
    "            f_matrix[face_loc, line] = dislocation_line\n",
    "            b_matrix[face_loc-1, line] = -dislocation_line\n",
    "            self.fx_matrix += f_matrix\n",
    "            self.bx_matrix += b_matrix\n",
    "        elif face == 1:\n",
    "            f_matrix[line, face_loc] = dislocation_line\n",
    "            b_matrix[line, face_loc-1] = -dislocation_line\n",
    "            self.fy_matrix += f_matrix\n",
    "            self.by_matrix += b_matrix\n",
    "        else:\n",
    "            raise ValueWarning('Value for [face] should be either 0 or 1')\n",
    "        self.num_dislocations += 1\n",
    "        print('crystal surface with {} dislocations'.format(str(self.num_dislocations)))\n",
    "    \n",
    "    def num_dislocations(self):\n",
    "        print('There are {} dislocations'.format(str(self.num_dislocations)))\n",
    "    \n",
    "    def migration(selft):\n",
    "        if self.set_migration == True:\n",
    "            print('Atoms are allowed to migrate')\n",
    "        else:\n",
    "            print('Atoms are not allowed to migrate')\n",
    "    \n",
    "    def scan_neighbours(self, surface, fx_neigh, fy_neigh, bx_neigh, by_neigh, loc):\n",
    "        \"\"\"Scanning how many neighbours an atom on the surface has.\"\"\"\n",
    "        \n",
    "        dims = self.dims\n",
    "        n = 1\n",
    "        if surface[loc] <= fx_neigh[(loc[0]+1) % dims[0], loc[1] % dims[1]]:\n",
    "            n += 1\n",
    "        if surface[loc] <= fy_neigh[loc[0] % dims[0], (loc[1]+1) % dims[1]]:\n",
    "            n += 1\n",
    "        if surface[loc] <= bx_neigh[(loc[0]-1) % dims[0], loc[1] % dims[1]]:\n",
    "            n += 1\n",
    "        if surface[loc] <= by_neigh[loc[0] % dims[0], (loc[1]-1) % dims[1]]:\n",
    "            n += 1\n",
    "        return n\n",
    "    \n",
    "    def neighbours(self):\n",
    "        \"\"\"Identifying the number of neighbours of each surface atom using periodic boundary\n",
    "        conditions for a surface with a single dislocation.\"\"\"\n",
    "        \n",
    "        dims = self.dims\n",
    "        neigh = np.zeros(dims)\n",
    "        surface = self.surface[:,:,self.time]\n",
    "        fx_neigh = surface + self.fx_matrix\n",
    "        bx_neigh = surface + self.bx_matrix\n",
    "        fy_neigh = surface + self.fy_matrix\n",
    "        by_neigh = surface + self.by_matrix\n",
    "        for i in range(dims[0]):\n",
    "            for j in range(dims[1]):\n",
    "                loc = (i,j)\n",
    "                n = self.scan_neighbours(surface, fx_neigh, fy_neigh, bx_neigh, by_neigh, loc)\n",
    "                neigh[i,j] = n\n",
    "        return neigh\n",
    "    \n",
    "    def evaporation_rate(self, n):\n",
    "        \"\"\"The evaporation rate based on the number of neighbours and temperature.\"\"\"\n",
    "        \n",
    "        k_minus = np.exp(-n*self.T)\n",
    "        return k_minus\n",
    "    \n",
    "    def impingement_rate(self):\n",
    "        \"\"\"The impingement rate based on the chemical potential and temperature.\"\"\"\n",
    "        \n",
    "        k_3 = self.evaporation_rate(3)\n",
    "        k_plus = np.exp(self.mu)*k_3\n",
    "        return k_plus\n",
    "    \n",
    "    def nn_migration_rate(self, n):\n",
    "        if self.set_migration == True:\n",
    "            if n == 1:\n",
    "                Esd = 1/2\n",
    "            elif n == 2:\n",
    "                Esd = 3/2\n",
    "            else:\n",
    "                Esd = 5/2\n",
    "            k_nn = 1/8*np.exp(-Esd*self.T)\n",
    "        else:\n",
    "            k_nn = 0\n",
    "        return k_nn\n",
    "    \n",
    "    def nm_migration_rate(self, loc_n, loc_m, neigh):\n",
    "        if self.set_migration == True:\n",
    "            n = neigh[loc_n]\n",
    "            new_surface = self.surface[:,:,self.time]\n",
    "            new_surface[loc_n] += -1\n",
    "            new_surface[loc_m] += 1\n",
    "            fx_neighbour = new_surface + self.fx_matrix\n",
    "            fy_neighbour = new_surface + self.fy_matrix\n",
    "            bx_neighbour = new_surface + self.bx_matrix\n",
    "            by_neighbour = new_surface + self.by_matrix\n",
    "            m = self.scan_neighbours(new_surface, fx_neighbour, fy_neighbour, bx_neighbour, by_neighbour, loc_m)\n",
    "            \n",
    "            if n == 1 or m == 1:\n",
    "                Esd = 1/2\n",
    "            elif n == 2 or m == 2:\n",
    "                Esd = 3/2\n",
    "            else:\n",
    "                Esd = 5/2\n",
    "            \n",
    "            if m <= n:\n",
    "                DeltaE = n-m\n",
    "            else:\n",
    "                DeltaE = 0\n",
    "            \n",
    "            k_nm = 1/8*np.exp(-(Esd+DeltaE)*T)\n",
    "        else:\n",
    "            k_nm = 0\n",
    "        return k_nm\n",
    "    \n",
    "    def choose_subset(self):\n",
    "        T = self.T\n",
    "        mu = self.mu\n",
    "        counts = dict(zip([1, 2, 3, 4, 5], [0, 0, 0, 0, 0]))\n",
    "        if self.time == 0:\n",
    "            first_neigh = self.neighbours()\n",
    "            self.neigh = first_neigh[:,:,np.newaxis]\n",
    "        neigh = self.neigh[:,:,self.time]\n",
    "        unique, counting = np.unique(neigh, return_counts = True)\n",
    "        index = 0\n",
    "        impingement_rate = self.impingement_rate()\n",
    "        \n",
    "        for number in unique:\n",
    "            counts[number] = counting[index]\n",
    "            index += 1\n",
    "\n",
    "        denom = 0\n",
    "        for i in range(1,6):\n",
    "            denom += counts[i] * (self.evaporation_rate(i) + impingement_rate\n",
    "                                  + self.nn_migration_rate(i))\n",
    "\n",
    "        prob = np.zeros(5)\n",
    "        for i in range(5):\n",
    "            prob[i] = counts[i+1] * (self.evaporation_rate(i+1) + impingement_rate\n",
    "                                     + self.nn_migration_rate(i+1)) / denom\n",
    "\n",
    "        rand = uniform(0,1)\n",
    "        if rand < prob[0]:\n",
    "            subset = 1\n",
    "        elif rand < prob[0] + prob[1]:\n",
    "            subset = 2\n",
    "        elif rand < prob[0] + prob[1] + prob[2]:\n",
    "            subset = 3\n",
    "        elif rand < prob[0] + prob[1] + prob[2] + prob[3]:\n",
    "            subset = 4\n",
    "        elif rand < prob[0] + prob[1] + prob[2] + +prob[3] + prob[4]:\n",
    "            subset = 5\n",
    "        \n",
    "        return subset\n",
    "    \n",
    "    def interaction(self):\n",
    "        dims = self.dims\n",
    "        surface = self.surface[:,:,self.time]\n",
    "        change_surface = np.zeros(dims)\n",
    "        subset = self.choose_subset()\n",
    "        neigh = self.neigh[:,:,self.time]\n",
    "        options_x = np.where(neigh==subset)[0]\n",
    "        options_y = np.where(neigh==subset)[1]\n",
    "        site = choice(range(np.size(options_x)))\n",
    "\n",
    "        location = (options_x[site], options_y[site])\n",
    "\n",
    "        k_plus = self.impingement_rate()\n",
    "        k_minus = self.evaporation_rate(subset)\n",
    "        k_nn = self.nn_migration_rate(subset)\n",
    "\n",
    "        denom = k_plus + k_minus# + k_nn\n",
    "        scan_loc_matrix = [(0,0), (0,-1), (0,1), (-1,0), (1,0)]\n",
    "        change_neigh = np.zeros(dims)\n",
    "\n",
    "        rand = uniform(0,1)\n",
    "        if rand < k_plus/denom:\n",
    "            change_surface[location] += 1\n",
    "            new_surface = surface + change_surface\n",
    "            for i in scan_loc_matrix: #create new neighbour matrix\n",
    "                (location[0]+i[0], location[1]+i[1])\n",
    "                scan_loc = ((location[0]+i[0]) % dims[0], (location[1]+i[1]) % dims[1])\n",
    "                fx_neigh = new_surface + self.fx_matrix\n",
    "                fy_neigh = new_surface + self.fy_matrix\n",
    "                bx_neigh = new_surface + self.bx_matrix\n",
    "                by_neigh = new_surface + self.by_matrix\n",
    "                change_neigh[scan_loc] = self.scan_neighbours(new_surface, fx_neigh, \n",
    "                                                              fy_neigh, bx_neigh, \n",
    "                                                              by_neigh, scan_loc) - neigh[scan_loc]\n",
    "            new_neigh = neigh + change_neigh\n",
    "        elif rand < (k_plus+k_minus)/denom:\n",
    "            change_surface[location] -= 1\n",
    "            new_surface = surface + change_surface\n",
    "            for i in scan_loc_matrix: #create new neighbour matrix\n",
    "                scan_loc = ((location[0]+i[0]) % dims[0], (location[1]+i[1]) % dims[1])\n",
    "                fx_neigh = new_surface + self.fx_matrix\n",
    "                fy_neigh = new_surface + self.fy_matrix\n",
    "                bx_neigh = new_surface + self.bx_matrix\n",
    "                by_neigh = new_surface + self.by_matrix\n",
    "                change_neigh[scan_loc] = self.scan_neighbours(new_surface, fx_neigh, \n",
    "                                                              fy_neigh, bx_neigh, \n",
    "                                                              by_neigh, scan_loc) - neigh[scan_loc]\n",
    "            new_neigh = neigh + change_neigh\n",
    "        else:\n",
    "            options = [(1,1),(1,0),(1,-1),(0,1),(0,-1),(-1,1),(-1,0),(-1,-1)]\n",
    "            migrate = choice(options)\n",
    "            prob = self.nm_migration_rate(location, migrate, neigh)\n",
    "            rand = uniform(0,1)\n",
    "            if rand < prob:\n",
    "                change_surface[location] -= 1\n",
    "                change_surface[(location[0]+migrate[0]) % dims[0], (location[1]+migrate[1]) % dims[1]] +=1\n",
    "                new_surface = surface + change_surface\n",
    "                for i in scan_loc_matrix:\n",
    "                    scan_loc1 = ((location[0]+i[0]) % dims[0], (location[1]+i[1]) % dims[1])\n",
    "                    scan_loc2 = ((migrate[0]+i[0]) % dims[0], (migrate[1]+i[1]) % dims[1])\n",
    "                    fx_neigh = new_surface + self.fx_matrix\n",
    "                    fy_neigh = new_surface + self.fy_matrix\n",
    "                    bx_neigh = new_surface + self.bx_matrix\n",
    "                    by_neigh = new_surface + self.by_matrix\n",
    "                    change_neigh[scan_loc1] = self.scan_neighbours(new_surface, fx_neigh,\n",
    "                                                                   fy_neigh, bx_neigh,\n",
    "                                                                   by_neigh, scan_loc1) - neigh[scan_loc1]\n",
    "                    change_neigh[scan_loc2] = self.scan_neighbours(new_surface, fx_neigh,\n",
    "                                                                   fy_neigh, bx_neigh,\n",
    "                                                                   by_neigh, scan_loc2) - neigh[scan_loc2]\n",
    "                new_neigh = neigh + change_neigh\n",
    "            else:\n",
    "                new_neigh = neigh\n",
    "        self.surface = np.append(self.surface, new_surface[:,:,np.newaxis], axis=2)\n",
    "        self.neigh = np.append(self.neigh, new_neigh[:,:,np.newaxis], axis=2)\n",
    "        self.time += 1"
   ]
  },
  {
   "cell_type": "code",
   "execution_count": null,
   "id": "c27ee019-90ed-4a97-a516-e2ed2bdcbc6c",
   "metadata": {},
   "outputs": [
    {
     "name": "stdout",
     "output_type": "stream",
     "text": [
      "crystal surface with 1 dislocations\n"
     ]
    }
   ],
   "source": [
    "import numpy as np\n",
    "from random import uniform, choice\n",
    "dims = (80, 80)\n",
    "mu = 1.5\n",
    "T = 4\n",
    "set_migration = True\n",
    "test = grow_crystal(dims, mu, T, set_migration)\n",
    "\n",
    "face = 0\n",
    "face_loc = 40\n",
    "boundaries = [0, 40]\n",
    "b = 2\n",
    "test.dislocation_matrices(face, face_loc, boundaries, b)"
   ]
  },
  {
   "cell_type": "code",
   "execution_count": null,
   "id": "64a4c808-781a-4eaa-9835-6f9b4c09bc22",
   "metadata": {},
   "outputs": [
    {
     "name": "stdout",
     "output_type": "stream",
     "text": [
      "1\n"
     ]
    }
   ],
   "source": [
    "N = 1\n",
    "for i in range(N):\n",
    "    test.interaction()\n",
    "print(test.time)"
   ]
  },
  {
   "cell_type": "code",
   "execution_count": null,
   "id": "eb51520b-474f-49c0-b37c-b68579477ba5",
   "metadata": {},
   "outputs": [
    {
     "data": {
      "text/plain": [
       "<matplotlib.colorbar.Colorbar at 0x7f28d50696d0>"
      ]
     },
     "execution_count": 5,
     "metadata": {},
     "output_type": "execute_result"
    },
    {
     "data": {
      "image/png": "[encoded data removed]",
      "text/plain": [
       "<Figure size 864x432 with 2 Axes>"
      ]
     },
     "metadata": {
      "needs_background": "light"
     },
     "output_type": "display_data"
    }
   ],
   "source": [
    "import matplotlib.pyplot as plt\n",
    "xr, yr = test.surface[:,:,-1].shape\n",
    "x, y = np.arange(xr+1), np.arange(yr+1)\n",
    "\n",
    "plt.figure(figsize=[12,6])\n",
    "plt.pcolor(x, y, test.surface[:,:,-1])\n",
    "plt.gca().set_aspect('equal')\n",
    "plt.title(\"Surface deposition height\")\n",
    "plt.xlabel(r\"x\")\n",
    "plt.ylabel(r\"y\")\n",
    "plt.colorbar()\n"
   ]
  },
  {
   "cell_type": "code",
   "execution_count": null,
   "id": "0ac79369-dd1e-43c0-b73d-4134ecf2505a",
   "metadata": {},
   "outputs": [
    {
     "name": "stdout",
     "output_type": "stream",
     "text": [
      "compute time to  one atom is 0.0014118628682088597\n",
      "number of simulations to add one atom is 708.28408517368\n",
      "4533018.1451115515\n"
     ]
    }
   ],
   "source": [
    "n = np.arange(1,6,1)\n",
    "k_plus = test.impingement_rate()\n",
    "k_minus = test.evaporation_rate(n)\n",
    "k_nn = np.zeros(np.shape(n))\n",
    "for i in n:\n",
    "    k_nn[n-1] = test.nn_migration_rate(i)\n",
    "N = np.array([0, 0, 0, 40, 6360])\n",
    "rate = k_plus/(np.sum(n*(k_plus+k_minus+k_nn)))\n",
    "print('compute time to  one atom is {}'.format(str(rate)))\n",
    "n_rate = 1/rate\n",
    "print('number of simulations to add one atom is {}'.format(str(n_rate)))\n",
    "print(n_rate*6400)"
   ]
  },
  {
   "cell_type": "markdown",
   "id": "2056e83b-cfb4-416e-a0a6-9f118c832b59",
   "metadata": {
    "tags": []
   },
   "source": [
    "# Prevent kernal form dying"
   ]
  },
  {
   "cell_type": "code",
   "execution_count": null,
   "id": "f11710ad-1735-4c3c-85e4-4a9bc598dacd",
   "metadata": {
    "tags": []
   },
   "outputs": [
    {
     "name": "stdout",
     "output_type": "stream",
     "text": [
      "Done\n"
     ]
    }
   ],
   "source": [
    "class grow_crystal():\n",
    "    \"\"\"The growth of a crystal with dislocations.\n",
    "    \n",
    "    Parameter\n",
    "    ---------\n",
    "    \n",
    "    \"\"\"\n",
    "    def __init__(self, dims, mu, T, set_migration):\n",
    "        self.T = T\n",
    "        self.mu = mu\n",
    "        self.dims = dims\n",
    "        self.fx_matrix = np.zeros(dims)\n",
    "        self.bx_matrix = np.zeros(dims)\n",
    "        self.fy_matrix = np.zeros(dims)\n",
    "        self.by_matrix = np.zeros(dims)\n",
    "        self.num_dislocations = 0\n",
    "        self.time = 0\n",
    "        self.surface = np.ones(self.dims)\n",
    "        self.N_surface = self.surface[:,:,np.newaxis]\n",
    "        self.neigh = np.array([])\n",
    "        self.set_migration = set_migration #{True, False}\n",
    "    \n",
    "    def dislocation_matrices(self, face, face_loc, boundaries, b):\n",
    "        \"\"\"Defining a  dislocation line on the (001) cystal surface.\"\"\"\n",
    "        \n",
    "        line = np.arange(boundaries[0], boundaries[1], 1, dtype=int)\n",
    "        dislocation_line = np.ones(boundaries[1]-boundaries[0])*b\n",
    "        f_matrix = np.zeros(self.dims)\n",
    "        b_matrix = np.zeros(self.dims)\n",
    "        if face == 0:\n",
    "            f_matrix[face_loc, line] = dislocation_line\n",
    "            b_matrix[face_loc-1, line] = -dislocation_line\n",
    "            self.fx_matrix += f_matrix\n",
    "            self.bx_matrix += b_matrix\n",
    "        elif face == 1:\n",
    "            f_matrix[line, face_loc] = dislocation_line\n",
    "            b_matrix[line, face_loc-1] = -dislocation_line\n",
    "            self.fy_matrix += f_matrix\n",
    "            self.by_matrix += b_matrix\n",
    "        else:\n",
    "            raise ValueWarning('Value for [face] should be either 0 or 1')\n",
    "        self.num_dislocations += 1\n",
    "        print('crystal surface with {} dislocations'.format(str(self.num_dislocations)))\n",
    "    \n",
    "    def num_dislocations(self):\n",
    "        print('There are {} dislocations'.format(str(self.num_dislocations)))\n",
    "    \n",
    "    def migration(selft):\n",
    "        if self.set_migration == True:\n",
    "            print('Atoms are allowed to migrate')\n",
    "        else:\n",
    "            print('Atoms are not allowed to migrate')\n",
    "    \n",
    "    def scan_neighbours(self, surface, fx_neigh, fy_neigh, bx_neigh, by_neigh, loc):\n",
    "        \"\"\"Scanning how many neighbours an atom on the surface has.\"\"\"\n",
    "        \n",
    "        dims = self.dims\n",
    "        n = 1\n",
    "        if surface[loc] <= fx_neigh[(loc[0]+1) % dims[0], loc[1] % dims[1]]:\n",
    "            n += 1\n",
    "        if surface[loc] <= fy_neigh[loc[0] % dims[0], (loc[1]+1) % dims[1]]:\n",
    "            n += 1\n",
    "        if surface[loc] <= bx_neigh[(loc[0]-1) % dims[0], loc[1] % dims[1]]:\n",
    "            n += 1\n",
    "        if surface[loc] <= by_neigh[loc[0] % dims[0], (loc[1]-1) % dims[1]]:\n",
    "            n += 1\n",
    "        return n\n",
    "    \n",
    "    def neighbours(self):\n",
    "        \"\"\"Identifying the number of neighbours of each surface atom using periodic boundary\n",
    "        conditions for a surface with a single dislocation.\"\"\"\n",
    "        \n",
    "        dims = self.dims\n",
    "        neigh = np.zeros(dims)\n",
    "        surface = self.surface\n",
    "        fx_neigh = surface + self.fx_matrix\n",
    "        bx_neigh = surface + self.bx_matrix\n",
    "        fy_neigh = surface + self.fy_matrix\n",
    "        by_neigh = surface + self.by_matrix\n",
    "        for i in range(dims[0]):\n",
    "            for j in range(dims[1]):\n",
    "                loc = (i,j)\n",
    "                n = self.scan_neighbours(surface, fx_neigh, fy_neigh, bx_neigh, by_neigh, loc)\n",
    "                neigh[i,j] = n\n",
    "        return neigh\n",
    "    \n",
    "    def evaporation_rate(self, n):\n",
    "        \"\"\"The evaporation rate based on the number of neighbours and temperature.\"\"\"\n",
    "        \n",
    "        k_minus = np.exp(-n*self.T)\n",
    "        return k_minus\n",
    "    \n",
    "    def impingement_rate(self):\n",
    "        \"\"\"The impingement rate based on the chemical potential and temperature.\"\"\"\n",
    "        \n",
    "        k_3 = self.evaporation_rate(3)\n",
    "        k_plus = np.exp(self.mu)*k_3\n",
    "        return k_plus\n",
    "    \n",
    "    def nn_migration_rate(self, n):\n",
    "        if self.set_migration == True:\n",
    "            if n == 1:\n",
    "                Esd = 1/2\n",
    "            elif n == 2:\n",
    "                Esd = 3/2\n",
    "            else:\n",
    "                Esd = 5/2\n",
    "            k_nn = 1/8*np.exp(-Esd*self.T)\n",
    "        else:\n",
    "            k_nn = 0\n",
    "        return k_nn\n",
    "    \n",
    "    def nm_migration_rate(self, loc_n, loc_m, neigh):\n",
    "        if self.set_migration == True:\n",
    "            n = neigh[loc_n]\n",
    "            new_surface = self.surface\n",
    "            new_surface[loc_n] += -1\n",
    "            new_surface[loc_m] += 1\n",
    "            fx_neighbour = new_surface + self.fx_matrix\n",
    "            fy_neighbour = new_surface + self.fy_matrix\n",
    "            bx_neighbour = new_surface + self.bx_matrix\n",
    "            by_neighbour = new_surface + self.by_matrix\n",
    "            m = self.scan_neighbours(new_surface, fx_neighbour, fy_neighbour, bx_neighbour, by_neighbour, loc_m)\n",
    "            \n",
    "            if n == 1 or m == 1:\n",
    "                Esd = 1/2\n",
    "            elif n == 2 or m == 2:\n",
    "                Esd = 3/2\n",
    "            else:\n",
    "                Esd = 5/2\n",
    "            \n",
    "            if m <= n:\n",
    "                DeltaE = n-m\n",
    "            else:\n",
    "                DeltaE = 0\n",
    "            \n",
    "            k_nm = 1/8*np.exp(-(Esd+DeltaE)*T)\n",
    "        else:\n",
    "            k_nm = 0\n",
    "        return k_nm\n",
    "    \n",
    "    def choose_subset(self):\n",
    "        T = self.T\n",
    "        mu = self.mu\n",
    "        counts = dict(zip([1, 2, 3, 4, 5], [0, 0, 0, 0, 0]))\n",
    "        if self.time == 0:\n",
    "            first_neigh = self.neighbours()\n",
    "            self.neigh = first_neigh\n",
    "        neigh = self.neigh\n",
    "        unique, counting = np.unique(neigh, return_counts = True)\n",
    "        index = 0\n",
    "        impingement_rate = self.impingement_rate()\n",
    "        \n",
    "        for number in unique:\n",
    "            counts[number] = counting[index]\n",
    "            index += 1\n",
    "\n",
    "        denom = 0\n",
    "        for i in range(1,6):\n",
    "            denom += counts[i] * (self.evaporation_rate(i) + impingement_rate\n",
    "                                  + self.nn_migration_rate(i))\n",
    "\n",
    "        prob = np.zeros(5)\n",
    "        for i in range(5):\n",
    "            prob[i] = counts[i+1] * (self.evaporation_rate(i+1) + impingement_rate\n",
    "                                     + self.nn_migration_rate(i+1)) / denom\n",
    "\n",
    "        rand = uniform(0,1)\n",
    "        if rand < prob[0]:\n",
    "            subset = 1\n",
    "        elif rand < prob[0] + prob[1]:\n",
    "            subset = 2\n",
    "        elif rand < prob[0] + prob[1] + prob[2]:\n",
    "            subset = 3\n",
    "        elif rand < prob[0] + prob[1] + prob[2] + prob[3]:\n",
    "            subset = 4\n",
    "        elif rand < prob[0] + prob[1] + prob[2] + +prob[3] + prob[4]:\n",
    "            subset = 5\n",
    "        \n",
    "        return subset\n",
    "    \n",
    "    def interaction(self):\n",
    "        dims = self.dims\n",
    "        surface = self.surface\n",
    "        change_surface = np.zeros(dims)\n",
    "        subset = self.choose_subset()\n",
    "        neigh = self.neigh\n",
    "        options_x = np.where(neigh==subset)[0]\n",
    "        options_y = np.where(neigh==subset)[1]\n",
    "        site = choice(range(np.size(options_x)))\n",
    "\n",
    "        location = (options_x[site], options_y[site])\n",
    "\n",
    "        k_plus = self.impingement_rate()\n",
    "        k_minus = self.evaporation_rate(subset)\n",
    "        k_nn = self.nn_migration_rate(subset)\n",
    "\n",
    "        denom = k_plus + k_minus + k_nn\n",
    "        scan_loc_matrix = [(0,0), (0,-1), (0,1), (-1,0), (1,0)]\n",
    "        change_neigh = np.zeros(dims)\n",
    "\n",
    "        rand = uniform(0,1)\n",
    "        if rand < k_plus/denom:\n",
    "            change_surface[location] += 1\n",
    "            new_surface = surface + change_surface\n",
    "            for i in scan_loc_matrix: #create new neighbour matrix\n",
    "                (location[0]+i[0], location[1]+i[1])\n",
    "                scan_loc = ((location[0]+i[0]) % dims[0], (location[1]+i[1]) % dims[1])\n",
    "                fx_neigh = new_surface + self.fx_matrix\n",
    "                fy_neigh = new_surface + self.fy_matrix\n",
    "                bx_neigh = new_surface + self.bx_matrix\n",
    "                by_neigh = new_surface + self.by_matrix\n",
    "                change_neigh[scan_loc] = self.scan_neighbours(new_surface, fx_neigh, \n",
    "                                                              fy_neigh, bx_neigh, \n",
    "                                                              by_neigh, scan_loc) - neigh[scan_loc]\n",
    "            new_neigh = neigh + change_neigh\n",
    "        elif rand < (k_plus+k_minus)/denom:\n",
    "            change_surface[location] -= 1\n",
    "            new_surface = surface + change_surface\n",
    "            for i in scan_loc_matrix: #create new neighbour matrix\n",
    "                scan_loc = ((location[0]+i[0]) % dims[0], (location[1]+i[1]) % dims[1])\n",
    "                fx_neigh = new_surface + self.fx_matrix\n",
    "                fy_neigh = new_surface + self.fy_matrix\n",
    "                bx_neigh = new_surface + self.bx_matrix\n",
    "                by_neigh = new_surface + self.by_matrix\n",
    "                change_neigh[scan_loc] = self.scan_neighbours(new_surface, fx_neigh, \n",
    "                                                              fy_neigh, bx_neigh, \n",
    "                                                              by_neigh, scan_loc) - neigh[scan_loc]\n",
    "            new_neigh = neigh + change_neigh\n",
    "        else:\n",
    "            options = [(1,1),(1,0),(1,-1),(0,1),(0,-1),(-1,1),(-1,0),(-1,-1)]\n",
    "            migrate = choice(options)\n",
    "            prob = self.nm_migration_rate(location, migrate, neigh)\n",
    "            rand = uniform(0,1)\n",
    "            if rand < prob:\n",
    "                change_surface[location] -= 1\n",
    "                change_surface[(location[0]+migrate[0]) % dims[0], (location[1]+migrate[1]) % dims[1]] +=1\n",
    "                new_surface = surface + change_surface\n",
    "                for i in scan_loc_matrix:\n",
    "                    scan_loc1 = ((location[0]+i[0]) % dims[0], (location[1]+i[1]) % dims[1])\n",
    "                    scan_loc2 = ((migrate[0]+i[0]) % dims[0], (migrate[1]+i[1]) % dims[1])\n",
    "                    fx_neigh = new_surface + self.fx_matrix\n",
    "                    fy_neigh = new_surface + self.fy_matrix\n",
    "                    bx_neigh = new_surface + self.bx_matrix\n",
    "                    by_neigh = new_surface + self.by_matrix\n",
    "                    change_neigh[scan_loc1] = self.scan_neighbours(new_surface, fx_neigh,\n",
    "                                                                   fy_neigh, bx_neigh,\n",
    "                                                                   by_neigh, scan_loc1) - neigh[scan_loc1]\n",
    "                    change_neigh[scan_loc2] = self.scan_neighbours(new_surface, fx_neigh,\n",
    "                                                                   fy_neigh, bx_neigh,\n",
    "                                                                   by_neigh, scan_loc2) - neigh[scan_loc2]\n",
    "                new_neigh = neigh + change_neigh\n",
    "            else:\n",
    "                new_surface = surface\n",
    "                new_neigh = neigh\n",
    "        self.surface = new_surface\n",
    "        self.neigh = new_neigh\n",
    "        self.time += 1\n",
    "        if self.time % 10 == 0: #If it stores too many surface matrices the kernal dies\n",
    "            self.N_surface = np.append(self.N_surface, new_surface[:,:,np.newaxis], axis=2)\n",
    "print('Done')"
   ]
  },
  {
   "cell_type": "code",
   "execution_count": null,
   "id": "dfa89d54-ff14-4f4c-949a-3495f4f7d99c",
   "metadata": {},
   "outputs": [
    {
     "name": "stdout",
     "output_type": "stream",
     "text": [
      "crystal surface with 1 dislocations\n"
     ]
    }
   ],
   "source": [
    "import numpy as np\n",
    "from random import uniform, choice\n",
    "dims = (80, 80)\n",
    "mu = 1.5\n",
    "T = 4\n",
    "set_migration = True\n",
    "test = grow_crystal(dims, mu, T, set_migration)\n",
    "\n",
    "face = 0\n",
    "face_loc = 40\n",
    "boundaries = [0, 40]\n",
    "b = 2\n",
    "test.dislocation_matrices(face, face_loc, boundaries, b)"
   ]
  },
  {
   "cell_type": "code",
   "execution_count": null,
   "id": "ebaa5d43-be09-499e-beb7-a48e24cfeaf5",
   "metadata": {},
   "outputs": [
    {
     "name": "stdout",
     "output_type": "stream",
     "text": [
      "100\n",
      "(80, 80, 11)\n"
     ]
    }
   ],
   "source": [
    "dN = 10\n",
    "N = 100\n",
    "for i in range(N):\n",
    "    test.interaction()\n",
    "print(test.time)\n",
    "print(np.shape(test.N_surface))"
   ]
  },
  {
   "cell_type": "code",
   "execution_count": null,
   "id": "1996714b-24e9-4c35-bb9f-86048990730f",
   "metadata": {},
   "outputs": [
    {
     "data": {
      "text/plain": [
       "<matplotlib.colorbar.Colorbar at 0x7f633a0386d0>"
      ]
     },
     "execution_count": 34,
     "metadata": {},
     "output_type": "execute_result"
    },
    {
     "data": {
      "image/png": "[encoded data removed]",
      "text/plain": [
       "<Figure size 864x432 with 2 Axes>"
      ]
     },
     "metadata": {
      "needs_background": "light"
     },
     "output_type": "display_data"
    }
   ],
   "source": [
    "import matplotlib.pyplot as plt\n",
    "xr, yr = test.N_surface[:,:,-1].shape\n",
    "x, y = np.arange(xr+1), np.arange(yr+1)\n",
    "\n",
    "plt.figure(figsize=[12,6])\n",
    "plt.pcolor(x, y, test.N_surface[:,:,-1])\n",
    "plt.gca().set_aspect('equal')\n",
    "plt.title(\"Surface deposition height\")\n",
    "plt.xlabel(r\"x\")\n",
    "plt.ylabel(r\"y\")\n",
    "plt.colorbar()"
   ]
  },
  {
   "cell_type": "code",
   "execution_count": null,
   "id": "2ac2257d-b6da-48ab-93f2-a8815013b14e",
   "metadata": {},
   "outputs": [],
   "source": [
    "class grow_crystal():\n",
    "    \"\"\"The growth of a crystal with dislocations.\n",
    "    \n",
    "    Parameter\n",
    "    ---------\n",
    "    dims : Tulple\n",
    "        The dimensions of the crystal surface\n",
    "    mu : float\n",
    "        The dimensionless chemical potential\n",
    "    T : float\n",
    "        The dimensionless temperature\n",
    "    set_migration : {True, False}\n",
    "        If True surface migration is allowed\n",
    "        If False surface migration is NOT allowed\n",
    "    \n",
    "    Return\n",
    "    ------\n",
    "    time : int\n",
    "        The number of cycles (atom interactions)\n",
    "    surface : nd.array\n",
    "        The crystal surface at the last cycle\n",
    "    N_surface : nd.array\n",
    "        The crystal surface at different cycles\n",
    "    neigh : nd.array\n",
    "        The number of neighbours of all the atoms at the last cycle\n",
    "    \"\"\"\n",
    "\n",
    "    def __init__(self, dims, mu, T, set_migration):\n",
    "        self.T = T\n",
    "        self.mu = mu\n",
    "        self.dims = dims\n",
    "        self.fx_matrix = np.zeros(dims)\n",
    "        self.bx_matrix = np.zeros(dims)\n",
    "        self.fy_matrix = np.zeros(dims)\n",
    "        self.by_matrix = np.zeros(dims)\n",
    "        self.num_dislocations = 0\n",
    "        self.time = 0\n",
    "        self.surface = np.ones(self.dims)\n",
    "        self.N_surface = self.surface[:,:,np.newaxis]\n",
    "        self.neigh = np.array([])\n",
    "        self.set_migration = set_migration\n",
    "    \n",
    "    def dislocation_matrices(self, face, face_loc, boundaries, b):\n",
    "        \"\"\"Defining a dislocation line on the (001) cystal surface and create matrices to model\n",
    "        the dislocations when the number of neighbouring atoms is determined.\n",
    "\n",
    "        Parameter\n",
    "        ---------\n",
    "        face : int --> {0, 1}\n",
    "            The plain the dislocation line is located in\n",
    "            Value\n",
    "            -----\n",
    "            0 : dislocation line lies in the (100) plain\n",
    "            1 : dislocation line lies in the (010) plain\n",
    "        face_loc : int --> {1:dims[i]-1}\n",
    "            The location of the plane the dislocation line lies in. For\n",
    "            [face_loc] = n, the dislocation is between the (n-1)th and nth atom\n",
    "        boundaries : Tulple --> [start, end]\n",
    "        The boundaries of the dislocation line with [start] < [end]\n",
    "            Value\n",
    "            -----\n",
    "            start : {0:dims[i]-1}\n",
    "            end : {1:dims[i]}\n",
    "        b : int\n",
    "            The magnitude of the Burgers vector\n",
    "            If b=0, there is no dislocation\n",
    "            If b>0, the step will go up\n",
    "            If b<0, the step will go down\n",
    "        \"\"\"\n",
    "        \n",
    "        line = np.arange(boundaries[0], boundaries[1], 1, dtype=int)\n",
    "        dislocation_line = np.ones(boundaries[1]-boundaries[0])*b\n",
    "        f_matrix = np.zeros(self.dims)\n",
    "        b_matrix = np.zeros(self.dims)\n",
    "        if face == 0:\n",
    "            f_matrix[face_loc, line] = dislocation_line\n",
    "            b_matrix[face_loc-1, line] = -dislocation_line\n",
    "            self.fx_matrix += f_matrix\n",
    "            self.bx_matrix += b_matrix\n",
    "        elif face == 1:\n",
    "            f_matrix[line, face_loc] = dislocation_line\n",
    "            b_matrix[line, face_loc-1] = -dislocation_line\n",
    "            self.fy_matrix += f_matrix\n",
    "            self.by_matrix += b_matrix\n",
    "        else:\n",
    "            raise ValueWarning('Value for [face] should be either 0 or 1')\n",
    "        self.num_dislocations += 1\n",
    "        print('crystal surface with {} dislocations'.format(str(self.num_dislocations)))\n",
    "\n",
    "    \n",
    "    def num_dislocations(self):\n",
    "        print('There are {} dislocations'.format(str(self.num_dislocations)))\n",
    "\n",
    "        \n",
    "    def migration(selft):\n",
    "        if self.set_migration == True:\n",
    "            print('Atoms are allowed to migrate')\n",
    "        else:\n",
    "            print('Atoms are not allowed to migrate')\n",
    "\n",
    "\n",
    "    def scan_neighbours(self, surface, fx_neigh, fy_neigh, bx_neigh, by_neigh, loc):\n",
    "        \"\"\"Scanning how many neighbours an atom on the surface has.\n",
    "        \n",
    "        Parameter\n",
    "        ---------\n",
    "        surface : nd.array\n",
    "        fx_neigh : nd.array\n",
    "        fy_neigh : nd.array\n",
    "        bx_neigh : nd.array\n",
    "        by_neigh : nd.array\n",
    "        loc : Tulple\n",
    "        \n",
    "        Return\n",
    "        ------\n",
    "        n : int\n",
    "        \"\"\"\n",
    "        \n",
    "        dims = self.dims\n",
    "        n = 1\n",
    "        if surface[loc] <= fx_neigh[(loc[0]+1) % dims[0], loc[1] % dims[1]]:\n",
    "            n += 1\n",
    "        if surface[loc] <= fy_neigh[loc[0] % dims[0], (loc[1]+1) % dims[1]]:\n",
    "            n += 1\n",
    "        if surface[loc] <= bx_neigh[(loc[0]-1) % dims[0], loc[1] % dims[1]]:\n",
    "            n += 1\n",
    "        if surface[loc] <= by_neigh[loc[0] % dims[0], (loc[1]-1) % dims[1]]:\n",
    "            n += 1\n",
    "        return n\n",
    "\n",
    "\n",
    "    def neighbours(self):\n",
    "        \"\"\"Identifying the number of neighbours of each surface atom using periodic boundary\n",
    "        conditions for a surface with a single dislocation.\n",
    "        \n",
    "        Return\n",
    "        ------\n",
    "        neigh : nd.array\n",
    "            Matrix with the number of neighboring atoms for every atom on the crystal surface\n",
    "        \"\"\"\n",
    "        \n",
    "        dims = self.dims\n",
    "        neigh = np.zeros(dims)\n",
    "        surface = self.surface\n",
    "        fx_neigh = surface + self.fx_matrix\n",
    "        bx_neigh = surface + self.bx_matrix\n",
    "        fy_neigh = surface + self.fy_matrix\n",
    "        by_neigh = surface + self.by_matrix\n",
    "        for i in range(dims[0]):\n",
    "            for j in range(dims[1]):\n",
    "                loc = (i,j)\n",
    "                n = self.scan_neighbours(surface, fx_neigh, fy_neigh, bx_neigh, by_neigh, loc)\n",
    "                neigh[i,j] = n\n",
    "        return neigh\n",
    "\n",
    "\n",
    "    def evaporation_rate(self, n):\n",
    "        \"\"\"The evaporation rate of an atom based on the number of neighbours and temperature.\n",
    "        \n",
    "        Parameter\n",
    "        ---------\n",
    "        n : int\n",
    "            Number of neighbours of an atom\n",
    "        \n",
    "        Return\n",
    "        ------\n",
    "        k_minus : float\n",
    "            The evaporation rate of an atom\n",
    "        \"\"\"\n",
    "        \n",
    "        k_minus = np.exp(-n*self.T)\n",
    "        return k_minus\n",
    "\n",
    "\n",
    "    def impingement_rate(self):\n",
    "        \"\"\"The impingement rate of an atom based on the chemical potential and temperature.\n",
    "        \n",
    "        Return\n",
    "        ------\n",
    "        k_plus : float\n",
    "            The impingement rate of an atom\n",
    "        \"\"\"\n",
    "        \n",
    "        k_3 = self.evaporation_rate(3)\n",
    "        k_plus = np.exp(self.mu)*k_3\n",
    "        return k_plus\n",
    "\n",
    "\n",
    "    def nn_migration_rate(self, n):\n",
    "        \"\"\"The migration rate of an atom moving from a location of n neighbours to a location of \n",
    "        n neighbours. If migration is not allowed the migration rate is set to 0.\n",
    "        \n",
    "        Parameter\n",
    "        ---------\n",
    "        n : int\n",
    "            The number of neighbours of the atom\n",
    "        \n",
    "        Return\n",
    "        ------\n",
    "        k_nn : float\n",
    "            The migration rate\n",
    "        \"\"\"\n",
    "        if self.set_migration == True:\n",
    "            if n == 1:\n",
    "                Esd = 1/2\n",
    "            elif n == 2:\n",
    "                Esd = 3/2\n",
    "            else:\n",
    "                Esd = 5/2\n",
    "            k_nn = 1/8*np.exp(-Esd*self.T)\n",
    "        else:\n",
    "            k_nn = 0\n",
    "        return k_nn\n",
    "    \n",
    "    def nm_migration_rate(self, loc_n, loc_m, neigh):\n",
    "        \"\"\"The migration rate for an atom moving from location [loc_n] to location [loc_m]. If\n",
    "        migration is not allowed the migration rate is set to 0.\n",
    "        \n",
    "        Parameter\n",
    "        ---------\n",
    "        loc_n : Tulple\n",
    "            The initial coordinate of the atom\n",
    "        loc_m : Tulple\n",
    "            The new coordinate of the atom\n",
    "        neigh : nd.array\n",
    "            The number of neighbours of all the atoms in the initial state of the crystal surface\n",
    "        \n",
    "        Return\n",
    "        ------\n",
    "        k_nm : float\n",
    "            The migration rate between the two coordinates\n",
    "        \"\"\"\n",
    "        if self.set_migration == True:\n",
    "            n = neigh[loc_n]\n",
    "            new_surface = self.surface\n",
    "            new_surface[loc_n] += -1\n",
    "            new_surface[loc_m] += 1\n",
    "            fx_neighbour = new_surface + self.fx_matrix\n",
    "            fy_neighbour = new_surface + self.fy_matrix\n",
    "            bx_neighbour = new_surface + self.bx_matrix\n",
    "            by_neighbour = new_surface + self.by_matrix\n",
    "            m = self.scan_neighbours(new_surface, fx_neighbour, fy_neighbour, bx_neighbour, by_neighbour, loc_m)\n",
    "            \n",
    "            if n == 1 or m == 1:\n",
    "                Esd = 1/2\n",
    "            elif n == 2 or m == 2:\n",
    "                Esd = 3/2\n",
    "            else:\n",
    "                Esd = 5/2\n",
    "\n",
    "            if m <= n:\n",
    "                DeltaE = n-m\n",
    "            else:\n",
    "                DeltaE = 0\n",
    "\n",
    "            k_nm = 1/8*np.exp(-(Esd+DeltaE)*T)\n",
    "        else:\n",
    "            k_nm = 0\n",
    "        return k_nm\n",
    "    \n",
    "    def choose_subset(self):\n",
    "        \"\"\"Choose a subset based on the number of neighbours an atom has.\n",
    "        \n",
    "        Return\n",
    "        ------\n",
    "        subset : int\n",
    "            The number of neighbours all the atoms in the subset have\n",
    "        \"\"\"\n",
    "        T = self.T\n",
    "        mu = self.mu\n",
    "        counts = dict(zip([1, 2, 3, 4, 5], [0, 0, 0, 0, 0]))\n",
    "        if self.time == 0:\n",
    "            first_neigh = self.neighbours()\n",
    "            self.neigh = first_neigh\n",
    "        neigh = self.neigh\n",
    "        unique, counting = np.unique(neigh, return_counts = True)\n",
    "        index = 0\n",
    "        impingement_rate = self.impingement_rate()\n",
    "        \n",
    "        for number in unique:\n",
    "            counts[number] = counting[index]\n",
    "            index += 1\n",
    "\n",
    "        denom = 0\n",
    "        for i in range(1,6):\n",
    "            denom += counts[i] * (self.evaporation_rate(i) + impingement_rate\n",
    "                                  + self.nn_migration_rate(i))\n",
    "\n",
    "        prob = np.zeros(5)\n",
    "        for i in range(5):\n",
    "            prob[i] = counts[i+1] * (self.evaporation_rate(i+1) + impingement_rate\n",
    "                                     + self.nn_migration_rate(i+1)) / denom\n",
    "\n",
    "        rand = uniform(0,1)\n",
    "        if rand < prob[0]:\n",
    "            subset = 1\n",
    "        elif rand < prob[0] + prob[1]:\n",
    "            subset = 2\n",
    "        elif rand < prob[0] + prob[1] + prob[2]:\n",
    "            subset = 3\n",
    "        elif rand < prob[0] + prob[1] + prob[2] + prob[3]:\n",
    "            subset = 4\n",
    "        elif rand < prob[0] + prob[1] + prob[2] + +prob[3] + prob[4]:\n",
    "            subset = 5\n",
    "        \n",
    "        return subset\n",
    "    \n",
    "    def interaction(self, dN):\n",
    "        \"\"\"Simulating an interaction at one location on the crystal surface. The interaction has \n",
    "        two possible outcomes if surface migration is not allowed:\n",
    "        1. an atom evaporates from the surface\n",
    "        2. there is an atom impingement\n",
    "        The interaction has four possible outcomes if surface migration is allowed:\n",
    "        1. an atom evaporates from the surface\n",
    "        2. there is an atom impingement\n",
    "        3. an atom migrates to a neighbouring location\n",
    "        4. nothing happens the surface is unchanged\n",
    "        \n",
    "        Parameter\n",
    "        ---------\n",
    "        dN : int\n",
    "            The number of cycles run between subsequent crystal surfaces stored in self.N_surface\n",
    "        \"\"\"\n",
    "        dims = self.dims\n",
    "        surface = self.surface\n",
    "        change_surface = np.zeros(dims)\n",
    "        subset = self.choose_subset()\n",
    "        neigh = self.neigh\n",
    "        options_x = np.where(neigh==subset)[0]\n",
    "        options_y = np.where(neigh==subset)[1]\n",
    "        site = choice(range(np.size(options_x)))\n",
    "\n",
    "        location = (options_x[site], options_y[site])\n",
    "\n",
    "        k_plus = self.impingement_rate()\n",
    "        k_minus = self.evaporation_rate(subset)\n",
    "        k_nn = self.nn_migration_rate(subset)\n",
    "\n",
    "        denom = k_plus + k_minus + k_nn\n",
    "        scan_loc_matrix = [(0,0), (0,-1), (0,1), (-1,0), (1,0)]\n",
    "        change_neigh = np.zeros(dims)\n",
    "\n",
    "        rand = uniform(0,1)\n",
    "        if rand < k_plus/denom:\n",
    "            change_surface[location] += 1\n",
    "            new_surface = surface + change_surface\n",
    "            for i in scan_loc_matrix: #create new neighbour matrix\n",
    "                (location[0]+i[0], location[1]+i[1])\n",
    "                scan_loc = ((location[0]+i[0]) % dims[0], (location[1]+i[1]) % dims[1])\n",
    "                fx_neigh = new_surface + self.fx_matrix\n",
    "                fy_neigh = new_surface + self.fy_matrix\n",
    "                bx_neigh = new_surface + self.bx_matrix\n",
    "                by_neigh = new_surface + self.by_matrix\n",
    "                change_neigh[scan_loc] = self.scan_neighbours(new_surface, fx_neigh, \n",
    "                                                              fy_neigh, bx_neigh, \n",
    "                                                              by_neigh, scan_loc) - neigh[scan_loc]\n",
    "            new_neigh = neigh + change_neigh\n",
    "        elif rand < (k_plus+k_minus)/denom:\n",
    "            change_surface[location] -= 1\n",
    "            new_surface = surface + change_surface\n",
    "            for i in scan_loc_matrix: #create new neighbour matrix\n",
    "                scan_loc = ((location[0]+i[0]) % dims[0], (location[1]+i[1]) % dims[1])\n",
    "                fx_neigh = new_surface + self.fx_matrix\n",
    "                fy_neigh = new_surface + self.fy_matrix\n",
    "                bx_neigh = new_surface + self.bx_matrix\n",
    "                by_neigh = new_surface + self.by_matrix\n",
    "                change_neigh[scan_loc] = self.scan_neighbours(new_surface, fx_neigh, \n",
    "                                                              fy_neigh, bx_neigh, \n",
    "                                                              by_neigh, scan_loc) - neigh[scan_loc]\n",
    "            new_neigh = neigh + change_neigh\n",
    "        else:\n",
    "            options = [(1,1),(1,0),(1,-1),(0,1),(0,-1),(-1,1),(-1,0),(-1,-1)]\n",
    "            migrate = choice(options)\n",
    "            prob = self.nm_migration_rate(location, migrate, neigh)\n",
    "            rand = uniform(0,1)\n",
    "            if rand < prob:\n",
    "                change_surface[location] -= 1\n",
    "                change_surface[(location[0]+migrate[0]) % dims[0], (location[1]+migrate[1]) % dims[1]] +=1\n",
    "                new_surface = surface + change_surface\n",
    "                for i in scan_loc_matrix: #crate new neighbour matrix\n",
    "                    scan_loc1 = ((location[0]+i[0]) % dims[0], (location[1]+i[1]) % dims[1])\n",
    "                    scan_loc2 = ((migrate[0]+i[0]) % dims[0], (migrate[1]+i[1]) % dims[1])\n",
    "                    fx_neigh = new_surface + self.fx_matrix\n",
    "                    fy_neigh = new_surface + self.fy_matrix\n",
    "                    bx_neigh = new_surface + self.bx_matrix\n",
    "                    by_neigh = new_surface + self.by_matrix\n",
    "                    change_neigh[scan_loc1] = self.scan_neighbours(new_surface, fx_neigh,\n",
    "                                                                   fy_neigh, bx_neigh,\n",
    "                                                                   by_neigh, scan_loc1) - neigh[scan_loc1]\n",
    "                    change_neigh[scan_loc2] = self.scan_neighbours(new_surface, fx_neigh,\n",
    "                                                                   fy_neigh, bx_neigh,\n",
    "                                                                   by_neigh, scan_loc2) - neigh[scan_loc2]\n",
    "                new_neigh = neigh + change_neigh\n",
    "            else:\n",
    "                new_surface = surface\n",
    "                new_neigh = neigh\n",
    "        self.surface = new_surface\n",
    "        self.neigh = new_neigh\n",
    "        self.time += 1\n",
    "        if self.time % dN == 0: #If it stores too many surface matrices the kernal dies\n",
    "            self.N_surface = np.append(self.N_surface, new_surface[:,:,np.newaxis], axis=2)"
   ]
  },
  {
   "cell_type": "code",
   "execution_count": null,
   "id": "9bb501db-6f0c-44cd-b8d9-ed1b6e00a37a",
   "metadata": {},
   "outputs": [
    {
     "name": "stdout",
     "output_type": "stream",
     "text": [
      "crystal surface with 1 dislocations\n"
     ]
    }
   ],
   "source": [
    "import numpy as np\n",
    "import matplotlib.pyplot as plt\n",
    "from random import uniform, choice\n",
    "\n",
    "dims = (20, 20)\n",
    "mu = 1.5\n",
    "T = 4\n",
    "set_migration = False\n",
    "test = grow_crystal(dims, mu, T, set_migration)\n",
    "\n",
    "face = 0\n",
    "face_loc = 10\n",
    "boundaries = [0, 10]\n",
    "b = 2\n",
    "test.dislocation_matrices(face, face_loc, boundaries, b)"
   ]
  },
  {
   "cell_type": "code",
   "execution_count": null,
   "id": "d398c5b0-32b6-49cc-8173-3172950112e0",
   "metadata": {},
   "outputs": [
    {
     "name": "stdout",
     "output_type": "stream",
     "text": [
      "100\n",
      "(20, 20, 11)\n"
     ]
    }
   ],
   "source": [
    "dN = 10\n",
    "N = 100\n",
    "for i in range(N):\n",
    "    test.interaction(dN)\n",
    "print(test.time)\n",
    "print(np.shape(test.N_surface))"
   ]
  },
  {
   "cell_type": "code",
   "execution_count": null,
   "id": "7ab8deb8-4948-42cc-94aa-57ee4a6862af",
   "metadata": {},
   "outputs": [
    {
     "data": {
      "text/plain": [
       "<matplotlib.colorbar.Colorbar at 0x7f6339db0730>"
      ]
     },
     "execution_count": 43,
     "metadata": {},
     "output_type": "execute_result"
    },
    {
     "data": {
      "image/png": "[encoded data removed]",
      "text/plain": [
       "<Figure size 864x432 with 2 Axes>"
      ]
     },
     "metadata": {
      "needs_background": "light"
     },
     "output_type": "display_data"
    }
   ],
   "source": [
    "xr, yr = test.N_surface[:,:,-1].shape\n",
    "x, y = np.arange(xr+1), np.arange(yr+1)\n",
    "\n",
    "plt.figure(figsize=[12,6])\n",
    "plt.pcolor(x, y, test.N_surface[:,:,-1])\n",
    "plt.gca().set_aspect('equal')\n",
    "plt.title(\"Surface deposition height\")\n",
    "plt.xlabel(r\"x\")\n",
    "plt.ylabel(r\"y\")\n",
    "plt.colorbar()"
   ]
  },
  {
   "cell_type": "code",
   "execution_count": null,
   "id": "621a2c46-16f9-45f4-bee8-1e34604ae4e7",
   "metadata": {},
   "outputs": [],
   "source": []
  },
  {
   "cell_type": "markdown",
   "id": "1c805780-4911-4e0b-a25f-dc029d01103b",
   "metadata": {
    "tags": []
   },
   "source": [
    "# Surface correnction for surface plot"
   ]
  },
  {
   "cell_type": "markdown",
   "id": "c59bb648-ac2b-47bd-8ea5-95c933de80ee",
   "metadata": {},
   "source": [
    "The matrix of the crystal surface does not contain a dislocation. When the surface of the crystal is plotted this dislocation has to be created for the plot to accuratly describe the hight of the surface. For this purpose a spiral is generated which is then added to the surface matrix. the hight will therefore not be a matrix of integer numbers (i.e. the number of atoms stacked uppon each other) any more.\\\n",
    "\\\n",
    "The surface will spiral around the ends of the dislocation. The ends of the dislocation will be denoted as $b_1$ and $b_2$. "
   ]
  },
  {
   "cell_type": "code",
   "execution_count": null,
   "id": "7aab7d2f-8278-40a3-a691-d1571400c71b",
   "metadata": {},
   "outputs": [],
   "source": [
    "def test_surface_correction(dims, face, face_loc, boundaries, b):\n",
    "    theta1 = np.zeros(dims)\n",
    "    theta2 = np.zeros(dims)\n",
    "    if face == 0:\n",
    "        b1 = np.array([0,1])\n",
    "        b2 = np.array([0,-1])\n",
    "        origin1 = np.array([face_loc-1/2, boundaries[0]-1/2])\n",
    "        origin2 = np.array([face_loc-1/2, boundaries[1]-1/2])\n",
    "        for i in range(dims[0]):\n",
    "            for j in range(dims[1]):\n",
    "                r1_ij = np.array([i,j]) - origin1\n",
    "                r2_ij = np.array([i,j]) - origin2\n",
    "                if r1_ij[0] < 0:\n",
    "                    theta1[i,j] = np.arccos(np.dot(b1, r1_ij)/(np.linalg.norm(b1)*np.linalg.norm(r1_ij)))\n",
    "                    theta2[i,j] = np.arccos(np.dot(b2, r2_ij)/(np.linalg.norm(b2)*np.linalg.norm(r2_ij)))\n",
    "                else:\n",
    "                    theta1[i,j] = 2*np.pi - np.arccos(np.dot(b1, r1_ij)/(np.linalg.norm(b1)\n",
    "                                                                         *np.linalg.norm(r1_ij)))\n",
    "                    theta2[i,j] = 2*np.pi - np.arccos(np.dot(b2, r2_ij)/(np.linalg.norm(b2)\n",
    "                                                                         *np.linalg.norm(r2_ij)))\n",
    "    else:\n",
    "        b1 = np.array([1,0])\n",
    "        b2 = np.array([1,0])\n",
    "        origin1 = np.array([boundaries[0]-1/2, face_loc-1/2])\n",
    "        origin2 = np.array([boundaries[1]-1/2, face_loc-1/2])\n",
    "        for i in range(dims[0]):\n",
    "            for j in range(dims[1]):\n",
    "                r1_ij = np.array([i,j]) - origin1\n",
    "                r2_ij = np.array([i,j]) - origin2\n",
    "                theta1[i,j] = np.arccos(np.dot(b1, r1_ij)/(np.linalg.norm(b1)*np.linalg.norm(r1_ij)))\n",
    "                theta2[i,j] = np.arccos(np.dot(b2, r2_ij)/(np.linalg.norm(b2)*np.linalg.norm(r2_ij)))\n",
    "    #correction_surface = b * ((np.ones(dims) - theta1/(2*np.pi)) + (np.ones(dims) - theta2/(2*np.pi)))\n",
    "    correction_surface = b * (np.ones(dims) - theta2/(2*np.pi))\n",
    "    \n",
    "    return correction_surface"
   ]
  },
  {
   "cell_type": "code",
   "execution_count": null,
   "id": "d78882d3-16e8-4410-899e-18694c8ec9ad",
   "metadata": {},
   "outputs": [],
   "source": [
    "import numpy as np\n",
    "\n",
    "\n",
    "def surface_correction(self, face, face_loc, boundaries, b):\n",
    "    \"\"\"Correction matrix to the surface matrix which is a matrix representation of a spiral,\n",
    "    which is what a surface becomes when it contains a dislocation.\"\"\"\n",
    "    \n",
    "    theta1 = np.zeros(self.dims)\n",
    "    theta2 = np.zeros(self.dims)\n",
    "    if face == 0:\n",
    "        b1 = np.array([0,1])\n",
    "        b2 = np.array([0,-1])\n",
    "        origin1 = np.array([face_loc+1/2, boundaries[0]-1/2])\n",
    "        origin2 = np.array([face_loc+1/2, boundaries[1]-1/2])\n",
    "        for i in range(self.dims[0]):\n",
    "            for j in range(self.dims[1]):\n",
    "                r1_ij = np.array([i,j]) - origin1\n",
    "                r2_ij = np.array([i,j]) - origin2\n",
    "                theta1[i,j] = np.arccos(np.dot(b1, r1_ij)/(np.linalg.norm(b1)*np.linalg.norm(r1_ij)))\n",
    "                theta2[i,j] = np.arccos(np.dot(b2, r2_ij)/(np.linalg.norm(b2)*np.linalg.norm(r2_ij)))\n",
    "        correction_surface = (b * (np.ones(self.dims) - theta1/(2*np.pi))\n",
    "                               * (np.ones(self.dims) - theta2/(2*np.pi)))\n",
    "    else:\n",
    "        b1 = np.array([1,0])\n",
    "        b2 = np.array([1,0])\n",
    "        origin1 = np.array([boundaries[0]-1/2, face_loc+1/2])\n",
    "        origin2 = np.array([boundaries[1]-1/2, face_loc+1/2])\n",
    "        for i in range(self.dims[0]):\n",
    "            for j in range(self.dims[1]):\n",
    "                r1_ij = np.array([i,j]) - origin1\n",
    "                r2_ij = np.array([i,j]) - origin2\n",
    "                theta1[i,j] = np.arccos(np.dot(b1, r1_ij)/(np.linalg.norm(b1)*np.linalg.norm(r1_ij)))\n",
    "                theta2[i,j] = np.arccos(np.dot(b2, r2_ij)/(np.linalg.norm(b2)*np.linalg.norm(r2_ij)))\n",
    "        correction_surface = (b * (np.ones(self.dims) - theta1/(2*np.pi))\n",
    "                               * (np.ones(self.dims) - theta2/(2*np.pi)))\n",
    "    \n",
    "    return correnction_surface\n",
    "\n",
    "\n",
    "def test_surface_correction(dims, face, face_loc, boundaries, b):\n",
    "    theta1 = np.zeros([dims[0]*3, dims[1]*3])\n",
    "    theta2 = np.zeros([dims[0]*3, dims[1]*3])\n",
    "    if face == 0:\n",
    "        b1 = np.array([0,1])\n",
    "        b2 = np.array([0,-1])\n",
    "        origin1 = np.array([face_loc-1/2, boundaries[0]-1/2])\n",
    "        origin2 = np.array([face_loc-1/2, boundaries[1]-1/2])\n",
    "        for i in range(-dims[0],2*dims[0]):\n",
    "            for j in range(-dims[1],2*dims[0]):\n",
    "                r1_ij = np.array([i,j]) - origin1\n",
    "                r2_ij = np.array([i,j]) - origin2\n",
    "                if r1_ij[0] < 0:\n",
    "                    theta1[i+dims[0],j+dims[1]] = np.arccos(np.dot(b1, r1_ij)/(np.linalg.norm(b1)*np.linalg.norm(r1_ij)))\n",
    "                    theta2[i+dims[0],j+dims[1]] = np.arccos(np.dot(b2, r2_ij)/(np.linalg.norm(b2)*np.linalg.norm(r2_ij)))\n",
    "                else:\n",
    "                    theta1[i+dims[0],j+dims[1]] = 2*np.pi - np.arccos(np.dot(b1, r1_ij)/(np.linalg.norm(b1)\n",
    "                                                                         *np.linalg.norm(r1_ij)))\n",
    "                    theta2[i+dims[0],j+dims[1]] = 2*np.pi - np.arccos(np.dot(b2, r2_ij)/(np.linalg.norm(b2)\n",
    "                                                                         *np.linalg.norm(r2_ij)))\n",
    "    else:\n",
    "        b1 = np.array([1,0])\n",
    "        b2 = np.array([1,0])\n",
    "        origin1 = np.array([boundaries[0]-1/2, face_loc-1/2])\n",
    "        origin2 = np.array([boundaries[1]-1/2, face_loc-1/2])\n",
    "        for i in range(dims[0]):\n",
    "            for j in range(dims[1]):\n",
    "                r1_ij = np.array([i,j]) - origin1\n",
    "                r2_ij = np.array([i,j]) - origin2\n",
    "                theta1[i,j] = np.arccos(np.dot(b1, r1_ij)/(np.linalg.norm(b1)*np.linalg.norm(r1_ij)))\n",
    "                theta2[i,j] = np.arccos(np.dot(b2, r2_ij)/(np.linalg.norm(b2)*np.linalg.norm(r2_ij)))\n",
    "    correction_surface1 = b * (np.ones([dims[0]*3,dims[1]*3]) - theta1/(2*np.pi))\n",
    "    correction_surface2 = b * (np.ones([dims[0]*3,dims[1]*3]) - theta2/(2*np.pi))\n",
    "    \n",
    "    return correction_surface1, correction_surface2"
   ]
  },
  {
   "cell_type": "code",
   "execution_count": null,
   "id": "d7e551ac-b401-4d7d-85af-867b446a7765",
   "metadata": {},
   "outputs": [],
   "source": [
    "import numpy as np\n",
    "dims = (80, 80)\n",
    "face = 0\n",
    "face_loc = 40\n",
    "boundaries = [0, 40]\n",
    "b = 2\n",
    "\n",
    "surf_correction1, surf_correction2 = test_surface_correction(dims, face, face_loc, boundaries, b)"
   ]
  },
  {
   "cell_type": "code",
   "execution_count": null,
   "id": "80122af0-868d-4096-ad65-f94fa9c435af",
   "metadata": {},
   "outputs": [],
   "source": []
  },
  {
   "cell_type": "code",
   "execution_count": null,
   "id": "04d90c24-2bf3-4c9b-9516-e31cb120336f",
   "metadata": {
    "tags": []
   },
   "outputs": [
    {
     "data": {
      "text/plain": [
       "<matplotlib.colorbar.Colorbar at 0x7f375da07a30>"
      ]
     },
     "execution_count": 4,
     "metadata": {},
     "output_type": "execute_result"
    },
    {
     "data": {
      "image/png": "[encoded data removed]",
      "text/plain": [
       "<Figure size 864x432 with 2 Axes>"
      ]
     },
     "metadata": {
      "needs_background": "light"
     },
     "output_type": "display_data"
    }
   ],
   "source": [
    "import matplotlib.pyplot as plt\n",
    "xr, yr = surf_correction1.shape\n",
    "x, y = np.arange(xr+1), np.arange(yr+1)\n",
    "\n",
    "plt.figure(figsize=[12,6])\n",
    "plt.pcolor(x, y, surf_correction1)\n",
    "plt.gca().set_aspect('equal')\n",
    "plt.title(\"Surface deposition height\")\n",
    "plt.xlabel(r\"x\")\n",
    "plt.ylabel(r\"y\")\n",
    "plt.colorbar()"
   ]
  },
  {
   "cell_type": "code",
   "execution_count": null,
   "id": "e05f4f6c-471e-49cc-8f68-bdc556fcde29",
   "metadata": {
    "tags": []
   },
   "outputs": [],
   "source": []
  },
  {
   "cell_type": "markdown",
   "id": "5f714553-2eb0-4f98-ba07-6a9e32fb10b3",
   "metadata": {
    "jp-MarkdownHeadingCollapsed": true,
    "tags": []
   },
   "source": [
    "# Old text"
   ]
  },
  {
   "cell_type": "markdown",
   "id": "9a1884cc-2f4a-4e3d-b1b9-7bc64e390ac8",
   "metadata": {},
   "source": [
    "This section is focused on indentifying the natural units and converting the parameters to dimensionless units "
   ]
  },
  {
   "cell_type": "markdown",
   "id": "78e84ff4-6a1d-4860-841f-f2e689eb84c0",
   "metadata": {
    "tags": []
   },
   "source": [
    "We first focus on the impingement, evaporation and surface migration rate. These rates have been defined as\n",
    "\\begin{equation}\n",
    "    \\begin{split}\n",
    "        k^{+} &= \\mathrm{exp}\\left(\\Delta \\mu / k_{B} T \\right) k_{3}^{-},\\\\\n",
    "        k_{n}^{-} &= \\nu \\, \\mathrm{exp}\\left(- n \\varphi / k_{B} T \\right),\\\\\n",
    "        k_{nm} &= \\frac{1}{8} \\nu \\, \\mathrm{exp}\\left\\{- \\left[ E_{\\mathrm{sd}} (n,m) + \\Delta E (n,m) \\right] / k_{B} T \\right\\},\n",
    "    \\end{split}\n",
    "\\end{equation}\n",
    "respectively.\\\n",
    "The natural units in these three equations are:\n",
    "- The frequency factor $\\nu$ which represents the frequency at which collisions occur.\n",
    "- The Boltzmann constant $k_{B}$.\n",
    "- The energy required to break the bond with one neighbor $\\varphi$."
   ]
  },
  {
   "cell_type": "markdown",
   "id": "1c183ed8-9a96-473e-ba97-dbbbb39fdeac",
   "metadata": {},
   "source": [
    "From these equations we can create the following dimensionless parameters\n",
    "\\begin{equation}\n",
    "    \\tilde{k} = \\frac{k}{\\nu}, \\qquad \\qquad \\tilde{T} = \\frac{k_{B}}{\\varphi} T, \\qquad \\qquad \\tilde{\\mu} = \\frac{\\mu}{\\varphi}, \\qquad \\qquad \\tilde{E} = \\frac{E}{\\varphi}.\n",
    "\\end{equation}\n",
    "The dimensionless impingement, evaporation and surface migration rate will then become\n",
    "\\begin{equation}\n",
    "    \\begin{split}\n",
    "        \\tilde{k}^{+} &= \\mathrm{exp}\\left(\\Delta \\tilde{\\mu} / \\tilde{T} \\right) \\tilde{k}_{3}^{-},\\\\\n",
    "        \\tilde{k}_{n}^{-} &= \\mathrm{exp}\\left(- n / \\tilde{T} \\right),\\\\\n",
    "        \\tilde{k}_{nm} &= \\frac{1}{8} \\mathrm{exp}\\left\\{- \\left[ \\tilde{E}_{\\mathrm{sd}} (n,m) + \\Delta \\tilde{E} (n,m) \\right] / \\tilde{T} \\right\\},\n",
    "    \\end{split}\n",
    "\\end{equation}"
   ]
  },
  {
   "cell_type": "markdown",
   "id": "3105dda4-1eb0-40c4-9d2d-e45dca33c0e3",
   "metadata": {},
   "source": [
    "The activation energy $E_{sd}$ is specified as\n",
    "\\begin{equation}\n",
    "    E_\\mathrm{sd} (n,m) = \\begin{cases} \\varphi/2, & \\mbox{if either } m = 1 \\mbox{ or } n = 1 \\\\ 3 \\varphi / 2, & \\mbox{if } n \\mbox{ and } m>1, \\mbox{ and either } m=2 \\mbox{ or } n=2, \\\\ 5 \\varphi /2, & \\mbox{if } n \\mbox{ and } m>2, \\end{cases}\n",
    "\\end{equation}\n",
    "and the $\\textbf{other}$ energy $\\Delta E$ is specified as\n",
    "\\begin{equation}\n",
    "    \\Delta E (n,m) = \\begin{cases} (n-m)\\varphi & \\mbox{if } m \\leq n, \\\\ 0 & \\mbox{if } m>n. \\end{cases}\n",
    "\\end{equation}"
   ]
  },
  {
   "cell_type": "markdown",
   "id": "cfe02a1e-cad1-4a98-bbbd-d57731f02e71",
   "metadata": {},
   "source": [
    "Converting these energies into dimensionless units will give\n",
    "\\begin{equation}\n",
    "    \\begin{split}\n",
    "        \\tilde{E}_\\mathrm{sd} (n,m) &= \\begin{cases} 1/2, & \\mbox{if either } m = 1 \\mbox{ or } n = 1 \\\\ 3 / 2, & \\mbox{if } n \\mbox{ and } m>1, \\mbox{ and either } m=2 \\mbox{ or } n=2, \\\\ 5 /2, & \\mbox{if } n \\mbox{ and } m>2, \\end{cases}\\\\\n",
    "        \\\\\n",
    "        \\Delta \\tilde{E} (n,m) &= \\begin{cases} n-m & \\mbox{if } m \\leq n, \\\\ 0 & \\mbox{if } m>n. \\end{cases}\n",
    "    \\end{split}\n",
    "\\end{equation}"
   ]
  },
  {
   "cell_type": "markdown",
   "id": "fbd2a1b6-c8ab-41e7-b5ce-16ff5251499d",
   "metadata": {},
   "source": [
    "$\\textbf{The growth rate is one of the observables that we can investigate in our simulation.}$"
   ]
  },
  {
   "cell_type": "markdown",
   "id": "2dff4466-e0ff-4817-a31c-6b61c8fbaf10",
   "metadata": {},
   "source": [
    "The growth rate resulting from the spiral mechanism alone is\n",
    "\\begin{equation}\n",
    "    \\frac{R}{k^{+}d} = \\frac{0.053 b \\Delta \\mu [1 - \\mathrm{exp} (-\\Delta \\mu /k_{B}T)]}{\\varphi / 2 k_{B} T - \\ln[\\coth(\\varphi / 4 k_{b} T)]}.\n",
    "\\end{equation}\n",
    "Here $b$ represents the magnitude of the Burgers vector of the dislocation pair in units of the layer spacing, and $d$ is the layer spacing."
   ]
  },
  {
   "cell_type": "markdown",
   "id": "b18c49e3-dcab-42e3-b212-5be5735318c0",
   "metadata": {},
   "source": [
    "In dimensionless units\n",
    "\\begin{equation}\n",
    "    \\frac{R}{k^{+}d}=\\frac{\\tilde{R}}{\\tilde{k}^{+}d} = \\frac{0.053 b \\Delta \\mu [1 - \\mathrm{exp} (-\\Delta \\tilde{\\mu} /\\tilde{T})]}{1 / 2 \\tilde{T} - \\ln[\\coth(1 / 4 \\tilde{T})]}.\n",
    "\\end{equation}"
   ]
  },
  {
   "cell_type": "markdown",
   "id": "5fc8bdca-6e74-4776-8d36-c0a19e8c76b2",
   "metadata": {},
   "source": [
    "The growth rate of a perfect crystal is\n",
    "\\begin{equation}\n",
    "    \\frac{R}{k^{+}d} = \\left( \\frac{\\pi}{3} \\right)^{1/3} \\left( \\frac{\\Delta \\mu}{k_{B} T} \\right)^{1/6} \\left[ 1 - \\mathrm{exp} \\left( \\frac{- \\Delta \\mu}{k_{B} T} \\right) \\right]^{2/3} \\mathrm{exp} \\left( \\frac{- 4 \\gamma^2}{3 k_{B} T \\Delta \\mu} \\right)\n",
    "\\end{equation}\n",
    "Here $\\gamma$ represents the extra free energy of an atom at the edge of the cluster. Cluster refers to a cluster of adatoms."
   ]
  },
  {
   "cell_type": "markdown",
   "id": "e07a52bd-6c31-4930-aa15-9738be7997c8",
   "metadata": {},
   "source": [
    "In dimensionless units\n",
    "\\begin{equation}\n",
    "    \\frac{\\tilde{R}}{\\tilde{k}^{+}d} = \\frac{R}{k^{+}d} = \\left( \\frac{\\pi}{3} \\right)^{1/3} \\left( \\frac{\\Delta \\tilde{\\mu}}{\\tilde{T}} \\right)^{1/6} \\left[ 1 - \\mathrm{exp} \\left( \\frac{- \\Delta \\tilde{\\mu}}{\\tilde{T}} \\right) \\right]^{2/3} \\mathrm{exp} \\left( \\frac{- 4 \\tilde{\\gamma}^2}{3 \\tilde{T} \\Delta \\tilde{\\mu}} \\right)\n",
    "\\end{equation}"
   ]
  },
  {
   "cell_type": "markdown",
   "id": "11da230c-20f2-4a44-9946-9e25d198d9a3",
   "metadata": {},
   "source": [
    "The growth rate essencially represents the average growth per collision. With respect to the Monte Carlo simulation is is the growth per cycle.????????"
   ]
  },
  {
   "cell_type": "markdown",
   "id": "a4916b24-9dc8-4108-bb45-7333ccee5274",
   "metadata": {
    "tags": []
   },
   "source": [
    "## Code"
   ]
  },
  {
   "cell_type": "markdown",
   "id": "9dc86219-3c80-44f4-86ab-94388fd60340",
   "metadata": {},
   "source": [
    "$\\textbf{First function}$\\\n",
    "Calculating the value of $\\tilde{\\gamma}$ using\n",
    "\\begin{equation}\n",
    "    \\tilde{\\gamma} = \\tilde{T}/2 - \\mathrm{ln}[\\mathrm{coth}(\\tilde{T}/4)].\n",
    "\\end{equation}\n",
    "As $\\mathrm{coth}(x) = \\frac{1}{\\tanh(x)}$\n",
    "\\begin{equation}\n",
    "    \\tilde{\\gamma} = \\tilde{T}/2 + \\mathrm{ln}[\\mathrm{tanh}(\\tilde{T}/4)].\n",
    "\\end{equation}\n",
    "\\\n",
    "$\\textbf{Second fuction}$\\\n",
    "Calculating the value of $\\tilde{k}^{+}$ using\n",
    "\\begin{equation}\n",
    "    \\begin{split}\n",
    "        \\tilde{k}^{+} &= \\mathrm{exp}\\left(\\Delta \\tilde{\\mu} / \\tilde{T} \\right) \\tilde{k}_{3}^{-},\\\\\n",
    "        \\tilde{k}_{n}^{-} &= \\mathrm{exp}\\left(- n / \\tilde{T} \\right),\\\\\n",
    "    \\end{split}\n",
    "\\end{equation}\n",
    "\\\n",
    "$\\textbf{Third function}$\\\n",
    "Calculating the value of $c$ using\n",
    "\\begin{equation}\n",
    "    \\begin{split}\n",
    "        \\tilde{c} &= \\tilde{k}^{+} a [1 - \\mathrm{exp}(- \\Delta \\tilde{\\mu} / \\tilde{T})]\n",
    "    \\end{split}\n",
    "\\end{equation}\n",
    "with $a$ unity.\\\n",
    "\\\n",
    "$\\textbf{Fourth function}$\\\n",
    "Calculating the value of $\\frac{\\Delta \\tilde{\\mu}_0}{\\tilde{T}}$ using\n",
    "\\begin{equation}\n",
    "    \\frac{\\Delta \\tilde{\\mu}_0}{\\tilde{T}} = \\frac{-1.333 (\\tilde{\\gamma}/ \\tilde{T})^2}{\\mathrm{ln}[0.0168 (\\tilde{c}/\\tilde{k}^{+} a)^{1/3} (\\Delta \\tilde{\\mu} / \\tilde{T})^{5/6} (\\tilde{T}/ \\tilde{\\gamma})b]}\n",
    "\\end{equation}"
   ]
  },
  {
   "cell_type": "code",
   "execution_count": 29,
   "id": "f0f48ca0-ca41-4a3d-ba3d-40c56dc778b9",
   "metadata": {},
   "outputs": [],
   "source": [
    "import numpy as np\n",
    "import matplotlib.pyplot as plt\n",
    "\n",
    "def gamma_func(T):\n",
    "    \"\"\"Function for the extra free energy of an atom at the edge of the cluster (called gamma).\n",
    "    Gamma is 0 at temperatures higher than 0.8T_R, where T_R is the roughening temperature, which\n",
    "    in literature is L / (k_B T_R) = 4.9. L is the binding energy of the simple cubic crystal \n",
    "    (L = \\varphi 3) and k_B is the boltzmann constant. However the input value for this function \n",
    "    is dimensionless T, the dimensionless roughening temperature is therefore T_R = 4.9/3. At lower\n",
    "    temperatures gamma is determined via the equation used in this fuction.\n",
    "    \n",
    "    Parameter\n",
    "    ---------\n",
    "    T : float\n",
    "        Dimensionless temperature\n",
    "    \n",
    "    Return\n",
    "    ------\n",
    "    gamma : float\n",
    "        The extra free energy of an atom at the edge of the cluster\n",
    "    \"\"\"\n",
    "    T_R = 4.9/3\n",
    "    \n",
    "    if T >= T_R:\n",
    "        gamma = 0\n",
    "    else:\n",
    "        gamma = (1/(2 * T) + np.log(np.tanh(1 / (4 * T))))\n",
    "    \n",
    "    return gamma\n",
    "\n",
    "def imping_rate(mu, T):\n",
    "    \"\"\"The dimensionless impingement rate\n",
    "    \n",
    "    Parameter\n",
    "    ---------\n",
    "    mu : float\n",
    "        Dimensionless chemical potential\n",
    "    T : float\n",
    "        Dimensionless temperature\n",
    "    \n",
    "    Return\n",
    "    ------\n",
    "    k_p : float\n",
    "        Dimensionless impingement rate\n",
    "    \"\"\"\n",
    "    n = 3\n",
    "    \n",
    "    k_3 = np.exp(-3/T)\n",
    "    k_p = np.exp(mu/T)*k_3\n",
    "    \n",
    "    return k_p\n",
    "\n",
    "def step_v(k_p, mu, T):\n",
    "    \"\"\"The dimensionless step velocity.\n",
    "    \n",
    "    Parameter\n",
    "    ---------\n",
    "    k_p : float\n",
    "        Dimensionless impingment rate\n",
    "    mu : float\n",
    "        Dimensionless chemical potential\n",
    "    T : float\n",
    "        Dimensionless temperature\n",
    "    \n",
    "    Return\n",
    "    ------\n",
    "    c : float\n",
    "        dimensionless step velocity\n",
    "    \"\"\"\n",
    "    \n",
    "    c = k_p * (1 - np.exp(-mu/T))\n",
    "    \n",
    "    return c\n",
    "\n",
    "def growth_func(mu, T, b):\n",
    "    gamma = (1/2 * T + np.log(np.tanh(1 / (4 * T))))\n",
    "    k_p = imping_rate(mu, T)\n",
    "    c = step_v(k_p, mu, T)\n",
    "    \n",
    "    mu_new = 1.333 * (gamma/T)**2 / np.log(0.0168 * (c/k_p)**(1/3) *\n",
    "                                       (mu/T)**(5/6) * (T/gamma) * b)\n",
    "    \n",
    "    return mu_new\n",
    "\n",
    "def growth_bound(mu, T, b):\n",
    "    \"\"\"The boundary between 2D nucleation and spiral growth.\n",
    "    The boundary value of the chemical potential at different temperatures determined\n",
    "    through itiration.\n",
    "    \n",
    "    Parameter\n",
    "    ---------\n",
    "    mu : float\n",
    "        Initial dimensionless chemical potential\n",
    "    T : nd.array\n",
    "        Dimensionless temperature\n",
    "    b : float\n",
    "        The magnitude of the Burgers vector (the hight of the dislocation)\n",
    "    \n",
    "    Return\n",
    "    ------\n",
    "    mu_bound : nd.array\n",
    "        The boundary value of the chemical potential between 2D nucleation and spiral \n",
    "        growth at different temperatures\n",
    "    \"\"\"\n",
    "    \n",
    "    d_mu = 1e-6\n",
    "    diml_mu = np.array([])\n",
    "    \n",
    "    for T_i in T:\n",
    "        \n",
    "        mu_1 = growth_func(mu, T_i, b)\n",
    "        mu_2 = growth_func(mu_1, T_i, b)\n",
    "        mu_i = mu_2\n",
    "        \n",
    "        error = ((mu_1 - mu_2)/ mu_1)**2\n",
    "        \n",
    "        n = 0\n",
    "        while error > d_mu:\n",
    "            n = n+1\n",
    "            mu_j = growth_func(mu_i, T_i, b)\n",
    "            error = ((mu_i - mu_j)/ mu_i)**2\n",
    "            mu_i = mu_j\n",
    "        \n",
    "        diml_mu = np.append([diml_mu], [mu_i])\n",
    "        mu = mu_i\n",
    "    \n",
    "    new_mu = diml_mu*T\n",
    "    \n",
    "    return new_mu\n"
   ]
  },
  {
   "cell_type": "markdown",
   "id": "2bae7bcb-7da4-4e93-bd1c-653313142100",
   "metadata": {},
   "source": [
    "$\\textbf{Determining the growth boundary}$"
   ]
  },
  {
   "cell_type": "code",
   "execution_count": 30,
   "id": "b3c824f1-9db7-4fa6-baa4-e9e4869eaabc",
   "metadata": {},
   "outputs": [
    {
     "name": "stderr",
     "output_type": "stream",
     "text": [
      "C:\\Users\\Jeroe\\AppData\\Local\\Temp/ipykernel_19164/592475509.py:80: RuntimeWarning: invalid value encountered in log\n",
      "  mu_new = 1.333 * (gamma/T)**2 / np.log(0.0168 * (c/k_p)**(1/3) *\n"
     ]
    }
   ],
   "source": [
    "diml_Tmin = 4.9\n",
    "diml_Tmax = 30\n",
    "diml_dT = 0.1\n",
    "diml_T = np.arange(diml_Tmin, diml_Tmax+diml_dT, diml_dT, dtype=float)\n",
    "\n",
    "init_diml_mu = 1\n",
    "\n",
    "b = 2\n",
    "\n",
    "L = 3\n",
    "\n",
    "T = L/diml_T\n",
    "init_mu = init_diml_mu*T[0]\n",
    "\n",
    "mu = growth_bound(init_mu, T, b)"
   ]
  },
  {
   "cell_type": "code",
   "execution_count": 31,
   "id": "b3214e43-e31d-4b2a-b76b-9d6977c33337",
   "metadata": {},
   "outputs": [
    {
     "name": "stdout",
     "output_type": "stream",
     "text": [
      "[nan nan nan nan nan nan nan nan nan nan nan nan nan nan nan nan nan nan\n",
      " nan nan nan nan nan nan nan nan nan nan nan nan nan nan nan nan nan nan\n",
      " nan nan nan nan nan nan nan nan nan nan nan nan nan nan nan nan nan nan\n",
      " nan nan nan nan nan nan nan nan nan nan nan nan nan nan nan nan nan nan\n",
      " nan nan nan nan nan nan nan nan nan nan nan nan nan nan nan nan nan nan\n",
      " nan nan nan nan nan nan nan nan nan nan nan nan nan nan nan nan nan nan\n",
      " nan nan nan nan nan nan nan nan nan nan nan nan nan nan nan nan nan nan\n",
      " nan nan nan nan nan nan nan nan nan nan nan nan nan nan nan nan nan nan\n",
      " nan nan nan nan nan nan nan nan nan nan nan nan nan nan nan nan nan nan\n",
      " nan nan nan nan nan nan nan nan nan nan nan nan nan nan nan nan nan nan\n",
      " nan nan nan nan nan nan nan nan nan nan nan nan nan nan nan nan nan nan\n",
      " nan nan nan nan nan nan nan nan nan nan nan nan nan nan nan nan nan nan\n",
      " nan nan nan nan nan nan nan nan nan nan nan nan nan nan nan nan nan nan\n",
      " nan nan nan nan nan nan nan nan nan nan nan nan nan nan nan nan nan nan\n",
      " nan]\n"
     ]
    }
   ],
   "source": [
    "print(mu)"
   ]
  },
  {
   "cell_type": "code",
   "execution_count": 32,
   "id": "9246e662-32ae-4c2a-95c2-20d025c88c53",
   "metadata": {},
   "outputs": [
    {
     "name": "stdout",
     "output_type": "stream",
     "text": [
      "[nan nan nan nan nan nan nan nan nan nan nan nan nan nan nan nan nan nan\n",
      " nan nan nan nan nan nan nan nan nan nan nan nan nan nan nan nan nan nan\n",
      " nan nan nan nan nan nan nan nan nan nan nan nan nan nan nan nan nan nan\n",
      " nan nan nan nan nan nan nan nan nan nan nan nan nan nan nan nan nan nan\n",
      " nan nan nan nan nan nan nan nan nan nan nan nan nan nan nan nan nan nan\n",
      " nan nan nan nan nan nan nan nan nan nan nan nan nan nan nan nan nan nan\n",
      " nan nan nan nan nan nan nan nan nan nan nan nan nan nan nan nan nan nan\n",
      " nan nan nan nan nan nan nan nan nan nan nan nan nan nan nan nan nan nan\n",
      " nan nan nan nan nan nan nan nan nan nan nan nan nan nan nan nan nan nan\n",
      " nan nan nan nan nan nan nan nan nan nan nan nan nan nan nan nan nan nan\n",
      " nan nan nan nan nan nan nan nan nan nan nan nan nan nan nan nan nan nan\n",
      " nan nan nan nan nan nan nan nan nan nan nan nan nan nan nan nan nan nan\n",
      " nan nan nan nan nan nan nan nan nan nan nan nan nan nan nan nan nan nan\n",
      " nan nan nan nan nan nan nan nan nan nan nan nan nan nan nan nan nan nan\n",
      " nan]\n",
      "[nan nan nan nan nan nan nan nan nan nan nan nan nan nan nan nan nan nan\n",
      " nan nan nan nan nan nan nan nan nan nan nan nan nan nan nan nan nan nan\n",
      " nan nan nan nan nan nan nan nan nan nan nan nan nan nan nan nan nan nan\n",
      " nan nan nan nan nan nan nan nan nan nan nan nan nan nan nan nan nan nan\n",
      " nan nan nan nan nan nan nan nan nan nan nan nan nan nan nan nan nan nan\n",
      " nan nan nan nan nan nan nan nan nan nan nan nan nan nan nan nan nan nan\n",
      " nan nan nan nan nan nan nan nan nan nan nan nan nan nan nan nan nan nan\n",
      " nan nan nan nan nan nan nan nan nan nan nan nan nan nan nan nan nan nan\n",
      " nan nan nan nan nan nan nan nan nan nan nan nan nan nan nan nan nan nan\n",
      " nan nan nan nan nan nan nan nan nan nan nan nan nan nan nan nan nan nan\n",
      " nan nan nan nan nan nan nan nan nan nan nan nan nan nan nan nan nan nan\n",
      " nan nan nan nan nan nan nan nan nan nan nan nan nan nan nan nan nan nan\n",
      " nan nan nan nan nan nan nan nan nan nan nan nan nan nan nan nan nan nan\n",
      " nan nan nan nan nan nan nan nan nan nan nan nan nan nan nan nan nan nan\n",
      " nan]\n",
      "[nan nan nan nan nan nan nan nan nan nan nan nan nan nan nan nan nan nan\n",
      " nan nan nan nan nan nan nan nan nan nan nan nan nan nan nan nan nan nan\n",
      " nan nan nan nan nan nan nan nan nan nan nan nan nan nan nan nan nan nan\n",
      " nan nan nan nan nan nan nan nan nan nan nan nan nan nan nan nan nan nan\n",
      " nan nan nan nan nan nan nan nan nan nan nan nan nan nan nan nan nan nan\n",
      " nan nan nan nan nan nan nan nan nan nan nan nan nan nan nan nan nan nan\n",
      " nan nan nan nan nan nan nan nan nan nan nan nan nan nan nan nan nan nan\n",
      " nan nan nan nan nan nan nan nan nan nan nan nan nan nan nan nan nan nan\n",
      " nan nan nan nan nan nan nan nan nan nan nan nan nan nan nan nan nan nan\n",
      " nan nan nan nan nan nan nan nan nan nan nan nan nan nan nan nan nan nan\n",
      " nan nan nan nan nan nan nan nan nan nan nan nan nan nan nan nan nan nan\n",
      " nan nan nan nan nan nan nan nan nan nan nan nan nan nan nan nan nan nan\n",
      " nan nan nan nan nan nan nan nan nan nan nan nan nan nan nan nan nan nan\n",
      " nan nan nan nan nan nan nan nan nan nan nan nan nan nan nan nan nan nan\n",
      " nan]\n",
      "[nan nan nan nan nan nan nan nan nan nan nan nan nan nan nan nan nan nan\n",
      " nan nan nan nan nan nan nan nan nan nan nan nan nan nan nan nan nan nan\n",
      " nan nan nan nan nan nan nan nan nan nan nan nan nan nan nan nan nan nan\n",
      " nan nan nan nan nan nan nan nan nan nan nan nan nan nan nan nan nan nan\n",
      " nan nan nan nan nan nan nan nan nan nan nan nan nan nan nan nan nan nan\n",
      " nan nan nan nan nan nan nan nan nan nan nan nan nan nan nan nan nan nan\n",
      " nan nan nan nan nan nan nan nan nan nan nan nan nan nan nan nan nan nan\n",
      " nan nan nan nan nan nan nan nan nan nan nan nan nan nan nan nan nan nan\n",
      " nan nan nan nan nan nan nan nan nan nan nan nan nan nan nan nan nan nan\n",
      " nan nan nan nan nan nan nan nan nan nan nan nan nan nan nan nan nan nan\n",
      " nan nan nan nan nan nan nan nan nan nan nan nan nan nan nan nan nan nan\n",
      " nan nan nan nan nan nan nan nan nan nan nan nan nan nan nan nan nan nan\n",
      " nan nan nan nan nan nan nan nan nan nan nan nan nan nan nan nan nan nan\n",
      " nan nan nan nan nan nan nan nan nan nan nan nan nan nan nan nan nan nan\n",
      " nan]\n",
      "[nan nan nan nan nan nan nan nan nan nan nan nan nan nan nan nan nan nan\n",
      " nan nan nan nan nan nan nan nan nan nan nan nan nan nan nan nan nan nan\n",
      " nan nan nan nan nan nan nan nan nan nan nan nan nan nan nan nan nan nan\n",
      " nan nan nan nan nan nan nan nan nan nan nan nan nan nan nan nan nan nan\n",
      " nan nan nan nan nan nan nan nan nan nan nan nan nan nan nan nan nan nan\n",
      " nan nan nan nan nan nan nan nan nan nan nan nan nan nan nan nan nan nan\n",
      " nan nan nan nan nan nan nan nan nan nan nan nan nan nan nan nan nan nan\n",
      " nan nan nan nan nan nan nan nan nan nan nan nan nan nan nan nan nan nan\n",
      " nan nan nan nan nan nan nan nan nan nan nan nan nan nan nan nan nan nan\n",
      " nan nan nan nan nan nan nan nan nan nan nan nan nan nan nan nan nan nan\n",
      " nan nan nan nan nan nan nan nan nan nan nan nan nan nan nan nan nan nan\n",
      " nan nan nan nan nan nan nan nan nan nan nan nan nan nan nan nan nan nan\n",
      " nan nan nan nan nan nan nan nan nan nan nan nan nan nan nan nan nan nan\n",
      " nan nan nan nan nan nan nan nan nan nan nan nan nan nan nan nan nan nan\n",
      " nan]\n"
     ]
    }
   ],
   "source": [
    "print(mu)\n",
    "mu_1 = growth_func(mu, T, b)\n",
    "print(mu_1)\n",
    "mu_2 = growth_func(mu_1, T, b)\n",
    "print(mu_2)\n",
    "mu_3 = growth_func(mu_2, T, b)\n",
    "print(mu_3)\n",
    "mu_4 = growth_func(mu_3, T, b)\n",
    "print(mu_4)"
   ]
  },
  {
   "cell_type": "code",
   "execution_count": 33,
   "id": "bcdde66b-2a10-43a4-b32b-598c215d02aa",
   "metadata": {},
   "outputs": [
    {
     "name": "stderr",
     "output_type": "stream",
     "text": [
      "C:\\Users\\Jeroe\\AppData\\Local\\Temp/ipykernel_19164/592475509.py:80: RuntimeWarning: invalid value encountered in log\n",
      "  mu_new = 1.333 * (gamma/T)**2 / np.log(0.0168 * (c/k_p)**(1/3) *\n"
     ]
    }
   ],
   "source": [
    "T_min = 3/diml_Tmin\n",
    "mu_1 = T_min\n",
    "mu_2 = growth_func(mu_1, T_min, b)"
   ]
  },
  {
   "cell_type": "code",
   "execution_count": null,
   "id": "15464f53-e5d7-4f46-8070-8ac984ef590d",
   "metadata": {},
   "outputs": [
    {
     "name": "stdout",
     "output_type": "stream",
     "text": [
      "0.02024191144580438\n",
      "nan\n"
     ]
    }
   ],
   "source": [
    "print(imping_rate(mu_1, T_min))\n",
    "print(mu_2)"
   ]
  },
  {
   "cell_type": "code",
   "execution_count": 34,
   "id": "51ebdb55-9ed0-4ff1-8354-3be39e9293af",
   "metadata": {},
   "outputs": [
    {
     "name": "stdout",
     "output_type": "stream",
     "text": [
      "3.2619550568869635\n",
      "5.602796437537267e-09\n",
      "3.541642815098709e-09\n"
     ]
    }
   ],
   "source": [
    "L = 3\n",
    "diml_T = 20\n",
    "diml_mu = 1\n",
    "\n",
    "T = L/diml_T\n",
    "mu = diml_mu*T\n",
    "\n",
    "gamma = gamma_func(T)\n",
    "k_p = imping_rate(mu, T)\n",
    "c = step_v(k_p, mu, T)\n",
    "\n",
    "print(gamma)\n",
    "print(k_p)\n",
    "print(c)"
   ]
  }
 ],
 "metadata": {
  "interpreter": {
   "hash": "71efbd933ad5910e62f07d2fc6e906efaa8b5c77c2c7a6e2422a134982b54b95"
  },
  "kernelspec": {
   "display_name": "Python 3.9.0 64-bit",
   "language": "python",
   "name": "python3"
  },
  "language_info": {
   "codemirror_mode": {
    "name": "ipython",
    "version": 3
   },
   "file_extension": ".py",
   "mimetype": "text/x-python",
   "name": "python",
   "nbconvert_exporter": "python",
   "pygments_lexer": "ipython3",
   "version": "3.9.0"
  }
 },
 "nbformat": 4,
 "nbformat_minor": 5
}
